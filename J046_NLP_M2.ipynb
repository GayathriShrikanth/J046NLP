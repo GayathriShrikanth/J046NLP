{
  "nbformat": 4,
  "nbformat_minor": 0,
  "metadata": {
    "colab": {
      "name": "J046_NLP_M2.ipynb",
      "provenance": [],
      "collapsed_sections": [],
      "mount_file_id": "16JHtN58xmr5AqTS5iN0iRh9MBHIEo5TS",
      "authorship_tag": "ABX9TyOvbw/oym31kEvYkQdnzEtX",
      "include_colab_link": true
    },
    "kernelspec": {
      "name": "python3",
      "display_name": "Python 3"
    },
    "accelerator": "GPU"
  },
  "cells": [
    {
      "cell_type": "markdown",
      "metadata": {
        "id": "view-in-github",
        "colab_type": "text"
      },
      "source": [
        "<a href=\"https://colab.research.google.com/github/GayathriShrikanth/J046NLP/blob/master/J046_NLP_M2.ipynb\" target=\"_parent\"><img src=\"https://colab.research.google.com/assets/colab-badge.svg\" alt=\"Open In Colab\"/></a>"
      ]
    },
    {
      "cell_type": "markdown",
      "metadata": {
        "id": "irGDxeLGUjtw",
        "colab_type": "text"
      },
      "source": [
        "Gayathri Shrikanth\n",
        "J046\n",
        "NLP M2\n"
      ]
    },
    {
      "cell_type": "code",
      "metadata": {
        "id": "-YyawhOwQ2SC",
        "colab_type": "code",
        "outputId": "7e494fc2-7fa6-4d46-ca0d-8ab213b9458f",
        "colab": {
          "base_uri": "https://localhost:8080/",
          "height": 230
        }
      },
      "source": [
        "import nltk\n",
        "import itertools\n",
        "import pandas as pd\n",
        "from gensim import models\n",
        "from nltk import word_tokenize\n",
        "from nltk.corpus import stopwords\n",
        "from gensim.models import Word2Vec\n",
        "from itertools import combinations\n",
        "from string import digits,punctuation \n",
        "from nltk.tokenize import word_tokenize\n",
        "from gensim.test.utils import get_tmpfile, common_texts\n",
        "from bs4 import BeautifulSoup\n",
        "import re\n",
        "from sklearn.feature_extraction.text import TfidfVectorizer\n",
        "from sklearn.decomposition import LatentDirichletAllocation as LDA\n",
        "from pyLDAvis import sklearn as sklearn_lda\n",
        "import pyLDAvis\n",
        "import os\n",
        "\n",
        "\n",
        "\n",
        "nltk.download('punkt')\n",
        "nltk.download('punkt')\n",
        "nltk.download('wordnet')\n",
        "nltk.download('stopwords') \n",
        "nltk.download('averaged_perceptron_tagger')\n",
        "\n",
        "remove_digits = str.maketrans('', '', digits)\n",
        "stop_words = stopwords.words('german')\n"
      ],
      "execution_count": 293,
      "outputs": [
        {
          "output_type": "stream",
          "text": [
            "[nltk_data] Downloading package punkt to /root/nltk_data...\n",
            "[nltk_data]   Package punkt is already up-to-date!\n",
            "[nltk_data] Downloading package punkt to /root/nltk_data...\n",
            "[nltk_data]   Package punkt is already up-to-date!\n",
            "[nltk_data] Downloading package wordnet to /root/nltk_data...\n",
            "[nltk_data]   Package wordnet is already up-to-date!\n",
            "[nltk_data] Downloading package stopwords to /root/nltk_data...\n",
            "[nltk_data]   Package stopwords is already up-to-date!\n",
            "[nltk_data] Downloading package averaged_perceptron_tagger to\n",
            "[nltk_data]     /root/nltk_data...\n",
            "[nltk_data]   Package averaged_perceptron_tagger is already up-to-\n",
            "[nltk_data]       date!\n"
          ],
          "name": "stdout"
        }
      ]
    },
    {
      "cell_type": "markdown",
      "metadata": {
        "id": "s3NTxMU4UzK0",
        "colab_type": "text"
      },
      "source": [
        "Reading the dataset"
      ]
    },
    {
      "cell_type": "code",
      "metadata": {
        "id": "soekJW2iLxjh",
        "colab_type": "code",
        "outputId": "dd94b670-9cef-442e-c4c7-896a56925b81",
        "colab": {
          "base_uri": "https://localhost:8080/",
          "height": 372
        }
      },
      "source": [
        "! wget https://github.com/amsurve/J050_sem6_nlp/blob/master/datasets/10k-german-news-articles.zip?raw=true\n"
      ],
      "execution_count": 274,
      "outputs": [
        {
          "output_type": "stream",
          "text": [
            "--2020-03-03 16:41:36--  https://github.com/amsurve/J050_sem6_nlp/blob/master/datasets/10k-german-news-articles.zip?raw=true\n",
            "Resolving github.com (github.com)... 140.82.118.4\n",
            "Connecting to github.com (github.com)|140.82.118.4|:443... connected.\n",
            "HTTP request sent, awaiting response... 302 Found\n",
            "Location: https://github.com/amsurve/J050_sem6_nlp/raw/master/datasets/10k-german-news-articles.zip [following]\n",
            "--2020-03-03 16:41:37--  https://github.com/amsurve/J050_sem6_nlp/raw/master/datasets/10k-german-news-articles.zip\n",
            "Reusing existing connection to github.com:443.\n",
            "HTTP request sent, awaiting response... 302 Found\n",
            "Location: https://media.githubusercontent.com/media/amsurve/J050_sem6_nlp/master/datasets/10k-german-news-articles.zip [following]\n",
            "--2020-03-03 16:41:37--  https://media.githubusercontent.com/media/amsurve/J050_sem6_nlp/master/datasets/10k-german-news-articles.zip\n",
            "Resolving media.githubusercontent.com (media.githubusercontent.com)... 151.101.0.133, 151.101.64.133, 151.101.128.133, ...\n",
            "Connecting to media.githubusercontent.com (media.githubusercontent.com)|151.101.0.133|:443... connected.\n",
            "HTTP request sent, awaiting response... 200 OK\n",
            "Length: 128989980 (123M) [application/zip]\n",
            "Saving to: ‘10k-german-news-articles.zip?raw=true.1’\n",
            "\n",
            "10k-german-news-art 100%[===================>] 123.01M   190MB/s    in 0.6s    \n",
            "\n",
            "2020-03-03 16:41:40 (190 MB/s) - ‘10k-german-news-articles.zip?raw=true.1’ saved [128989980/128989980]\n",
            "\n"
          ],
          "name": "stdout"
        }
      ]
    },
    {
      "cell_type": "code",
      "metadata": {
        "id": "AureXOVgMKEb",
        "colab_type": "code",
        "outputId": "87dbfd7d-2d6b-4ab0-ebc0-6220604de800",
        "colab": {
          "base_uri": "https://localhost:8080/",
          "height": 70
        }
      },
      "source": [
        "# Unzipping the Datasets\n",
        "! mkdir 10kGNAD\n",
        "! unzip 10k-german-news-articles.zip?raw=true -d 10kGNAD"
      ],
      "execution_count": 275,
      "outputs": [
        {
          "output_type": "stream",
          "text": [
            "mkdir: cannot create directory ‘10kGNAD’: File exists\n",
            "Archive:  10k-german-news-articles.zip?raw=true\n",
            "replace 10kGNAD/Annotations.csv? [y]es, [n]o, [A]ll, [N]one, [r]ename: "
          ],
          "name": "stdout"
        }
      ]
    },
    {
      "cell_type": "code",
      "metadata": {
        "id": "CgUsq9Q2e24z",
        "colab_type": "code",
        "outputId": "f4e894ee-1a1a-45f8-d53c-3d515c2f6b34",
        "colab": {
          "base_uri": "https://localhost:8080/",
          "height": 194
        }
      },
      "source": [
        "articles=pd.read_csv(\"10kGNAD/Articles.csv\")\n",
        "articles.head()"
      ],
      "execution_count": 276,
      "outputs": [
        {
          "output_type": "execute_result",
          "data": {
            "text/html": [
              "<div>\n",
              "<style scoped>\n",
              "    .dataframe tbody tr th:only-of-type {\n",
              "        vertical-align: middle;\n",
              "    }\n",
              "\n",
              "    .dataframe tbody tr th {\n",
              "        vertical-align: top;\n",
              "    }\n",
              "\n",
              "    .dataframe thead th {\n",
              "        text-align: right;\n",
              "    }\n",
              "</style>\n",
              "<table border=\"1\" class=\"dataframe\">\n",
              "  <thead>\n",
              "    <tr style=\"text-align: right;\">\n",
              "      <th></th>\n",
              "      <th>ID_Article</th>\n",
              "      <th>Path</th>\n",
              "      <th>publishingDate</th>\n",
              "      <th>Title</th>\n",
              "      <th>Body</th>\n",
              "    </tr>\n",
              "  </thead>\n",
              "  <tbody>\n",
              "    <tr>\n",
              "      <th>0</th>\n",
              "      <td>1</td>\n",
              "      <td>Newsroom/User/Community</td>\n",
              "      <td>2012-05-26 03:00:19.23</td>\n",
              "      <td>Die Newsletter von derStandard.at</td>\n",
              "      <td>&lt;div class=\"section\" id=\"content-main\" itempro...</td>\n",
              "    </tr>\n",
              "    <tr>\n",
              "      <th>1</th>\n",
              "      <td>2</td>\n",
              "      <td>Newsroom/User/Community/Regeln</td>\n",
              "      <td>2012-05-26 12:12:19.46</td>\n",
              "      <td>Werden Sie Teil von derStandard.at!</td>\n",
              "      <td>&lt;div class=\"diashow\" id=\"objectContent\"&gt;&lt;meta ...</td>\n",
              "    </tr>\n",
              "    <tr>\n",
              "      <th>2</th>\n",
              "      <td>3</td>\n",
              "      <td>Diverses/mobil</td>\n",
              "      <td>2013-11-22 12:15:00.00</td>\n",
              "      <td>Die Android App von derStandard.at</td>\n",
              "      <td>&lt;div class=\"section\" id=\"content-main\" itempro...</td>\n",
              "    </tr>\n",
              "    <tr>\n",
              "      <th>3</th>\n",
              "      <td>4</td>\n",
              "      <td>Newsroom/User/mitmachen/Mitreden</td>\n",
              "      <td>2014-08-13 05:30:00.00</td>\n",
              "      <td>Welche Erfahrungen haben Sie als Linkshänder g...</td>\n",
              "      <td>&lt;div class=\"section\" id=\"content-main\" itempro...</td>\n",
              "    </tr>\n",
              "    <tr>\n",
              "      <th>4</th>\n",
              "      <td>5</td>\n",
              "      <td>Newsroom/User/mitmachen/Mitreden</td>\n",
              "      <td>2014-08-27 12:27:01.09</td>\n",
              "      <td>Wie haben Sie das Jahr 1989 erlebt?</td>\n",
              "      <td>&lt;div class=\"section\" id=\"content-main\" itempro...</td>\n",
              "    </tr>\n",
              "  </tbody>\n",
              "</table>\n",
              "</div>"
            ],
            "text/plain": [
              "   ID_Article  ...                                               Body\n",
              "0           1  ...  <div class=\"section\" id=\"content-main\" itempro...\n",
              "1           2  ...  <div class=\"diashow\" id=\"objectContent\"><meta ...\n",
              "2           3  ...  <div class=\"section\" id=\"content-main\" itempro...\n",
              "3           4  ...  <div class=\"section\" id=\"content-main\" itempro...\n",
              "4           5  ...  <div class=\"section\" id=\"content-main\" itempro...\n",
              "\n",
              "[5 rows x 5 columns]"
            ]
          },
          "metadata": {
            "tags": []
          },
          "execution_count": 276
        }
      ]
    },
    {
      "cell_type": "code",
      "metadata": {
        "id": "flGTW1boe28J",
        "colab_type": "code",
        "colab": {}
      },
      "source": [
        "#Function to remove html script\n",
        "def remove_html(str):\n",
        "  soup = BeautifulSoup(str)\n",
        "  for script in soup([\"script\", \"style\"]):\n",
        "      script.extract()    # rip it out\n",
        "  text = soup.get_text()\n",
        "  lines = (line.strip() for line in text.splitlines())\n",
        "  block = (phrase.strip() for line in lines for phrase in line.split(\"  \"))\n",
        "  text = '\\n'.join(block for block in block if block)\n",
        "  return(text)"
      ],
      "execution_count": 0,
      "outputs": []
    },
    {
      "cell_type": "code",
      "metadata": {
        "id": "cZAtZD-ge2z4",
        "colab_type": "code",
        "colab": {}
      },
      "source": [
        "#Functions for preprocessing\n",
        "def prepro(str):\n",
        "  str = str.lower()\n",
        "  str = str.translate(remove_digits)\n",
        "  str = re.sub(r'[^\\w\\s]',' ',str)\n",
        "  token = word_tokenize(str)\n",
        "  words = [word for word in token if word not in stop_words and word not in punctuation]\n",
        "  return words\n",
        "\n",
        "def prepro2(str):\n",
        "  str = str.lower()\n",
        "  str = str.translate(remove_digits)\n",
        "  str = re.sub(r'[^\\w\\s]',' ',str)\n",
        "  return str\n",
        "\n",
        "#Pipeline function\n",
        "def pipeline(data):\n",
        "  text=word_tokenize(data)\n",
        "  tokenizer = MWETokenizer()\n",
        "  textmw= tokenizer.tokenize(data.split())\n",
        "  lemmatizer = WordNetLemmatizer()\n",
        "  text3=lemmatizer.lemmatize(data)\n",
        "  text4=nltk.pos_tag(data)\n",
        "  words={\"tokenizer\":text,\"lemmetizer\":text3, \"pos_tag\":text4}\n",
        "  return words"
      ],
      "execution_count": 0,
      "outputs": []
    },
    {
      "cell_type": "code",
      "metadata": {
        "id": "y0hQxDmjfTNM",
        "colab_type": "code",
        "colab": {}
      },
      "source": [
        "articles[\"text\"]=articles.Body.apply(remove_html)\n",
        "articles['Text_tok'] = articles.text.apply(prepro)"
      ],
      "execution_count": 0,
      "outputs": []
    },
    {
      "cell_type": "code",
      "metadata": {
        "id": "g0Uzl8ALfTsa",
        "colab_type": "code",
        "outputId": "cc2bbb6d-b669-442a-a00b-5aefc977bfe0",
        "colab": {
          "base_uri": "https://localhost:8080/",
          "height": 295
        }
      },
      "source": [
        "#Df considering only first 500 rows\n",
        "df=articles[:1000]\n",
        "df=pd.DataFrame(df)\n",
        "df.head()"
      ],
      "execution_count": 294,
      "outputs": [
        {
          "output_type": "execute_result",
          "data": {
            "text/html": [
              "<div>\n",
              "<style scoped>\n",
              "    .dataframe tbody tr th:only-of-type {\n",
              "        vertical-align: middle;\n",
              "    }\n",
              "\n",
              "    .dataframe tbody tr th {\n",
              "        vertical-align: top;\n",
              "    }\n",
              "\n",
              "    .dataframe thead th {\n",
              "        text-align: right;\n",
              "    }\n",
              "</style>\n",
              "<table border=\"1\" class=\"dataframe\">\n",
              "  <thead>\n",
              "    <tr style=\"text-align: right;\">\n",
              "      <th></th>\n",
              "      <th>ID_Article</th>\n",
              "      <th>Path</th>\n",
              "      <th>publishingDate</th>\n",
              "      <th>Title</th>\n",
              "      <th>Body</th>\n",
              "      <th>text</th>\n",
              "      <th>Text_tok</th>\n",
              "    </tr>\n",
              "  </thead>\n",
              "  <tbody>\n",
              "    <tr>\n",
              "      <th>0</th>\n",
              "      <td>1</td>\n",
              "      <td>Newsroom/User/Community</td>\n",
              "      <td>2012-05-26 03:00:19.23</td>\n",
              "      <td>Die Newsletter von derStandard.at</td>\n",
              "      <td>&lt;div class=\"section\" id=\"content-main\" itempro...</td>\n",
              "      <td>Abonnieren Sie einen unserer Newsletter und la...</td>\n",
              "      <td>[abonnieren, unserer, newsletter, lassen, aktu...</td>\n",
              "    </tr>\n",
              "    <tr>\n",
              "      <th>1</th>\n",
              "      <td>2</td>\n",
              "      <td>Newsroom/User/Community/Regeln</td>\n",
              "      <td>2012-05-26 12:12:19.46</td>\n",
              "      <td>Werden Sie Teil von derStandard.at!</td>\n",
              "      <td>&lt;div class=\"diashow\" id=\"objectContent\"&gt;&lt;meta ...</td>\n",
              "      <td>Werden Sie Teil von derStandard.at!10. Dezembe...</td>\n",
              "      <td>[teil, derstandard, at, dezember, postingsmit,...</td>\n",
              "    </tr>\n",
              "    <tr>\n",
              "      <th>2</th>\n",
              "      <td>3</td>\n",
              "      <td>Diverses/mobil</td>\n",
              "      <td>2013-11-22 12:15:00.00</td>\n",
              "      <td>Die Android App von derStandard.at</td>\n",
              "      <td>&lt;div class=\"section\" id=\"content-main\" itempro...</td>\n",
              "      <td>Die Smartphone-App bietet Nachrichten in Echtz...</td>\n",
              "      <td>[smartphone, app, bietet, nachrichten, echtzei...</td>\n",
              "    </tr>\n",
              "    <tr>\n",
              "      <th>3</th>\n",
              "      <td>4</td>\n",
              "      <td>Newsroom/User/mitmachen/Mitreden</td>\n",
              "      <td>2014-08-13 05:30:00.00</td>\n",
              "      <td>Welche Erfahrungen haben Sie als Linkshänder g...</td>\n",
              "      <td>&lt;div class=\"section\" id=\"content-main\" itempro...</td>\n",
              "      <td>Wie sieht Ihr Alltag als Linkshänder aus? Erle...</td>\n",
              "      <td>[sieht, alltag, linkshänder, erledigen, arbeit...</td>\n",
              "    </tr>\n",
              "    <tr>\n",
              "      <th>4</th>\n",
              "      <td>5</td>\n",
              "      <td>Newsroom/User/mitmachen/Mitreden</td>\n",
              "      <td>2014-08-27 12:27:01.09</td>\n",
              "      <td>Wie haben Sie das Jahr 1989 erlebt?</td>\n",
              "      <td>&lt;div class=\"section\" id=\"content-main\" itempro...</td>\n",
              "      <td>Erzählen Sie uns von Ihren Erlebnissen rund um...</td>\n",
              "      <td>[erzählen, erlebnissen, rund, weltpolitischen,...</td>\n",
              "    </tr>\n",
              "  </tbody>\n",
              "</table>\n",
              "</div>"
            ],
            "text/plain": [
              "   ID_Article  ...                                           Text_tok\n",
              "0           1  ...  [abonnieren, unserer, newsletter, lassen, aktu...\n",
              "1           2  ...  [teil, derstandard, at, dezember, postingsmit,...\n",
              "2           3  ...  [smartphone, app, bietet, nachrichten, echtzei...\n",
              "3           4  ...  [sieht, alltag, linkshänder, erledigen, arbeit...\n",
              "4           5  ...  [erzählen, erlebnissen, rund, weltpolitischen,...\n",
              "\n",
              "[5 rows x 7 columns]"
            ]
          },
          "metadata": {
            "tags": []
          },
          "execution_count": 294
        }
      ]
    },
    {
      "cell_type": "markdown",
      "metadata": {
        "id": "jgSXa_QWXF56",
        "colab_type": "text"
      },
      "source": [
        "Main function to predict topics"
      ]
    },
    {
      "cell_type": "code",
      "metadata": {
        "id": "DD579RgYgVH6",
        "colab_type": "code",
        "colab": {}
      },
      "source": [
        "#function to classify using LDA\n",
        "def classify(df,x):\n",
        "  def dummy_fun(doc):\n",
        "      return doc\n",
        "  vectorizer = TfidfVectorizer(analyzer='word',tokenizer=dummy_fun,preprocessor=dummy_fun,token_pattern=None)\n",
        "  vectors = vectorizer.fit_transform(df[x])\n",
        "  feature_names = vectorizer.get_feature_names()\n",
        "  dense = vectors.todense()\n",
        "  denselist = dense.tolist()\n",
        "  tfidf_df = pd.DataFrame(denselist, columns=feature_names)\n",
        "  topics=[]\n",
        "  number_topics = 5\n",
        "  number_words = 5\n",
        "  lda = LDA(n_components=number_topics, n_jobs=-1)\n",
        "  lda.fit(tfidf_df)\n",
        "  print(\"Topics found via LDA:\")\n",
        "  words = vectorizer.get_feature_names()\n",
        "  for topic_idx, topic in enumerate(lda.components_):  \n",
        "        topics.append(\" \".join([words[i] for i in topic.argsort()[:-number_words - 1:-1]]))\n",
        "        print(\"\\nTopic #%d:\" % topic_idx)\n",
        "        print(\" \".join([words[i] for i in topic.argsort()[:-number_words - 1:-1]]))\n",
        "  prob_list=lda.transform(tfidf_df)\n",
        "  top=[]\n",
        "  for prob in prob_list:\n",
        "    top.append(topics[np.argmax(prob)])\n",
        "    #df[\"topic_pred\"]=topic\n",
        "  return top\n",
        "  "
      ],
      "execution_count": 0,
      "outputs": []
    },
    {
      "cell_type": "code",
      "metadata": {
        "id": "XI8JkUtBcYp_",
        "colab_type": "code",
        "outputId": "eaee211d-772e-400e-e204-ef4e760b1a50",
        "colab": {
          "base_uri": "https://localhost:8080/",
          "height": 301
        }
      },
      "source": [
        "p_top =classify(df, \"Text_tok\")\n",
        "df[\"pred_topic\"]=p_top\n"
      ],
      "execution_count": 296,
      "outputs": [
        {
          "output_type": "stream",
          "text": [
            "Topics found via LDA:\n",
            "\n",
            "Topic #0:\n",
            "mehr prozent wien sagte sei\n",
            "\n",
            "Topic #1:\n",
            "sei mehr österreich fpö zwei\n",
            "\n",
            "Topic #2:\n",
            "prozent eu mehr sei wurde\n",
            "\n",
            "Topic #3:\n",
            "wurde prozent mehr us sei\n",
            "\n",
            "Topic #4:\n",
            "prozent wurde fpö apple spö\n"
          ],
          "name": "stdout"
        }
      ]
    },
    {
      "cell_type": "code",
      "metadata": {
        "id": "aTTrfK9yfe3u",
        "colab_type": "code",
        "colab": {
          "base_uri": "https://localhost:8080/",
          "height": 301
        },
        "outputId": "c6467503-8558-412c-c3c5-b822f84ca15e"
      },
      "source": [
        "df['Title_tok'] = df.text.apply(prepro)\n",
        "t_top =classify(df, 'Title_tok')\n",
        "df[\"pred_title\"]=t_top\n"
      ],
      "execution_count": 297,
      "outputs": [
        {
          "output_type": "stream",
          "text": [
            "Topics found via LDA:\n",
            "\n",
            "Topic #0:\n",
            "prozent fpö spö mehr österreich\n",
            "\n",
            "Topic #1:\n",
            "mehr eu sei österreich wurde\n",
            "\n",
            "Topic #2:\n",
            "eu mehr euro apa sagte\n",
            "\n",
            "Topic #3:\n",
            "apple wurde zwei us euro\n",
            "\n",
            "Topic #4:\n",
            "apple worden agenturmeldungen basierenden volltext\n"
          ],
          "name": "stdout"
        }
      ]
    },
    {
      "cell_type": "code",
      "metadata": {
        "id": "2xhbRu9pffC_",
        "colab_type": "code",
        "outputId": "38dea280-d7fe-4018-cbeb-57c8aaaebde6",
        "colab": {
          "base_uri": "https://localhost:8080/",
          "height": 484
        }
      },
      "source": [
        "df['pre_title'] = df.Title.apply(prepro)\n",
        "df['pre_topic_tok'] = df.pred_topic.apply(prepro)\n",
        "df['pre_title_tok'] = df.pred_title.apply(prepro)\n",
        "df=df.drop([\"Text_tok\"], 1)\n",
        "df.head()"
      ],
      "execution_count": 298,
      "outputs": [
        {
          "output_type": "execute_result",
          "data": {
            "text/html": [
              "<div>\n",
              "<style scoped>\n",
              "    .dataframe tbody tr th:only-of-type {\n",
              "        vertical-align: middle;\n",
              "    }\n",
              "\n",
              "    .dataframe tbody tr th {\n",
              "        vertical-align: top;\n",
              "    }\n",
              "\n",
              "    .dataframe thead th {\n",
              "        text-align: right;\n",
              "    }\n",
              "</style>\n",
              "<table border=\"1\" class=\"dataframe\">\n",
              "  <thead>\n",
              "    <tr style=\"text-align: right;\">\n",
              "      <th></th>\n",
              "      <th>ID_Article</th>\n",
              "      <th>Path</th>\n",
              "      <th>publishingDate</th>\n",
              "      <th>Title</th>\n",
              "      <th>Body</th>\n",
              "      <th>text</th>\n",
              "      <th>pred_topic</th>\n",
              "      <th>Title_tok</th>\n",
              "      <th>pred_title</th>\n",
              "      <th>pre_title</th>\n",
              "      <th>pre_topic_tok</th>\n",
              "      <th>pre_title_tok</th>\n",
              "    </tr>\n",
              "  </thead>\n",
              "  <tbody>\n",
              "    <tr>\n",
              "      <th>0</th>\n",
              "      <td>1</td>\n",
              "      <td>Newsroom/User/Community</td>\n",
              "      <td>2012-05-26 03:00:19.23</td>\n",
              "      <td>Die Newsletter von derStandard.at</td>\n",
              "      <td>&lt;div class=\"section\" id=\"content-main\" itempro...</td>\n",
              "      <td>Abonnieren Sie einen unserer Newsletter und la...</td>\n",
              "      <td>mehr prozent wien sagte sei</td>\n",
              "      <td>[abonnieren, unserer, newsletter, lassen, aktu...</td>\n",
              "      <td>mehr eu sei österreich wurde</td>\n",
              "      <td>[newsletter, derstandard, at]</td>\n",
              "      <td>[mehr, prozent, wien, sagte, sei]</td>\n",
              "      <td>[mehr, eu, sei, österreich, wurde]</td>\n",
              "    </tr>\n",
              "    <tr>\n",
              "      <th>1</th>\n",
              "      <td>2</td>\n",
              "      <td>Newsroom/User/Community/Regeln</td>\n",
              "      <td>2012-05-26 12:12:19.46</td>\n",
              "      <td>Werden Sie Teil von derStandard.at!</td>\n",
              "      <td>&lt;div class=\"diashow\" id=\"objectContent\"&gt;&lt;meta ...</td>\n",
              "      <td>Werden Sie Teil von derStandard.at!10. Dezembe...</td>\n",
              "      <td>mehr prozent wien sagte sei</td>\n",
              "      <td>[teil, derstandard, at, dezember, postingsmit,...</td>\n",
              "      <td>prozent fpö spö mehr österreich</td>\n",
              "      <td>[teil, derstandard, at]</td>\n",
              "      <td>[mehr, prozent, wien, sagte, sei]</td>\n",
              "      <td>[prozent, fpö, spö, mehr, österreich]</td>\n",
              "    </tr>\n",
              "    <tr>\n",
              "      <th>2</th>\n",
              "      <td>3</td>\n",
              "      <td>Diverses/mobil</td>\n",
              "      <td>2013-11-22 12:15:00.00</td>\n",
              "      <td>Die Android App von derStandard.at</td>\n",
              "      <td>&lt;div class=\"section\" id=\"content-main\" itempro...</td>\n",
              "      <td>Die Smartphone-App bietet Nachrichten in Echtz...</td>\n",
              "      <td>prozent eu mehr sei wurde</td>\n",
              "      <td>[smartphone, app, bietet, nachrichten, echtzei...</td>\n",
              "      <td>prozent fpö spö mehr österreich</td>\n",
              "      <td>[android, app, derstandard, at]</td>\n",
              "      <td>[prozent, eu, mehr, sei, wurde]</td>\n",
              "      <td>[prozent, fpö, spö, mehr, österreich]</td>\n",
              "    </tr>\n",
              "    <tr>\n",
              "      <th>3</th>\n",
              "      <td>4</td>\n",
              "      <td>Newsroom/User/mitmachen/Mitreden</td>\n",
              "      <td>2014-08-13 05:30:00.00</td>\n",
              "      <td>Welche Erfahrungen haben Sie als Linkshänder g...</td>\n",
              "      <td>&lt;div class=\"section\" id=\"content-main\" itempro...</td>\n",
              "      <td>Wie sieht Ihr Alltag als Linkshänder aus? Erle...</td>\n",
              "      <td>wurde prozent mehr us sei</td>\n",
              "      <td>[sieht, alltag, linkshänder, erledigen, arbeit...</td>\n",
              "      <td>prozent fpö spö mehr österreich</td>\n",
              "      <td>[erfahrungen, linkshänder, gemacht]</td>\n",
              "      <td>[wurde, prozent, mehr, us, sei]</td>\n",
              "      <td>[prozent, fpö, spö, mehr, österreich]</td>\n",
              "    </tr>\n",
              "    <tr>\n",
              "      <th>4</th>\n",
              "      <td>5</td>\n",
              "      <td>Newsroom/User/mitmachen/Mitreden</td>\n",
              "      <td>2014-08-27 12:27:01.09</td>\n",
              "      <td>Wie haben Sie das Jahr 1989 erlebt?</td>\n",
              "      <td>&lt;div class=\"section\" id=\"content-main\" itempro...</td>\n",
              "      <td>Erzählen Sie uns von Ihren Erlebnissen rund um...</td>\n",
              "      <td>wurde prozent mehr us sei</td>\n",
              "      <td>[erzählen, erlebnissen, rund, weltpolitischen,...</td>\n",
              "      <td>prozent fpö spö mehr österreich</td>\n",
              "      <td>[jahr, erlebt]</td>\n",
              "      <td>[wurde, prozent, mehr, us, sei]</td>\n",
              "      <td>[prozent, fpö, spö, mehr, österreich]</td>\n",
              "    </tr>\n",
              "  </tbody>\n",
              "</table>\n",
              "</div>"
            ],
            "text/plain": [
              "   ID_Article  ...                          pre_title_tok\n",
              "0           1  ...     [mehr, eu, sei, österreich, wurde]\n",
              "1           2  ...  [prozent, fpö, spö, mehr, österreich]\n",
              "2           3  ...  [prozent, fpö, spö, mehr, österreich]\n",
              "3           4  ...  [prozent, fpö, spö, mehr, österreich]\n",
              "4           5  ...  [prozent, fpö, spö, mehr, österreich]\n",
              "\n",
              "[5 rows x 12 columns]"
            ]
          },
          "metadata": {
            "tags": []
          },
          "execution_count": 298
        }
      ]
    },
    {
      "cell_type": "code",
      "metadata": {
        "id": "Ce1MzFfv5Qa-",
        "colab_type": "code",
        "colab": {}
      },
      "source": [
        "def l2s(plist):\n",
        "  return str(' '.join(plist))\n",
        "df['pre_title'] = df.pre_title.apply(l2s)"
      ],
      "execution_count": 0,
      "outputs": []
    },
    {
      "cell_type": "markdown",
      "metadata": {
        "id": "tYz6mVi-Zgga",
        "colab_type": "text"
      },
      "source": [
        "Finding similarity"
      ]
    },
    {
      "cell_type": "code",
      "metadata": {
        "id": "4V8H1VMgHmCM",
        "colab_type": "code",
        "colab": {}
      },
      "source": [
        "tfidf_vectorizer = TfidfVectorizer(analyzer='word')\n",
        "actual_title_vectors = tfidf_vectorizer.fit_transform(df['pre_title'])\n",
        "predicted_title_vectors = tfidf_vectorizer.transform(df[\"pred_topic\"])\n",
        "actual_title_list=actual_title_vectors.todense().tolist()\n",
        "predicted_title_list=predicted_title_vectors.todense().tolist()\n"
      ],
      "execution_count": 0,
      "outputs": []
    },
    {
      "cell_type": "markdown",
      "metadata": {
        "id": "_BsTlyRScfZa",
        "colab_type": "text"
      },
      "source": [
        "Similarity score"
      ]
    },
    {
      "cell_type": "code",
      "metadata": {
        "id": "AEVKGOcnIu9P",
        "colab_type": "code",
        "colab": {
          "base_uri": "https://localhost:8080/",
          "height": 72
        },
        "outputId": "dc9ff01b-3b72-45f7-c66b-38a5b4f62d43"
      },
      "source": [
        "import scipy\n",
        "cosine_sim = []\n",
        "for i in range(0,1000):\n",
        "  cosine_sim.append(scipy.spatial.distance.cosine(actual_title_list[i], predicted_title_list[i]))\n",
        "print(cosine_sim)\n",
        "avg=0\n",
        "for j in cosine_sim:\n",
        "  if j==1.0:\n",
        "    avg+=j\n",
        "print(\"Average similarity score is\", avg/len(cosine_sim))"
      ],
      "execution_count": 302,
      "outputs": [
        {
          "output_type": "stream",
          "text": [
            "[1.0, 1.0, 1.0, 1.0, 1.0, 1.0, 1.0, 1.0, 1.0, 1.0, 1.0, 1.0, 1.0, 1.0, 1.0, 1.0, 1.0, 0.8085134665415266, 1.0, 1.0, 1.0, 1.0, 1.0, 1.0, 1.0, 1.0, 1.0, 1.0, 1.0, 1.0, 1.0, 1.0, 1.0, 0.8509927829354389, 1.0, 1.0, 1.0, 1.0, 1.0, 1.0, 1.0, 1.0, 1.0, 1.0, 1.0, 1.0, 1.0, 1.0, 1.0, 1.0, 1.0, 1.0, 1.0, 1.0, 1.0, 1.0, 1.0, 1.0, 1.0, 1.0, 1.0, 1.0, 1.0, 1.0, 1.0, 1.0, 1.0, 0.8962052227929205, 1.0, 1.0, 1.0, 1.0, 1.0, 0.8735046261179467, 1.0, 0.8238872445547061, 1.0, 1.0, 1.0, 1.0, 1.0, 1.0, 1.0, 1.0, 1.0, 1.0, 1.0, 1.0, 1.0, 1.0, 1.0, 1.0, 1.0, 1.0, 1.0, 1.0, 1.0, 1.0, 1.0, 1.0, 1.0, 1.0, 1.0, 1.0, 1.0, 1.0, 1.0, 1.0, 1.0, 1.0, 1.0, 1.0, 1.0, 1.0, 1.0, 1.0, 1.0, 1.0, 1.0, 1.0, 1.0, 1.0, 1.0, 1.0, 1.0, 1.0, 1.0, 1.0, 1.0, 1.0, 1.0, 1.0, 1.0, 1.0, 1.0, 1.0, 1.0, 1.0, 1.0, 1.0, 1.0, 1.0, 0.8751969493620022, 1.0, 1.0, 1.0, 1.0, 1.0, 1.0, 1.0, 1.0, 1.0, 1.0, 1.0, 1.0, 1.0, 0.8323773780526912, 0.7628231371864728, 1.0, 1.0, 1.0, 1.0, 1.0, 1.0, 1.0, 1.0, 1.0, 1.0, 1.0, 1.0, 0.7722783406070601, 1.0, 1.0, 1.0, 1.0, 1.0, 1.0, 1.0, 1.0, 1.0, 1.0, 1.0, 1.0, 1.0, 1.0, 1.0, 1.0, 1.0, 1.0, 1.0, 0.875064269198064, 1.0, 1.0, 1.0, 1.0, 1.0, 1.0, 1.0, 1.0, 1.0, 1.0, 1.0, 1.0, 1.0, 1.0, 1.0, 1.0, 1.0, 1.0, 1.0, 1.0, 1.0, 1.0, 1.0, 1.0, 1.0, 1.0, 1.0, 1.0, 1.0, 1.0, 1.0, 1.0, 0.8343356916419161, 1.0, 1.0, 1.0, 1.0, 1.0, 1.0, 1.0, 1.0, 1.0, 1.0, 1.0, 1.0, 1.0, 1.0, 1.0, 1.0, 1.0, 1.0, 1.0, 1.0, 1.0, 1.0, 1.0, 1.0, 1.0, 1.0, 1.0, 1.0, 1.0, 1.0, 1.0, 1.0, 1.0, 1.0, 1.0, 1.0, 1.0, 1.0, 1.0, 1.0, 1.0, 1.0, 1.0, 1.0, 1.0, 1.0, 1.0, 1.0, 1.0, 1.0, 1.0, 1.0, 1.0, 1.0, 1.0, 1.0, 1.0, 1.0, 1.0, 1.0, 1.0, 1.0, 1.0, 1.0, 1.0, 0.8123895146521263, 1.0, 1.0, 1.0, 1.0, 1.0, 1.0, 1.0, 1.0, 1.0, 1.0, 1.0, 1.0, 1.0, 1.0, 1.0, 1.0, 1.0, 1.0, 1.0, 1.0, 1.0, 1.0, 1.0, 1.0, 1.0, 1.0, 1.0, 1.0, 1.0, 1.0, 1.0, 1.0, 1.0, 1.0, 1.0, 1.0, 1.0, 1.0, 1.0, 1.0, 1.0, 1.0, 1.0, 1.0, 1.0, 1.0, 1.0, 1.0, 1.0, 1.0, 1.0, 1.0, 1.0, 1.0, 1.0, 1.0, 1.0, 1.0, 1.0, 1.0, 1.0, 1.0, 0.8771387027019245, 1.0, 1.0, 1.0, 1.0, 0.7833510030593884, 1.0, 1.0, 1.0, 1.0, 0.8646408946956802, 0.8677160053597834, 1.0, 1.0, 1.0, 1.0, 1.0, 1.0, 1.0, 1.0, 1.0, 1.0, 0.898795353243768, 1.0, 1.0, 1.0, 1.0, 1.0, 1.0, 1.0, 1.0, 1.0, 1.0, 1.0, 1.0, 1.0, 1.0, 1.0, 1.0, 1.0, 1.0, 1.0, 1.0, 1.0, 1.0, 1.0, 1.0, 1.0, 1.0, 1.0, 1.0, 1.0, 1.0, 1.0, 1.0, 1.0, 1.0, 1.0, 1.0, 1.0, 1.0, 1.0, 1.0, 1.0, 1.0, 1.0, 1.0, 1.0, 1.0, 1.0, 1.0, 1.0, 1.0, 1.0, 1.0, 1.0, 1.0, 1.0, 1.0, 1.0, 0.8145622907612065, 1.0, 1.0, 1.0, 1.0, 1.0, 1.0, 1.0, 1.0, 1.0, 1.0, 1.0, 1.0, 1.0, 1.0, 1.0, 0.8701250609224486, 1.0, 1.0, 1.0, 1.0, 1.0, 1.0, 1.0, 1.0, 1.0, 1.0, 1.0, 1.0, 1.0, 1.0, 1.0, 1.0, 1.0, 1.0, 1.0, 1.0, 1.0, 1.0, 1.0, 1.0, 0.8164245709486061, 1.0, 1.0, 1.0, 1.0, 1.0, 1.0, 1.0, 1.0, 1.0, 1.0, 1.0, 1.0, 1.0, 1.0, 1.0, 1.0, 1.0, 0.829250455379513, 1.0, 1.0, 1.0, 1.0, 1.0, 1.0, 1.0, 1.0, 1.0, 1.0, 1.0, 1.0, 1.0, 1.0, 1.0, 1.0, 1.0, 1.0, 1.0, 1.0, 1.0, 1.0, 1.0, 1.0, 1.0, 1.0, 1.0, 1.0, 1.0, 1.0, 1.0, 1.0, 1.0, 1.0, 1.0, 1.0, 1.0, 1.0, 1.0, 1.0, 1.0, 1.0, 1.0, 1.0, 1.0, 0.8098071597121044, 1.0, 1.0, 1.0, 1.0, 1.0, 1.0, 1.0, 1.0, 1.0, 1.0, 1.0, 1.0, 1.0, 1.0, 1.0, 1.0, 1.0, 1.0, 1.0, 1.0, 1.0, 1.0, 1.0, 1.0, 1.0, 1.0, 1.0, 1.0, 1.0, 1.0, 1.0, 1.0, 1.0, 1.0, 1.0, 1.0, 1.0, 1.0, 1.0, 1.0, 1.0, 1.0, 1.0, 1.0, 1.0, 1.0, 1.0, 1.0, 1.0, 0.8015114669393526, 1.0, 1.0, 1.0, 1.0, 1.0, 1.0, 1.0, 1.0, 1.0, 1.0, 1.0, 1.0, 1.0, 1.0, 1.0, 1.0, 1.0, 1.0, 1.0, 1.0, 1.0, 1.0, 1.0, 1.0, 1.0, 1.0, 1.0, 1.0, 1.0, 1.0, 1.0, 1.0, 1.0, 1.0, 1.0, 1.0, 0.8358824892633088, 1.0, 1.0, 1.0, 1.0, 1.0, 1.0, 1.0, 1.0, 1.0, 1.0, 1.0, 1.0, 1.0, 1.0, 1.0, 1.0, 1.0, 1.0, 1.0, 1.0, 1.0, 1.0, 1.0, 1.0, 1.0, 1.0, 0.8770020014317763, 1.0, 1.0, 1.0, 1.0, 1.0, 1.0, 1.0, 1.0, 1.0, 1.0, 1.0, 0.7419284340823935, 1.0, 1.0, 1.0, 1.0, 1.0, 1.0, 1.0, 1.0, 1.0, 1.0, 1.0, 1.0, 1.0, 1.0, 1.0, 1.0, 1.0, 0.8734016991473423, 1.0, 1.0, 1.0, 1.0, 1.0, 1.0, 1.0, 1.0, 1.0, 1.0, 1.0, 1.0, 1.0, 1.0, 1.0, 1.0, 1.0, 1.0, 1.0, 1.0, 1.0, 1.0, 1.0, 1.0, 1.0, 1.0, 1.0, 1.0, 1.0, 1.0, 1.0, 1.0, 1.0, 1.0, 1.0, 1.0, 1.0, 1.0, 1.0, 1.0, 1.0, 1.0, 1.0, 1.0, 1.0, 1.0, 1.0, 1.0, 1.0, 1.0, 1.0, 1.0, 1.0, 1.0, 0.7723778229636611, 1.0, 1.0, 1.0, 1.0, 1.0, 0.8898876788817847, 1.0, 1.0, 1.0, 1.0, 1.0, 1.0, 1.0, 1.0, 1.0, 0.8367732730205357, 1.0, 1.0, 1.0, 1.0, 1.0, 1.0, 0.8729259423152075, 1.0, 1.0, 1.0, 0.7897397817377727, 1.0, 1.0, 1.0, 1.0, 0.8809400091002434, 1.0, 1.0, 1.0, 1.0, 1.0, 1.0, 1.0, 1.0, 1.0, 1.0, 1.0, 1.0, 0.7898184287549599, 1.0, 1.0, 1.0, 1.0, 1.0, 1.0, 1.0, 1.0, 1.0, 1.0, 1.0, 1.0, 1.0, 1.0, 1.0, 1.0, 1.0, 1.0, 1.0, 1.0, 1.0, 1.0, 1.0, 0.8652090461840223, 1.0, 1.0, 0.8427991484475942, 1.0, 1.0, 1.0, 1.0, 0.8666827071839945, 0.8678152986313096, 1.0, 1.0, 1.0, 1.0, 1.0, 1.0, 1.0, 0.8435914601247577, 1.0, 0.8330667459762676, 1.0, 1.0, 1.0, 1.0, 1.0, 1.0, 1.0, 1.0, 1.0, 1.0, 1.0, 1.0, 1.0, 1.0, 1.0, 1.0, 1.0, 1.0, 0.8603013874266763, 1.0, 1.0, 1.0, 1.0, 1.0, 1.0, 1.0, 1.0, 1.0, 1.0, 1.0, 1.0, 1.0, 1.0, 1.0, 1.0, 0.886298175145694, 1.0, 1.0, 1.0, 1.0, 1.0, 1.0, 1.0, 1.0, 1.0, 1.0, 1.0, 1.0, 1.0, 1.0, 1.0, 0.8440470761890665, 1.0, 1.0, 0.8215268905731341, 1.0, 1.0, 0.7372416297921809, 1.0, 1.0, 1.0, 1.0, 1.0, 1.0, 1.0, 1.0, 1.0, 1.0, 1.0, 1.0, 1.0, 1.0, 1.0, 1.0, 1.0, 1.0, 1.0, 0.8945494934623277, 1.0, 1.0, 0.8821897281190366, 1.0, 1.0, 1.0, 1.0, 1.0, 1.0, 1.0, 1.0, 1.0, 1.0, 1.0, 1.0, 1.0, 1.0, 0.8261087784322696, 1.0, 1.0, 0.7409642833559362, 1.0, 1.0, 1.0, 1.0, 1.0, 1.0, 1.0, 1.0, 1.0, 1.0, 1.0, 1.0, 1.0, 1.0, 1.0, 1.0, 1.0, 1.0, 1.0, 0.880013719915392, 1.0, 1.0, 1.0, 1.0, 1.0, 1.0, 1.0, 1.0, 1.0, 1.0, 1.0, 1.0, 1.0, 1.0, 1.0, 1.0, 1.0, 1.0, 1.0, 1.0, 1.0, 1.0, 1.0, 1.0, 1.0, 1.0, 1.0, 1.0, 1.0, 1.0, 1.0, 1.0, 1.0, 1.0, 1.0, 1.0, 1.0, 1.0, 1.0, 1.0, 1.0, 1.0, 1.0, 1.0, 1.0, 1.0, 1.0, 1.0, 1.0, 1.0, 1.0, 1.0, 1.0, 1.0, 1.0, 1.0]\n",
            "Average similarity score is 0.95\n"
          ],
          "name": "stdout"
        }
      ]
    },
    {
      "cell_type": "markdown",
      "metadata": {
        "id": "KR4IVYuwciyQ",
        "colab_type": "text"
      },
      "source": [
        "pyLDAvis vizualization"
      ]
    },
    {
      "cell_type": "code",
      "metadata": {
        "id": "5xN7Mfv5lc4q",
        "colab_type": "code",
        "outputId": "46de589f-18f9-42ed-8ce4-abb5ab159d10",
        "colab": {
          "base_uri": "https://localhost:8080/",
          "height": 1000
        }
      },
      "source": [
        "#!pip install pyLDAvis\n",
        "lda_display = sklearn_lda.prepare(lda,np.matrix(df3),vectorizer)\n",
        "pyLDAvis.display(lda_display)        \n",
        "#pyLDAvis.save_html(LDAvis_prepared, './ldavis_prepared_'+ str(number_topics) +'.html')"
      ],
      "execution_count": 0,
      "outputs": [
        {
          "output_type": "stream",
          "text": [
            "/usr/local/lib/python3.6/dist-packages/pyLDAvis/_prepare.py:257: FutureWarning: Sorting because non-concatenation axis is not aligned. A future version\n",
            "of pandas will change to not sort by default.\n",
            "\n",
            "To accept the future behavior, pass 'sort=False'.\n",
            "\n",
            "To retain the current behavior and silence the warning, pass 'sort=True'.\n",
            "\n",
            "  return pd.concat([default_term_info] + list(topic_dfs))\n"
          ],
          "name": "stderr"
        },
        {
          "output_type": "execute_result",
          "data": {
            "text/html": [
              "\n",
              "<link rel=\"stylesheet\" type=\"text/css\" href=\"https://cdn.rawgit.com/bmabey/pyLDAvis/files/ldavis.v1.0.0.css\">\n",
              "\n",
              "\n",
              "<div id=\"ldavis_el1251405783385165688310767988\"></div>\n",
              "<script type=\"text/javascript\">\n",
              "\n",
              "var ldavis_el1251405783385165688310767988_data = {\"mdsDat\": {\"x\": [0.015638125294494192, -0.0008441181233402267, -0.0015445797254448929, -0.006337657409146745, -0.006911770036562333], \"y\": [0.0009232005402267338, -0.006592893087543391, 0.0034635899132225687, 0.0010373549583161874, 0.0011687476757779], \"topics\": [1, 2, 3, 4, 5], \"cluster\": [1, 1, 1, 1, 1], \"Freq\": [48.57000000264477, 19.292073306800518, 15.181170741076189, 9.527633400364998, 7.429122549113538]}, \"tinfo\": {\"Category\": [\"Default\", \"Default\", \"Default\", \"Default\", \"Default\", \"Default\", \"Default\", \"Default\", \"Default\", \"Default\", \"Default\", \"Default\", \"Default\", \"Default\", \"Default\", \"Default\", \"Default\", \"Default\", \"Default\", \"Default\", \"Default\", \"Default\", \"Default\", \"Default\", \"Default\", \"Default\", \"Default\", \"Default\", \"Default\", \"Default\", \"Topic1\", \"Topic1\", \"Topic1\", \"Topic1\", \"Topic1\", \"Topic1\", \"Topic1\", \"Topic1\", \"Topic1\", \"Topic1\", \"Topic1\", \"Topic1\", \"Topic1\", \"Topic1\", \"Topic1\", \"Topic1\", \"Topic1\", \"Topic1\", \"Topic1\", \"Topic1\", \"Topic1\", \"Topic1\", \"Topic1\", \"Topic1\", \"Topic1\", \"Topic1\", \"Topic1\", \"Topic1\", \"Topic1\", \"Topic1\", \"Topic1\", \"Topic1\", \"Topic1\", \"Topic1\", \"Topic1\", \"Topic1\", \"Topic1\", \"Topic1\", \"Topic1\", \"Topic1\", \"Topic1\", \"Topic1\", \"Topic1\", \"Topic1\", \"Topic1\", \"Topic1\", \"Topic1\", \"Topic1\", \"Topic1\", \"Topic1\", \"Topic1\", \"Topic1\", \"Topic1\", \"Topic2\", \"Topic2\", \"Topic2\", \"Topic2\", \"Topic2\", \"Topic2\", \"Topic2\", \"Topic2\", \"Topic2\", \"Topic2\", \"Topic2\", \"Topic2\", \"Topic2\", \"Topic2\", \"Topic2\", \"Topic2\", \"Topic2\", \"Topic2\", \"Topic2\", \"Topic2\", \"Topic2\", \"Topic2\", \"Topic2\", \"Topic2\", \"Topic2\", \"Topic2\", \"Topic2\", \"Topic2\", \"Topic2\", \"Topic2\", \"Topic2\", \"Topic2\", \"Topic2\", \"Topic2\", \"Topic2\", \"Topic2\", \"Topic2\", \"Topic2\", \"Topic2\", \"Topic2\", \"Topic2\", \"Topic2\", \"Topic2\", \"Topic2\", \"Topic2\", \"Topic2\", \"Topic2\", \"Topic2\", \"Topic2\", \"Topic2\", \"Topic2\", \"Topic2\", \"Topic2\", \"Topic2\", \"Topic2\", \"Topic2\", \"Topic2\", \"Topic2\", \"Topic2\", \"Topic2\", \"Topic2\", \"Topic2\", \"Topic2\", \"Topic2\", \"Topic2\", \"Topic2\", \"Topic2\", \"Topic2\", \"Topic2\", \"Topic2\", \"Topic3\", \"Topic3\", \"Topic3\", \"Topic3\", \"Topic3\", \"Topic3\", \"Topic3\", \"Topic3\", \"Topic3\", \"Topic3\", \"Topic3\", \"Topic3\", \"Topic3\", \"Topic3\", \"Topic3\", \"Topic3\", \"Topic3\", \"Topic3\", \"Topic3\", \"Topic3\", \"Topic3\", \"Topic3\", \"Topic3\", \"Topic3\", \"Topic3\", \"Topic3\", \"Topic3\", \"Topic3\", \"Topic3\", \"Topic3\", \"Topic3\", \"Topic3\", \"Topic3\", \"Topic3\", \"Topic3\", \"Topic3\", \"Topic3\", \"Topic3\", \"Topic3\", \"Topic3\", \"Topic3\", \"Topic3\", \"Topic3\", \"Topic3\", \"Topic3\", \"Topic3\", \"Topic3\", \"Topic3\", \"Topic3\", \"Topic3\", \"Topic3\", \"Topic3\", \"Topic3\", \"Topic3\", \"Topic3\", \"Topic3\", \"Topic4\", \"Topic4\", \"Topic4\", \"Topic4\", \"Topic4\", \"Topic4\", \"Topic4\", \"Topic4\", \"Topic4\", \"Topic4\", \"Topic4\", \"Topic4\", \"Topic4\", \"Topic4\", \"Topic4\", \"Topic4\", \"Topic4\", \"Topic4\", \"Topic4\", \"Topic4\", \"Topic4\", \"Topic4\", \"Topic4\", \"Topic4\", \"Topic4\", \"Topic4\", \"Topic4\", \"Topic4\", \"Topic4\", \"Topic4\", \"Topic4\", \"Topic4\", \"Topic4\", \"Topic4\", \"Topic4\", \"Topic4\", \"Topic4\", \"Topic4\", \"Topic4\", \"Topic4\", \"Topic4\", \"Topic4\", \"Topic4\", \"Topic4\", \"Topic4\", \"Topic5\", \"Topic5\", \"Topic5\", \"Topic5\", \"Topic5\", \"Topic5\", \"Topic5\", \"Topic5\", \"Topic5\", \"Topic5\", \"Topic5\", \"Topic5\", \"Topic5\", \"Topic5\", \"Topic5\", \"Topic5\", \"Topic5\", \"Topic5\", \"Topic5\", \"Topic5\", \"Topic5\", \"Topic5\", \"Topic5\", \"Topic5\", \"Topic5\", \"Topic5\", \"Topic5\", \"Topic5\", \"Topic5\", \"Topic5\", \"Topic5\", \"Topic5\", \"Topic5\", \"Topic5\", \"Topic5\", \"Topic5\", \"Topic5\", \"Topic5\", \"Topic5\", \"Topic5\", \"Topic5\", \"Topic5\", \"Topic5\", \"Topic5\", \"Topic5\", \"Topic5\", \"Topic5\"], \"Freq\": [1.0, 1.0, 0.0, 0.0, 0.0, 0.0, 0.0, 0.0, 1.0, 0.0, 0.0, 1.0, 0.0, 0.0, 0.0, 0.0, 0.0, 0.0, 0.0, 0.0, 0.0, 0.0, 0.0, 0.0, 0.0, 0.0, 0.0, 0.0, 0.0, 0.0, 1.7563000182806356, 1.59950063381757, 0.8701043141913257, 0.9466997270086163, 0.6997436734774931, 0.6599757101924562, 1.6337274419225012, 0.7138406633764428, 0.5410245380017218, 0.7607168719033756, 0.6134063432017762, 0.4955727580210145, 0.4601320605153522, 0.5829439385334291, 1.1319872490611944, 0.4337994042413788, 0.5097353391702598, 0.4134756111081738, 0.5514565851930365, 0.47680626996617587, 0.388347814340198, 0.5520010693229808, 0.6382359252570248, 0.3497420392861858, 1.6808103310107252, 0.48297072089495735, 0.3418483563015719, 0.8294948222016958, 0.34449152634709085, 0.34665705364035043, 1.2383418963419162, 0.5907374444815244, 0.5788882449816876, 0.8584627345134199, 0.9561273844224919, 0.9354001778606159, 1.1930357780657732, 1.2502660347128605, 0.853529556606861, 0.9328959877604825, 0.8232298228419848, 0.902290829052256, 0.6675765428669046, 0.6488181994107822, 0.7285518173381474, 0.7822226118851803, 0.9527922424062815, 0.791184097852561, 0.8189945955891546, 0.7923253603606483, 0.7324299932979851, 0.6988814621740469, 0.6962696177198567, 0.15448395444469737, 0.11928756450480771, 0.11644396444532916, 0.1341012291309592, 0.10781562188537211, 0.10402503139718842, 0.15321741720785922, 0.10226705650955564, 0.10147086726834537, 0.1014474136021149, 0.09831615669844951, 0.10114851058183615, 0.1088719518558803, 0.09647907190855537, 0.09532746845931053, 0.09251798348835061, 0.09076189065101979, 0.09065093398886949, 0.09141328422990253, 0.08902025090887962, 0.08893707125405213, 0.08852757127937438, 0.09245779114463624, 0.08772041070266742, 0.08751516092901085, 0.09353311902743103, 0.08718993298539127, 0.0934061250027188, 0.08682948194615632, 0.08678375945816007, 0.09633763359258814, 0.14076774736845704, 0.11488473684417672, 0.20561770698806553, 0.10421453472806323, 0.11437534305611124, 0.11890877001346888, 0.11848047615836213, 0.20804357987614844, 0.15896290605047061, 0.1421727008912525, 0.1781467324366473, 0.13556203359511035, 0.1893344483396774, 0.20914754317451664, 0.17351539946852362, 0.26343564053912993, 0.18412665154752228, 0.18352857844391626, 0.20335316593712602, 0.20640980439480616, 0.1714071364695754, 0.18637910033394903, 0.18478511249924315, 0.18860493982395965, 0.2285788001401395, 0.1762478389558874, 0.16989756576181247, 0.1422381541390187, 0.1414940352372001, 0.1997468256097178, 0.1680730937004528, 0.1878314265008197, 0.18927969254057583, 0.1739961112048442, 0.1653600192772201, 0.1650488297869788, 0.15717164829731103, 0.16248254268204515, 0.15473534984589138, 0.1350758909117631, 0.11785399157027601, 0.11011672162579327, 0.12992210923312356, 0.12434545314507353, 0.09086624825368825, 0.09001878562222766, 0.08811586026477969, 0.0873235627078877, 0.08376631336144018, 0.11022336773959825, 0.08652601898053071, 0.08055939071111942, 0.09421431579247364, 0.07627888100938081, 0.17344979515942646, 0.07543473652719822, 0.07518261822856975, 0.0736365266027558, 0.07357451062465094, 0.07326514168065493, 0.13273864542055824, 0.07232174120200263, 0.0702678158078617, 0.08278103878629445, 0.0687517147359567, 0.06870181401101004, 0.07390559583883553, 0.06808595796206077, 0.07558028585742349, 0.08820367110469428, 0.1043116777800909, 0.13617065523276148, 0.13479449339459898, 0.19000919694787155, 0.17105589155240505, 0.08348015130107497, 0.14847307272879665, 0.1697327893518985, 0.08824999119982303, 0.11510525684375464, 0.11277385437121128, 0.1839806540763783, 0.14336891564638138, 0.13745338088972817, 0.1326770896951223, 0.1283799425532183, 0.12264358567138213, 0.14310197960796203, 0.13386087550648898, 0.1413253810711056, 0.12622156733691803, 0.12132525316501917, 0.11346684946389923, 0.1113372752037869, 0.10903573507098605, 0.06823162295932474, 0.05702284780189126, 0.05537476718654749, 0.05395363502413382, 0.054131581586822936, 0.05380255964589887, 0.05273159454843654, 0.05305064693800171, 0.05705097109391468, 0.05132596768701398, 0.05148611915491615, 0.05314328700216829, 0.05254637332774085, 0.05019735308933178, 0.05019735308933178, 0.04996275681581466, 0.048008840616102576, 0.04736248941638408, 0.04712639066910676, 0.04676533961956082, 0.04676533961956082, 0.046846612194059924, 0.04571064456079551, 0.045210998462711136, 0.045215883006907785, 0.05574459698899602, 0.04407858250175727, 0.04407858250175727, 0.04396995797558524, 0.0435156480225592, 0.0435156480225592, 0.04980739635634044, 0.05622223946077746, 0.07194249691446575, 0.06627455954774966, 0.05493926711971677, 0.05208888981943854, 0.05053545584368079, 0.05974427110311911, 0.05051506253932235, 0.05370260903468344, 0.051927993275430566, 0.04916571849537268, 0.04938871171563781, 0.04938672469117469, 0.0863421151051533, 0.08363043700913546, 0.08363043700913374, 0.08363043700912828, 0.07571157261468338, 0.050003645063121924, 0.04244508052805208, 0.043620161034312946, 0.0463227953776815, 0.07098914408277486, 0.03962205200679331, 0.03944587493375815, 0.0391062999551527, 0.03860543607778336, 0.04447288794935289, 0.048303291827048477, 0.037880317031747546, 0.03758191563232354, 0.03560617560386983, 0.03759569282848672, 0.03694024894233818, 0.04895757400614868, 0.03538271235108572, 0.034758085107760316, 0.03554779873294241, 0.03759298380116854, 0.03537293170565582, 0.037726688328952034, 0.031539175300121035, 0.031539175300121035, 0.031539175300121035, 0.031539175300121035, 0.042931716218835264, 0.06347815068751057, 0.046459610386504355, 0.048221288256322895, 0.04429641683116415, 0.03944965620361043, 0.05519000281936695, 0.05337006255680791, 0.0474363285479673, 0.04778189546384675, 0.04129711685884796, 0.03950774852658312, 0.04338197999498122, 0.04151113185258679, 0.04172098374156516], \"Term\": [\"sp\\u00f6\", \"apple\", \"artikels\", \"agenturmeldungen\", \"basierenden\", \"volltext\", \"rechtlichen\", \"gr\\u00fcnden\", \"fp\\u00f6\", \"hypo\", \"verf\\u00fcgung\", \"google\", \"u\", \"gemeindeergebnisse\", \"derstandard\", \"the\", \"app\", \"koalitionen\", \"\\u00fcberblick\", \"angreifer\", \"ukraine\", \"erde\", \"osze\", \"haider\", \"mandate\", \"blatter\", \"bnd\", \"deloitte\", \"at\", \"suarez\", \"sp\\u00f6\", \"apple\", \"app\", \"google\", \"android\", \"niessl\", \"fp\\u00f6\", \"faymann\", \"ablinger\", \"koalition\", \"burgenland\", \"landeshauptmann\", \"h\\u00e4upl\", \"rot\", \"\\u00f6vp\", \"music\", \"steiermark\", \"schmid\", \"wahl\", \"voves\", \"freiheitlichen\", \"twitter\", \"postings\", \"spotify\", \"prozent\", \"tun\", \"mittel\", \"standard\", \"o\", \"ober\\u00f6sterreich\", \"\\u00f6sterreich\", \"chef\", \"partei\", \"millionen\", \"seit\", \"eu\", \"sei\", \"mehr\", \"laut\", \"gibt\", \"immer\", \"schon\", \"viele\", \"unternehmen\", \"neue\", \"menschen\", \"wurde\", \"wien\", \"euro\", \"zwei\", \"jahren\", \"us\", \"jahr\", \"badawi\", \"bilderberger\", \"breguet\", \"bahn\", \"perle\", \"kerry\", \"bnd\", \"hatred\", \"drohne\", \"jurassic\", \"enrique\", \"kbps\", \"orange\", \"ams\", \"blackberry\", \"dib\", \"badawis\", \"schwedenbomben\", \"achaleke\", \"megahertz\", \"iq\", \"telfs\", \"studierenden\", \"yamaha\", \"amphetamin\", \"aktien\", \"nestl\\u00e9\", \"gas\", \"wikileaks\", \"coudenhove\", \"grillitsch\", \"plus\", \"pilz\", \"u\", \"gruber\", \"d\", \"mitglieder\", \"world\", \"sonntag\", \"austria\", \"mail\", \"fl\\u00fcchtlinge\", \"trainer\", \"g\", \"rund\", \"wegen\", \"wurde\", \"wiener\", \"worden\", \"sagte\", \"zwei\", \"drei\", \"jahren\", \"apa\", \"wien\", \"prozent\", \"bereits\", \"wurden\", \"deutsche\", \"gr\\u00fcnen\", \"mehr\", \"ab\", \"\\u00f6sterreich\", \"sei\", \"schon\", \"jahr\", \"menschen\", \"etwa\", \"gibt\", \"neuen\", \"gemeindeergebnisse\", \"deloitte\", \"kulterer\", \"koalitionen\", \"mandate\", \"puris\", \"mbit\", \"linksh\\u00e4nder\", \"mers\", \"ahmeti\", \"open\", \"landeshaftungen\", \"sparks\", \"klug\", \"rauch\", \"hypo\", \"trentino\", \"altera\", \"lego\", \"schwertsik\", \"gaza\", \"\\u00fcberblick\", \"frausein\", \"maisie\", \"ausschuss\", \"gelato\", \"ringler\", \"flughafen\", \"verdonck\", \"wirtschaftspr\\u00fcfer\", \"kandler\", \"m\\u00f6gliche\", \"blatter\", \"milliarden\", \"derstandard\", \"at\", \"fox\", \"fifa\", \"us\", \"posting\", \"u\", \"moskau\", \"mehr\", \"euro\", \"sagte\", \"bereits\", \"dollar\", \"geht\", \"wurde\", \"eu\", \"sei\", \"gibt\", \"zwei\", \"beim\", \"jahr\", \"\\u00f6vp\", \"osze\", \"quijote\", \"ger\", \"barcroft\", \"benk\\u00f6\", \"g\\u00fcssing\", \"meteoriten\", \"murer\", \"lte\", \"staudinger\", \"gajeta\", \"koffer\", \"quantenmechanik\", \"sporting\", \"benfica\", \"hunt\", \"donauinsel\", \"artmann\", \"bloodstained\", \"chad\", \"kirkland\", \"metallica\", \"republikaner\", \"anlage\", \"wehsely\", \"vienna\", \"ceres\", \"dawn\", \"eichmann\", \"karrenbauer\", \"kramp\", \"don\", \"ps\", \"of\", \"the\", \"big\", \"besuch\", \"verein\", \"wurde\", \"stadt\", \"sei\", \"apa\", \"tag\", \"wiener\", \"mehr\", \"artikels\", \"agenturmeldungen\", \"basierenden\", \"volltext\", \"rechtlichen\", \"angreifer\", \"paypal\", \"holz\", \"suarez\", \"gr\\u00fcnden\", \"homer\", \"pepi\", \"konventionalstrafe\", \"elfriede\", \"pool\", \"haider\", \"nichols\", \"cumhuriyet\", \"sommerfilm\", \"morata\", \"jelinek\", \"erde\", \"blazer\", \"leberkas\", \"ara\", \"neymar\", \"rakitic\", \"hacker\", \"agttlink\", \"hauptabend\", \"angelique\", \"agtt\", \"juventus\", \"verf\\u00fcgung\", \"fotos\", \"ukraine\", \"journalisten\", \"barcelona\", \"steht\", \"foto\", \"orf\", \"us\", \"the\", \"kiew\", \"mehr\", \"at\", \"wurde\"], \"Total\": [1.0, 1.0, 0.0, 0.0, 0.0, 0.0, 0.0, 0.0, 1.0, 0.0, 0.0, 1.0, 0.0, 0.0, 0.0, 0.0, 0.0, 0.0, 0.0, 0.0, 0.0, 0.0, 0.0, 0.0, 0.0, 0.0, 0.0, 0.0, 0.0, 0.0, 1.8798959841310345, 1.729240810003995, 0.9448682220845345, 1.0361361501375006, 0.7745712306590001, 0.7347912368154786, 1.8486945616814707, 0.811893541867902, 0.6157503333903254, 0.8664370079607384, 0.7027793323665815, 0.5771459095913389, 0.5383542210082481, 0.6837328573870569, 1.330232470346754, 0.5103295038995896, 0.6017680097040191, 0.4882537478269636, 0.6517618803515267, 0.5665987529566185, 0.4631253775188429, 0.6659807250117717, 0.7731889655843219, 0.4245137602682889, 2.0557113221087695, 0.592284070160535, 0.4213747337979768, 1.025840480753943, 0.4261029705642028, 0.4296992764399452, 1.5492531817118675, 0.7368837281659644, 0.7246585309818772, 1.0974114293247328, 1.2394255597352375, 1.2193614300930842, 1.6055825786482127, 1.7267622190851126, 1.1246899309242708, 1.253004903925851, 1.1009722761168776, 1.2445881996747628, 0.8656782157942895, 0.8334866988517912, 0.9794518407491726, 1.0860339843644586, 1.4607951173980576, 1.1203598977274623, 1.1846675072751434, 1.1732648909322207, 1.0632788941784583, 1.0224852583358215, 1.009835972336168, 0.26119803696459704, 0.22600200654681174, 0.22315793725087768, 0.26372932395749105, 0.21453053626919907, 0.21073985535721165, 0.3111064993080888, 0.2089821209052319, 0.20818561502506638, 0.20816133104621182, 0.20503049678428337, 0.21133436205160328, 0.2282438732790068, 0.2031944027892185, 0.2051589109314185, 0.19923396438904467, 0.19747648917027802, 0.19736570747099072, 0.20020677528981276, 0.19573582163650946, 0.1956519071683597, 0.1952418481105383, 0.2044817573543612, 0.1944348660838493, 0.19423025380004813, 0.2078834909786147, 0.19390550606076556, 0.20808607942507745, 0.1935447828196669, 0.19349817466379868, 0.21501341162361778, 0.3307023229170349, 0.26454462542552193, 0.5164383941662883, 0.23901446429743087, 0.26937181854772924, 0.28887955048804154, 0.29466202245810036, 0.6720188488336013, 0.4742618966419951, 0.4010051852770541, 0.5956245891453305, 0.39115165819962616, 0.7194681787977305, 0.8780019017498742, 0.6495839052856585, 1.4607951173980576, 0.8174594996315088, 0.8377603697571891, 1.0782582961966183, 1.1732648909322207, 0.809526477958664, 1.0632788941784583, 1.0414196438411925, 1.1203598977274623, 2.0557113221087695, 0.9674138338639916, 0.881079329332096, 0.5182133380577214, 0.5197301363878295, 1.7267622190851126, 0.9708819707862598, 1.5492531817118675, 1.6055825786482127, 1.2445881996747628, 1.009835972336168, 1.0860339843644586, 0.8599507951692259, 1.253004903925851, 0.8705188566829201, 0.24703426771262083, 0.22980569115755567, 0.22206842054598758, 0.26502907554826605, 0.26565346120162475, 0.20281811204757552, 0.20254226666225736, 0.2000682483646585, 0.19927551985412537, 0.19615146348783513, 0.26105236811161375, 0.20651830014192632, 0.19251045160972546, 0.23160029004350627, 0.18823156215419576, 0.42806330529385594, 0.18738696909744643, 0.18744546022320857, 0.18558824597473028, 0.18552555801267348, 0.18521765414444535, 0.33674946581888177, 0.18470569283411586, 0.18222081233634324, 0.21622120108500145, 0.1807028745454329, 0.180652674795242, 0.194736609879087, 0.18003730795739453, 0.20003477311434853, 0.23374910203165766, 0.2940932614463264, 0.4251070648068563, 0.4370531332789964, 0.7438712163524593, 0.81297552067771, 0.23893188276945515, 0.681121729437737, 1.0224852583358215, 0.27669027463569745, 0.5164383941662883, 0.49757770994573286, 1.7267622190851126, 1.1846675072751434, 1.0782582961966183, 0.9674138338639916, 0.8812523217295548, 0.7945867232129683, 1.4607951173980576, 1.2193614300930842, 1.6055825786482127, 1.253004903925851, 1.1732648909322207, 0.9674807776735023, 1.009835972336168, 1.330232470346754, 0.1885381418888893, 0.1767071350677063, 0.17471034604466343, 0.1732926018721126, 0.17507378675327692, 0.1746731922845866, 0.1720676511247621, 0.1732037595700695, 0.18818607389008857, 0.17087395612226863, 0.17163314205325012, 0.17839416897534718, 0.17738573582854483, 0.16953451504273473, 0.16953451504273473, 0.1697229953377678, 0.16821164571867991, 0.16669775733167722, 0.16646270243870448, 0.1661048849970087, 0.1661048849970087, 0.16685111254015542, 0.1650529358365432, 0.16463824433920307, 0.1649134352815536, 0.20378581461587691, 0.1634144676496234, 0.1634144676496234, 0.16330638605645584, 0.16285140338743684, 0.16285140338743684, 0.1922710363438802, 0.2301066567125076, 0.6438811314387489, 0.5120453114413961, 0.31012876170560594, 0.28615933696310275, 0.3039316370523806, 1.4607951173980576, 0.45822185925800124, 1.6055825786482127, 1.0414196438411925, 0.45652941526296464, 0.8174594996315088, 1.7267622190851126, 0.20899775703396894, 0.20629164210451034, 0.20629164210451145, 0.20629164210451503, 0.24546052364463183, 0.1738140690499399, 0.16579044416330166, 0.17232444603714497, 0.1837472171087161, 0.2872902993993176, 0.1621939343171951, 0.16220401371647858, 0.1624457711469352, 0.16091631420962174, 0.1856513947630807, 0.20377688573491, 0.16018722827639664, 0.1601057323901873, 0.15791234110543367, 0.16751612686503134, 0.16481748207914987, 0.21903007376120825, 0.15877416944535713, 0.15755348386963602, 0.16145988511454012, 0.17505857525289292, 0.16529347453463966, 0.18187024570847002, 0.15385258560028475, 0.15385258560028475, 0.15385258560028475, 0.15385258560028475, 0.22161325743824822, 0.3588628905146236, 0.28427554713685, 0.34925961771390623, 0.3021563449746069, 0.21760908182699312, 0.6066896761605834, 0.6879582662725477, 0.765970083282321, 1.0224852583358215, 0.5120453114413961, 0.3445195193322047, 1.7267622190851126, 0.81297552067771, 1.4607951173980576], \"loglift\": [30.0, 29.0, 28.0, 27.0, 26.0, 25.0, 24.0, 23.0, 22.0, 21.0, 20.0, 19.0, 18.0, 17.0, 16.0, 15.0, 14.0, 13.0, 12.0, 11.0, 10.0, 9.0, 8.0, 7.0, 6.0, 5.0, 4.0, 3.0, 2.0, 1.0, 0.6542, 0.6442, 0.6397, 0.6319, 0.6206, 0.6148, 0.5985, 0.5935, 0.5928, 0.592, 0.5861, 0.5698, 0.5652, 0.5627, 0.5608, 0.5597, 0.5562, 0.5559, 0.555, 0.5496, 0.5461, 0.5345, 0.5303, 0.5284, 0.5208, 0.5181, 0.513, 0.5097, 0.5096, 0.5074, 0.4982, 0.5011, 0.4976, 0.4766, 0.4627, 0.4571, 0.4252, 0.3993, 0.4463, 0.4272, 0.4315, 0.4005, 0.4623, 0.4717, 0.4262, 0.394, 0.2948, 0.3743, 0.353, 0.3296, 0.3494, 0.3417, 0.3504, 1.1203, 1.0065, 0.995, 0.9691, 0.9574, 0.9395, 0.9372, 0.9308, 0.9268, 0.9267, 0.9105, 0.9086, 0.9052, 0.9006, 0.879, 0.8784, 0.8681, 0.8674, 0.8615, 0.8576, 0.8571, 0.8546, 0.8517, 0.8495, 0.8482, 0.8468, 0.8462, 0.8445, 0.8439, 0.8436, 0.8426, 0.7914, 0.8114, 0.7245, 0.8154, 0.7889, 0.7578, 0.7344, 0.4729, 0.5524, 0.6085, 0.4385, 0.5858, 0.3105, 0.2109, 0.3254, -0.0675, 0.1549, 0.1271, -0.0227, -0.0922, 0.0931, -0.0959, -0.0837, -0.1363, -0.551, -0.0573, -0.0005, 0.3526, 0.3444, -0.5115, -0.1083, -0.4645, -0.4925, -0.3221, -0.1639, -0.2386, -0.0541, -0.3973, -0.0819, 1.2814, 1.2173, 1.1837, 1.1722, 1.126, 1.0822, 1.0742, 1.0651, 1.06, 1.0343, 1.0229, 1.0152, 1.014, 0.9857, 0.9818, 0.9817, 0.9752, 0.9715, 0.9607, 0.9602, 0.9577, 0.9542, 0.9475, 0.9322, 0.925, 0.9188, 0.9183, 0.9163, 0.9127, 0.9118, 0.9105, 0.8486, 0.7467, 0.7088, 0.5203, 0.3264, 0.8335, 0.3618, 0.0893, 0.7424, 0.384, 0.4007, -0.3541, -0.2267, -0.1747, -0.1016, -0.0412, 0.0166, -0.4381, -0.3242, -0.5451, -0.4101, -0.384, -0.2581, -0.3199, -0.6163, 1.3346, 1.2199, 1.202, 1.1841, 1.1772, 1.1734, 1.1683, 1.1678, 1.1575, 1.1482, 1.1469, 1.14, 1.1343, 1.1339, 1.1339, 1.1281, 1.0971, 1.0926, 1.089, 1.0835, 1.0835, 1.0808, 1.067, 1.0586, 1.057, 1.0547, 1.0407, 1.0407, 1.0389, 1.0313, 1.0313, 1.0002, 0.9417, 0.1593, 0.3064, 0.6202, 0.6474, 0.5568, -0.8457, 0.1459, -1.0468, -0.6475, 0.1225, -0.4555, -1.2033, 1.7158, 1.6969, 1.6969, 1.6969, 1.4236, 1.3539, 1.2372, 1.2259, 1.2218, 1.2018, 1.1904, 1.1858, 1.1757, 1.1723, 1.1708, 1.1602, 1.1579, 1.1505, 1.1102, 1.1056, 1.1042, 1.1015, 1.0985, 1.0884, 1.0864, 1.0615, 1.058, 1.0268, 1.015, 1.015, 1.015, 1.015, 0.9584, 0.8675, 0.7884, 0.6197, 0.6797, 0.8921, 0.2025, 0.0433, -0.182, -0.4636, 0.0821, 0.4341, -1.0842, -0.375, -0.956], \"logprob\": [30.0, 29.0, 28.0, 27.0, 26.0, 25.0, 24.0, 23.0, 22.0, 21.0, 20.0, 19.0, 18.0, 17.0, 16.0, 15.0, 14.0, 13.0, 12.0, 11.0, 10.0, 9.0, 8.0, 7.0, 6.0, 5.0, 4.0, 3.0, 2.0, 1.0, -7.2702, -7.3637, -7.9726, -7.8882, -8.1905, -8.249, -7.3425, -8.1705, -8.4477, -8.1069, -8.3221, -8.5355, -8.6097, -8.3731, -7.7094, -8.6686, -8.5073, -8.7166, -8.4286, -8.5741, -8.7793, -8.4276, -8.2825, -8.884, -7.3141, -8.5612, -8.9068, -8.0203, -8.8991, -8.8928, -7.6196, -8.3598, -8.3801, -7.986, -7.8783, -7.9002, -7.6569, -7.6101, -7.9918, -7.9029, -8.0279, -7.9362, -8.2375, -8.266, -8.1501, -8.079, -7.8818, -8.0676, -8.0331, -8.0662, -8.1448, -8.1917, -8.1954, -8.7778, -9.0363, -9.0604, -8.9193, -9.1374, -9.1732, -8.786, -9.1903, -9.1981, -9.1983, -9.2297, -9.2013, -9.1277, -9.2485, -9.2605, -9.2905, -9.3096, -9.3108, -9.3025, -9.329, -9.3299, -9.3345, -9.2911, -9.3437, -9.346, -9.2795, -9.3498, -9.2809, -9.3539, -9.3544, -9.25, -8.8707, -9.0739, -8.4918, -9.1714, -9.0784, -9.0395, -9.0431, -8.4801, -8.7492, -8.8608, -8.6352, -8.9084, -8.5743, -8.4748, -8.6616, -8.244, -8.6022, -8.6055, -8.5029, -8.488, -8.6738, -8.5901, -8.5987, -8.5782, -8.386, -8.646, -8.6827, -8.8604, -8.8656, -8.5208, -8.6935, -8.5823, -8.5746, -8.6588, -8.7097, -8.7116, -8.7605, -8.7273, -8.7761, -8.6724, -8.8088, -8.8767, -8.7113, -8.7552, -9.0688, -9.0782, -9.0996, -9.1086, -9.1502, -8.8757, -9.1178, -9.1892, -9.0326, -9.2438, -8.4223, -9.2549, -9.2583, -9.2791, -9.2799, -9.2841, -8.6898, -9.2971, -9.3259, -9.162, -9.3477, -9.3484, -9.2754, -9.3574, -9.253, -9.0986, -8.9308, -8.6643, -8.6745, -8.3311, -8.4362, -9.1536, -8.5778, -8.444, -9.098, -8.8324, -8.8528, -8.3634, -8.6128, -8.6549, -8.6903, -8.7232, -8.7689, -8.6147, -8.6814, -8.6272, -8.7402, -8.7797, -8.8467, -8.8657, -8.8865, -8.8894, -9.0689, -9.0982, -9.1242, -9.1209, -9.127, -9.1471, -9.1411, -9.0684, -9.1742, -9.171, -9.1394, -9.1507, -9.1964, -9.1964, -9.2011, -9.241, -9.2545, -9.2595, -9.2672, -9.2672, -9.2655, -9.29, -9.301, -9.3009, -9.0916, -9.3264, -9.3264, -9.3288, -9.3392, -9.3392, -9.2042, -9.083, -8.8365, -8.9186, -9.1061, -9.1594, -9.1897, -9.0223, -9.1901, -9.1289, -9.1625, -9.2172, -9.2126, -9.2127, -8.4053, -8.4372, -8.4372, -8.4372, -8.5366, -8.9515, -9.1154, -9.088, -9.0279, -8.601, -9.1842, -9.1886, -9.1973, -9.2102, -9.0687, -8.9861, -9.2291, -9.237, -9.291, -9.2367, -9.2543, -8.9726, -9.2973, -9.3152, -9.2927, -9.2368, -9.2976, -9.2332, -9.4123, -9.4123, -9.4123, -9.4123, -9.104, -8.7129, -9.025, -8.9878, -9.0727, -9.1885, -8.8528, -8.8863, -9.0042, -8.9969, -9.1428, -9.1871, -9.0935, -9.1376, -9.1326]}, \"token.table\": {\"Topic\": [1, 1, 1, 1, 1, 1, 1, 1, 1, 1, 1, 1, 1, 1, 1, 1, 1, 1, 1, 1, 1, 1, 1, 1, 1, 1, 1, 1, 1, 1, 1, 1, 1, 1, 1, 1, 1, 1, 1, 1, 1, 1, 1, 1, 1, 1, 1, 1, 1, 1, 1, 1, 1, 1, 1], \"Freq\": [1.0299913172660515, 1.6240348494721772, 1.2910368477657073, 0.9602277102355978, 1.058348642304676, 1.1565769142328877, 1.0336122671136647, 1.0336837917707404, 1.422921753593037, 1.3570661988817527, 1.1347487834555599, 1.1628572304572546, 0.8201013869396062, 0.8441187032301599, 1.231688575449592, 1.0818444763427606, 1.2585158684207916, 0.7980814734777582, 0.9651241295531431, 0.9082880847163507, 0.9902598316898799, 0.9404870213027686, 1.154151993523012, 0.8891339492816472, 0.5791185311720731, 0.9207814989189264, 0.9112352699072283, 1.0209792440995469, 1.148740193647801, 1.3609307649529314, 1.3055340173532866, 1.379960294740543, 1.2933448930485838, 0.9728992482993087, 1.4625595204267128, 1.1389496970416366, 0.9274215682154622, 0.8034786126538249, 0.6228268874478754, 0.8068253814401061, 1.0638886496289222, 0.9748104298487505, 1.6617699576483838, 1.501544958350445, 1.1997791942901994, 0.9780092102526563, 1.1551636413565816, 1.5343026803909605, 0.8925703267569642, 1.223302194727416, 0.684558695528215, 1.134971581682721, 0.8523224445976963, 0.6454722906523497, 0.7517483013621884], \"Term\": [\"ab\", \"ablinger\", \"android\", \"apa\", \"app\", \"apple\", \"beim\", \"bereits\", \"burgenland\", \"chef\", \"dollar\", \"etwa\", \"eu\", \"euro\", \"faymann\", \"fp\\u00f6\", \"geht\", \"gibt\", \"google\", \"immer\", \"jahr\", \"jahren\", \"koalition\", \"laut\", \"mehr\", \"menschen\", \"millionen\", \"neue\", \"neuen\", \"niessl\", \"orf\", \"partei\", \"postings\", \"prozent\", \"rot\", \"rund\", \"sagte\", \"schon\", \"sei\", \"seit\", \"sp\\u00f6\", \"standard\", \"steiermark\", \"twitter\", \"unternehmen\", \"us\", \"viele\", \"wahl\", \"wien\", \"wiener\", \"wurde\", \"wurden\", \"zwei\", \"\\u00f6sterreich\", \"\\u00f6vp\"]}, \"R\": 30, \"lambda.step\": 0.01, \"plot.opts\": {\"xlab\": \"PC1\", \"ylab\": \"PC2\"}, \"topic.order\": [2, 3, 1, 5, 4]};\n",
              "\n",
              "function LDAvis_load_lib(url, callback){\n",
              "  var s = document.createElement('script');\n",
              "  s.src = url;\n",
              "  s.async = true;\n",
              "  s.onreadystatechange = s.onload = callback;\n",
              "  s.onerror = function(){console.warn(\"failed to load library \" + url);};\n",
              "  document.getElementsByTagName(\"head\")[0].appendChild(s);\n",
              "}\n",
              "\n",
              "if(typeof(LDAvis) !== \"undefined\"){\n",
              "   // already loaded: just create the visualization\n",
              "   !function(LDAvis){\n",
              "       new LDAvis(\"#\" + \"ldavis_el1251405783385165688310767988\", ldavis_el1251405783385165688310767988_data);\n",
              "   }(LDAvis);\n",
              "}else if(typeof define === \"function\" && define.amd){\n",
              "   // require.js is available: use it to load d3/LDAvis\n",
              "   require.config({paths: {d3: \"https://cdnjs.cloudflare.com/ajax/libs/d3/3.5.5/d3.min\"}});\n",
              "   require([\"d3\"], function(d3){\n",
              "      window.d3 = d3;\n",
              "      LDAvis_load_lib(\"https://cdn.rawgit.com/bmabey/pyLDAvis/files/ldavis.v1.0.0.js\", function(){\n",
              "        new LDAvis(\"#\" + \"ldavis_el1251405783385165688310767988\", ldavis_el1251405783385165688310767988_data);\n",
              "      });\n",
              "    });\n",
              "}else{\n",
              "    // require.js not available: dynamically load d3 & LDAvis\n",
              "    LDAvis_load_lib(\"https://cdnjs.cloudflare.com/ajax/libs/d3/3.5.5/d3.min.js\", function(){\n",
              "         LDAvis_load_lib(\"https://cdn.rawgit.com/bmabey/pyLDAvis/files/ldavis.v1.0.0.js\", function(){\n",
              "                 new LDAvis(\"#\" + \"ldavis_el1251405783385165688310767988\", ldavis_el1251405783385165688310767988_data);\n",
              "            })\n",
              "         });\n",
              "}\n",
              "</script>"
            ],
            "text/plain": [
              "<IPython.core.display.HTML object>"
            ]
          },
          "metadata": {
            "tags": []
          },
          "execution_count": 26
        }
      ]
    }
  ]
}