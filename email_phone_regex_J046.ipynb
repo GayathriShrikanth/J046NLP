{
  "nbformat": 4,
  "nbformat_minor": 0,
  "metadata": {
    "colab": {
      "name": "email_phone_regex_J046.ipynb",
      "provenance": [],
      "authorship_tag": "ABX9TyPXfxwX60CMat7oGZGEE/ga",
      "include_colab_link": true
    },
    "kernelspec": {
      "name": "python3",
      "display_name": "Python 3"
    }
  },
  "cells": [
    {
      "cell_type": "markdown",
      "metadata": {
        "id": "view-in-github",
        "colab_type": "text"
      },
      "source": [
        "<a href=\"https://colab.research.google.com/github/GayathriShrikanth/J046NLP/blob/master/email_phone_regex_J046.ipynb\" target=\"_parent\"><img src=\"https://colab.research.google.com/assets/colab-badge.svg\" alt=\"Open In Colab\"/></a>"
      ]
    },
    {
      "cell_type": "code",
      "metadata": {
        "id": "qMvIzLa7I0S6",
        "colab_type": "code",
        "colab": {}
      },
      "source": [
        "import re"
      ],
      "execution_count": 0,
      "outputs": []
    },
    {
      "cell_type": "code",
      "metadata": {
        "id": "mr7_f1sXI-Cx",
        "colab_type": "code",
        "colab": {
          "base_uri": "https://localhost:8080/",
          "height": 52
        },
        "outputId": "3d995f95-9b0b-4c88-aa4c-e08baa732e35"
      },
      "source": [
        "text=\"My mail is gayathri.shrikanth@gmail.com \"\n",
        "email=re.findall('\\S+@\\S+\\.[com]+', text)\n",
        "#e_mail = re.findall(r\"(^[a-zA-Z0-9_.+-]+@[a-zA-Z0-9-]+\\.[a-zA-Z0-9-.]+$)\",text )\n",
        "text2='efd34  abc 9820031143'\n",
        "phone = re.findall(r\"\\b[0-9]{10}\\b\", text2)\n",
        "print(email)\n",
        "print(phone)"
      ],
      "execution_count": 29,
      "outputs": [
        {
          "output_type": "stream",
          "text": [
            "['gayathri.shrikanth@gmail.com']\n",
            "['9820031143']\n"
          ],
          "name": "stdout"
        }
      ]
    }
  ]
}