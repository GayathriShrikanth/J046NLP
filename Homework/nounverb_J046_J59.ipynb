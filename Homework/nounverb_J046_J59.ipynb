{
  "nbformat": 4,
  "nbformat_minor": 0,
  "metadata": {
    "colab": {
      "name": "nounverb_J046_J59.ipynb",
      "provenance": [],
      "collapsed_sections": [],
      "include_colab_link": true
    },
    "kernelspec": {
      "name": "python3",
      "display_name": "Python 3"
    }
  },
  "cells": [
    {
      "cell_type": "markdown",
      "metadata": {
        "id": "view-in-github",
        "colab_type": "text"
      },
      "source": [
        "<a href=\"https://colab.research.google.com/github/GayathriShrikanth/J046NLP/blob/master/Homework/nounverb_J046_J59.ipynb\" target=\"_parent\"><img src=\"https://colab.research.google.com/assets/colab-badge.svg\" alt=\"Open In Colab\"/></a>"
      ]
    },
    {
      "cell_type": "code",
      "metadata": {
        "id": "RORTsIB2FErT",
        "colab_type": "code",
        "colab": {}
      },
      "source": [
        "#Read the data\n",
        "import pandas as pd\n",
        "import numpy as np\n",
        "df=pd.read_json(\"http://snap.stanford.edu/data/amazon/productGraph/categoryFiles/reviews_Office_Products_5.json.gz\", lines=True)"
      ],
      "execution_count": 0,
      "outputs": []
    },
    {
      "cell_type": "code",
      "metadata": {
        "id": "TcrAGAd9FFfy",
        "colab_type": "code",
        "colab": {
          "base_uri": "https://localhost:8080/",
          "height": 280
        },
        "outputId": "704e2996-ca2f-41c3-b270-5d8592982b14"
      },
      "source": [
        "df.head()"
      ],
      "execution_count": 14,
      "outputs": [
        {
          "output_type": "execute_result",
          "data": {
            "text/html": [
              "<div>\n",
              "<style scoped>\n",
              "    .dataframe tbody tr th:only-of-type {\n",
              "        vertical-align: middle;\n",
              "    }\n",
              "\n",
              "    .dataframe tbody tr th {\n",
              "        vertical-align: top;\n",
              "    }\n",
              "\n",
              "    .dataframe thead th {\n",
              "        text-align: right;\n",
              "    }\n",
              "</style>\n",
              "<table border=\"1\" class=\"dataframe\">\n",
              "  <thead>\n",
              "    <tr style=\"text-align: right;\">\n",
              "      <th></th>\n",
              "      <th>reviewerID</th>\n",
              "      <th>asin</th>\n",
              "      <th>reviewerName</th>\n",
              "      <th>helpful</th>\n",
              "      <th>reviewText</th>\n",
              "      <th>overall</th>\n",
              "      <th>summary</th>\n",
              "      <th>unixReviewTime</th>\n",
              "      <th>reviewTime</th>\n",
              "    </tr>\n",
              "  </thead>\n",
              "  <tbody>\n",
              "    <tr>\n",
              "      <th>0</th>\n",
              "      <td>A32T2H8150OJLU</td>\n",
              "      <td>B00000JBLH</td>\n",
              "      <td>ARH</td>\n",
              "      <td>[3, 4]</td>\n",
              "      <td>I bought my first HP12C in about 1984 or so, a...</td>\n",
              "      <td>5</td>\n",
              "      <td>A solid performer, and long time friend</td>\n",
              "      <td>1094169600</td>\n",
              "      <td>09 3, 2004</td>\n",
              "    </tr>\n",
              "    <tr>\n",
              "      <th>1</th>\n",
              "      <td>A3MAFS04ZABRGO</td>\n",
              "      <td>B00000JBLH</td>\n",
              "      <td>Let it Be \"Alan\"</td>\n",
              "      <td>[7, 9]</td>\n",
              "      <td>WHY THIS BELATED REVIEW? I feel very obliged t...</td>\n",
              "      <td>5</td>\n",
              "      <td>Price of GOLD is up, so don't bury the golden ...</td>\n",
              "      <td>1197676800</td>\n",
              "      <td>12 15, 2007</td>\n",
              "    </tr>\n",
              "    <tr>\n",
              "      <th>2</th>\n",
              "      <td>A1F1A0QQP2XVH5</td>\n",
              "      <td>B00000JBLH</td>\n",
              "      <td>Mark B</td>\n",
              "      <td>[3, 3]</td>\n",
              "      <td>I have an HP 48GX that has been kicking for mo...</td>\n",
              "      <td>2</td>\n",
              "      <td>Good functionality, but not durable like old HPs</td>\n",
              "      <td>1293840000</td>\n",
              "      <td>01 1, 2011</td>\n",
              "    </tr>\n",
              "    <tr>\n",
              "      <th>3</th>\n",
              "      <td>A49R5DBXXQDE5</td>\n",
              "      <td>B00000JBLH</td>\n",
              "      <td>R. D Johnson</td>\n",
              "      <td>[7, 8]</td>\n",
              "      <td>I've started doing more finance stuff recently...</td>\n",
              "      <td>5</td>\n",
              "      <td>One of the last of an almost extinct species</td>\n",
              "      <td>1145404800</td>\n",
              "      <td>04 19, 2006</td>\n",
              "    </tr>\n",
              "    <tr>\n",
              "      <th>4</th>\n",
              "      <td>A2XRMQA6PJ5ZJ8</td>\n",
              "      <td>B00000JBLH</td>\n",
              "      <td>Roger J. Buffington</td>\n",
              "      <td>[0, 0]</td>\n",
              "      <td>For simple calculations and discounted cash fl...</td>\n",
              "      <td>5</td>\n",
              "      <td>Still the best</td>\n",
              "      <td>1375574400</td>\n",
              "      <td>08 4, 2013</td>\n",
              "    </tr>\n",
              "  </tbody>\n",
              "</table>\n",
              "</div>"
            ],
            "text/plain": [
              "       reviewerID        asin  ... unixReviewTime   reviewTime\n",
              "0  A32T2H8150OJLU  B00000JBLH  ...     1094169600   09 3, 2004\n",
              "1  A3MAFS04ZABRGO  B00000JBLH  ...     1197676800  12 15, 2007\n",
              "2  A1F1A0QQP2XVH5  B00000JBLH  ...     1293840000   01 1, 2011\n",
              "3   A49R5DBXXQDE5  B00000JBLH  ...     1145404800  04 19, 2006\n",
              "4  A2XRMQA6PJ5ZJ8  B00000JBLH  ...     1375574400   08 4, 2013\n",
              "\n",
              "[5 rows x 9 columns]"
            ]
          },
          "metadata": {
            "tags": []
          },
          "execution_count": 14
        }
      ]
    },
    {
      "cell_type": "code",
      "metadata": {
        "id": "nwP-zC9mFFiw",
        "colab_type": "code",
        "colab": {}
      },
      "source": [
        "#Function to calculate noun verb ratio using Spacy\n",
        "import spacy\n",
        "sp = spacy.load('en')\n",
        "def nountoverb(sentence):  \n",
        "  sentence=sp(sentence)\n",
        "  noun=0\n",
        "  verb=0\n",
        "  ratio=0\n",
        "  for word in sentence:\n",
        "    if(word.pos_== \"PROPN\")|(word.pos_ ==\"NOUN\"):\n",
        "      noun+=1\n",
        "    elif(word.pos_==\"VERB\"):\n",
        "      verb+=1\n",
        "    if(verb==0):\n",
        "      ratio=\"NoVerb\"\n",
        "    else:\n",
        "      ratio=noun/verb\n",
        "  return ratio"
      ],
      "execution_count": 0,
      "outputs": []
    },
    {
      "cell_type": "code",
      "metadata": {
        "id": "GA3ujZYSR4eq",
        "colab_type": "code",
        "colab": {
          "base_uri": "https://localhost:8080/",
          "height": 150
        },
        "outputId": "813bfa37-ffc1-4543-e8ad-6e6f05345baf"
      },
      "source": [
        "#using nltk\n",
        "import nltk\n",
        "from nltk.tokenize import word_tokenize\n",
        "nltk.download('punkt')\n",
        "nltk.download('wordnet')\n",
        "nltk.download('averaged_perceptron_tagger')\n",
        "def Noun2Verb(data):\n",
        "  noun=0\n",
        "  verb=0\n",
        "  ratio=0\n",
        "  words=[]\n",
        "  text=word_tokenize(data)\n",
        "  pos_tag=nltk.pos_tag(text)\n",
        "  for pt in pos_tag:\n",
        "    if 'NN' in pt[1]:\n",
        "      noun+=1\n",
        "      words.append(pt)\n",
        "    elif 'VB'in pt[1]:\n",
        "      verb+=1\n",
        "      words.append(pt)\n",
        "  if(verb==0):\n",
        "    ratio=\"NoVerb\"\n",
        "  else:\n",
        "    ratio=noun/verb\n",
        "  return ratio, words"
      ],
      "execution_count": 31,
      "outputs": [
        {
          "output_type": "stream",
          "text": [
            "[nltk_data] Downloading package punkt to /root/nltk_data...\n",
            "[nltk_data]   Package punkt is already up-to-date!\n",
            "[nltk_data] Downloading package wordnet to /root/nltk_data...\n",
            "[nltk_data]   Package wordnet is already up-to-date!\n",
            "[nltk_data] Downloading package averaged_perceptron_tagger to\n",
            "[nltk_data]     /root/nltk_data...\n",
            "[nltk_data]   Package averaged_perceptron_tagger is already up-to-\n",
            "[nltk_data]       date!\n"
          ],
          "name": "stdout"
        }
      ]
    },
    {
      "cell_type": "code",
      "metadata": {
        "id": "drJzWWzxUVzt",
        "colab_type": "code",
        "colab": {
          "base_uri": "https://localhost:8080/",
          "height": 1000
        },
        "outputId": "a119b29a-232d-499d-82a7-09256208a0ab"
      },
      "source": [
        "Noun2Verb(df[\"reviewText\"][0])"
      ],
      "execution_count": 32,
      "outputs": [
        {
          "output_type": "execute_result",
          "data": {
            "text/plain": [
              "(0.6666666666666666,\n",
              " [('bought', 'VBD'),\n",
              "  ('HP12C', 'NNP'),\n",
              "  ('served', 'VBD'),\n",
              "  ('lost', 'VBD'),\n",
              "  ('travelling', 'VBG'),\n",
              "  ('searched', 'VBD'),\n",
              "  ('replace', 'VB'),\n",
              "  ('found', 'VBD'),\n",
              "  ('come', 'VB'),\n",
              "  ('area', 'NN'),\n",
              "  ('decided', 'VBD'),\n",
              "  ('buy', 'VB'),\n",
              "  ('purchased', 'VBD'),\n",
              "  ('HP', 'NNP'),\n",
              "  ('mistake', 'NN'),\n",
              "  ('know', 'VBP'),\n",
              "  ('people', 'NNS'),\n",
              "  ('view', 'VBP'),\n",
              "  ('HP', 'NNP'),\n",
              "  ('flagship', 'NN'),\n",
              "  ('HP', 'NNP'),\n",
              "  ('line', 'NN'),\n",
              "  ('was', 'VBD'),\n",
              "  ('be', 'VB'),\n",
              "  ('using', 'VBG'),\n",
              "  ('is', 'VBZ'),\n",
              "  ('manual', 'NN'),\n",
              "  ('was', 'VBD'),\n",
              "  ('sketchy', 'VBN'),\n",
              "  ('hand', 'NN'),\n",
              "  ('does', 'VBZ'),\n",
              "  ('need', 'VBP'),\n",
              "  ('way', 'NN'),\n",
              "  ('makes', 'VBZ'),\n",
              "  ('sense', 'NN'),\n",
              "  ('me.If', 'VB'),\n",
              "  ('are', 'VBP'),\n",
              "  ('looking', 'VBG'),\n",
              "  ('calculator', 'NN'),\n",
              "  ('HP12C', 'NNP'),\n",
              "  ('be', 'VB'),\n",
              "  (\"'s\", 'VBZ'),\n",
              "  ('does', 'VBZ'),\n",
              "  ('statistics', 'NNS'),\n",
              "  ('business', 'NN'),\n",
              "  ('applications', 'NNS'),\n",
              "  ('makes', 'VBZ'),\n",
              "  ('sense', 'NN'),\n",
              "  ('be', 'VB'),\n",
              "  ('running', 'VBG'),\n",
              "  ('order.I', 'NN'),\n",
              "  (\"'m\", 'VBP'),\n",
              "  ('set', 'VB'),\n",
              "  ('move', 'VB'),\n",
              "  ('friend', 'NN'),\n",
              "  ('did', 'VBD'),\n",
              "  ('have', 'VB'),\n",
              "  ('replace', 'VB'),\n",
              "  ('batteries', 'NNS'),\n",
              "  ('decade', 'NN'),\n",
              "  ('use', 'NN'),\n",
              "  ('HP', 'NNP'),\n",
              "  (\"'m\", 'VBP'),\n",
              "  ('coming', 'VBG'),\n",
              "  ('home', 'NN')])"
            ]
          },
          "metadata": {
            "tags": []
          },
          "execution_count": 32
        }
      ]
    },
    {
      "cell_type": "code",
      "metadata": {
        "id": "Urqq0ONmFFlh",
        "colab_type": "code",
        "colab": {}
      },
      "source": [
        "df['NountVerbRatio'] = df[:1000].reviewText.apply(nountoverb)"
      ],
      "execution_count": 0,
      "outputs": []
    },
    {
      "cell_type": "code",
      "metadata": {
        "id": "5JghnFq0FFnt",
        "colab_type": "code",
        "colab": {
          "base_uri": "https://localhost:8080/",
          "height": 217
        },
        "outputId": "49988b84-0eef-42b7-8cd3-82b8dafe54d9"
      },
      "source": [
        "df['NountVerbRatio'][:1000]"
      ],
      "execution_count": 21,
      "outputs": [
        {
          "output_type": "execute_result",
          "data": {
            "text/plain": [
              "0       0.74359\n",
              "1       2.15278\n",
              "2             1\n",
              "3        1.3871\n",
              "4          1.28\n",
              "         ...   \n",
              "995      1.1875\n",
              "996     2.23636\n",
              "997     1.14286\n",
              "998    0.769231\n",
              "999    0.909091\n",
              "Name: NountVerbRatio, Length: 1000, dtype: object"
            ]
          },
          "metadata": {
            "tags": []
          },
          "execution_count": 21
        }
      ]
    },
    {
      "cell_type": "code",
      "metadata": {
        "id": "S9enb-8uLzxR",
        "colab_type": "code",
        "colab": {
          "base_uri": "https://localhost:8080/",
          "height": 280
        },
        "outputId": "716d1c1b-177f-4096-8b71-f6a8271635c1"
      },
      "source": [
        "df.head()"
      ],
      "execution_count": 22,
      "outputs": [
        {
          "output_type": "execute_result",
          "data": {
            "text/html": [
              "<div>\n",
              "<style scoped>\n",
              "    .dataframe tbody tr th:only-of-type {\n",
              "        vertical-align: middle;\n",
              "    }\n",
              "\n",
              "    .dataframe tbody tr th {\n",
              "        vertical-align: top;\n",
              "    }\n",
              "\n",
              "    .dataframe thead th {\n",
              "        text-align: right;\n",
              "    }\n",
              "</style>\n",
              "<table border=\"1\" class=\"dataframe\">\n",
              "  <thead>\n",
              "    <tr style=\"text-align: right;\">\n",
              "      <th></th>\n",
              "      <th>reviewerID</th>\n",
              "      <th>asin</th>\n",
              "      <th>reviewerName</th>\n",
              "      <th>helpful</th>\n",
              "      <th>reviewText</th>\n",
              "      <th>overall</th>\n",
              "      <th>summary</th>\n",
              "      <th>unixReviewTime</th>\n",
              "      <th>reviewTime</th>\n",
              "      <th>NountVerbRatio</th>\n",
              "    </tr>\n",
              "  </thead>\n",
              "  <tbody>\n",
              "    <tr>\n",
              "      <th>0</th>\n",
              "      <td>A32T2H8150OJLU</td>\n",
              "      <td>B00000JBLH</td>\n",
              "      <td>ARH</td>\n",
              "      <td>[3, 4]</td>\n",
              "      <td>I bought my first HP12C in about 1984 or so, a...</td>\n",
              "      <td>5</td>\n",
              "      <td>A solid performer, and long time friend</td>\n",
              "      <td>1094169600</td>\n",
              "      <td>09 3, 2004</td>\n",
              "      <td>0.74359</td>\n",
              "    </tr>\n",
              "    <tr>\n",
              "      <th>1</th>\n",
              "      <td>A3MAFS04ZABRGO</td>\n",
              "      <td>B00000JBLH</td>\n",
              "      <td>Let it Be \"Alan\"</td>\n",
              "      <td>[7, 9]</td>\n",
              "      <td>WHY THIS BELATED REVIEW? I feel very obliged t...</td>\n",
              "      <td>5</td>\n",
              "      <td>Price of GOLD is up, so don't bury the golden ...</td>\n",
              "      <td>1197676800</td>\n",
              "      <td>12 15, 2007</td>\n",
              "      <td>2.15278</td>\n",
              "    </tr>\n",
              "    <tr>\n",
              "      <th>2</th>\n",
              "      <td>A1F1A0QQP2XVH5</td>\n",
              "      <td>B00000JBLH</td>\n",
              "      <td>Mark B</td>\n",
              "      <td>[3, 3]</td>\n",
              "      <td>I have an HP 48GX that has been kicking for mo...</td>\n",
              "      <td>2</td>\n",
              "      <td>Good functionality, but not durable like old HPs</td>\n",
              "      <td>1293840000</td>\n",
              "      <td>01 1, 2011</td>\n",
              "      <td>1</td>\n",
              "    </tr>\n",
              "    <tr>\n",
              "      <th>3</th>\n",
              "      <td>A49R5DBXXQDE5</td>\n",
              "      <td>B00000JBLH</td>\n",
              "      <td>R. D Johnson</td>\n",
              "      <td>[7, 8]</td>\n",
              "      <td>I've started doing more finance stuff recently...</td>\n",
              "      <td>5</td>\n",
              "      <td>One of the last of an almost extinct species</td>\n",
              "      <td>1145404800</td>\n",
              "      <td>04 19, 2006</td>\n",
              "      <td>1.3871</td>\n",
              "    </tr>\n",
              "    <tr>\n",
              "      <th>4</th>\n",
              "      <td>A2XRMQA6PJ5ZJ8</td>\n",
              "      <td>B00000JBLH</td>\n",
              "      <td>Roger J. Buffington</td>\n",
              "      <td>[0, 0]</td>\n",
              "      <td>For simple calculations and discounted cash fl...</td>\n",
              "      <td>5</td>\n",
              "      <td>Still the best</td>\n",
              "      <td>1375574400</td>\n",
              "      <td>08 4, 2013</td>\n",
              "      <td>1.28</td>\n",
              "    </tr>\n",
              "  </tbody>\n",
              "</table>\n",
              "</div>"
            ],
            "text/plain": [
              "       reviewerID        asin  ...   reviewTime NountVerbRatio\n",
              "0  A32T2H8150OJLU  B00000JBLH  ...   09 3, 2004        0.74359\n",
              "1  A3MAFS04ZABRGO  B00000JBLH  ...  12 15, 2007        2.15278\n",
              "2  A1F1A0QQP2XVH5  B00000JBLH  ...   01 1, 2011              1\n",
              "3   A49R5DBXXQDE5  B00000JBLH  ...  04 19, 2006         1.3871\n",
              "4  A2XRMQA6PJ5ZJ8  B00000JBLH  ...   08 4, 2013           1.28\n",
              "\n",
              "[5 rows x 10 columns]"
            ]
          },
          "metadata": {
            "tags": []
          },
          "execution_count": 22
        }
      ]
    }
  ]
}