{
  "nbformat": 4,
  "nbformat_minor": 0,
  "metadata": {
    "colab": {
      "name": "word2vec.ipynb",
      "provenance": [],
      "machine_shape": "hm",
      "include_colab_link": true
    },
    "kernelspec": {
      "name": "python3",
      "display_name": "Python 3"
    }
  },
  "cells": [
    {
      "cell_type": "markdown",
      "metadata": {
        "id": "view-in-github",
        "colab_type": "text"
      },
      "source": [
        "<a href=\"https://colab.research.google.com/github/GayathriShrikanth/J046NLP/blob/master/word2vec.ipynb\" target=\"_parent\"><img src=\"https://colab.research.google.com/assets/colab-badge.svg\" alt=\"Open In Colab\"/></a>"
      ]
    },
    {
      "cell_type": "code",
      "metadata": {
        "id": "koGWUkHoYryO",
        "colab_type": "code",
        "outputId": "1d83c6e2-5c95-436b-c77b-f56e865a3d3c",
        "colab": {
          "base_uri": "https://localhost:8080/",
          "height": 194
        }
      },
      "source": [
        "#Read the data\n",
        "import pandas as pd\n",
        "import numpy as np\n",
        "df=pd.read_json(\"http://snap.stanford.edu/data/amazon/productGraph/categoryFiles/reviews_Office_Products_5.json.gz\", lines=True)\n",
        "df.head()"
      ],
      "execution_count": 0,
      "outputs": [
        {
          "output_type": "execute_result",
          "data": {
            "text/html": [
              "<div>\n",
              "<style scoped>\n",
              "    .dataframe tbody tr th:only-of-type {\n",
              "        vertical-align: middle;\n",
              "    }\n",
              "\n",
              "    .dataframe tbody tr th {\n",
              "        vertical-align: top;\n",
              "    }\n",
              "\n",
              "    .dataframe thead th {\n",
              "        text-align: right;\n",
              "    }\n",
              "</style>\n",
              "<table border=\"1\" class=\"dataframe\">\n",
              "  <thead>\n",
              "    <tr style=\"text-align: right;\">\n",
              "      <th></th>\n",
              "      <th>reviewerID</th>\n",
              "      <th>asin</th>\n",
              "      <th>reviewerName</th>\n",
              "      <th>helpful</th>\n",
              "      <th>reviewText</th>\n",
              "      <th>overall</th>\n",
              "      <th>summary</th>\n",
              "      <th>unixReviewTime</th>\n",
              "      <th>reviewTime</th>\n",
              "    </tr>\n",
              "  </thead>\n",
              "  <tbody>\n",
              "    <tr>\n",
              "      <th>0</th>\n",
              "      <td>A32T2H8150OJLU</td>\n",
              "      <td>B00000JBLH</td>\n",
              "      <td>ARH</td>\n",
              "      <td>[3, 4]</td>\n",
              "      <td>I bought my first HP12C in about 1984 or so, a...</td>\n",
              "      <td>5</td>\n",
              "      <td>A solid performer, and long time friend</td>\n",
              "      <td>1094169600</td>\n",
              "      <td>09 3, 2004</td>\n",
              "    </tr>\n",
              "    <tr>\n",
              "      <th>1</th>\n",
              "      <td>A3MAFS04ZABRGO</td>\n",
              "      <td>B00000JBLH</td>\n",
              "      <td>Let it Be \"Alan\"</td>\n",
              "      <td>[7, 9]</td>\n",
              "      <td>WHY THIS BELATED REVIEW? I feel very obliged t...</td>\n",
              "      <td>5</td>\n",
              "      <td>Price of GOLD is up, so don't bury the golden ...</td>\n",
              "      <td>1197676800</td>\n",
              "      <td>12 15, 2007</td>\n",
              "    </tr>\n",
              "    <tr>\n",
              "      <th>2</th>\n",
              "      <td>A1F1A0QQP2XVH5</td>\n",
              "      <td>B00000JBLH</td>\n",
              "      <td>Mark B</td>\n",
              "      <td>[3, 3]</td>\n",
              "      <td>I have an HP 48GX that has been kicking for mo...</td>\n",
              "      <td>2</td>\n",
              "      <td>Good functionality, but not durable like old HPs</td>\n",
              "      <td>1293840000</td>\n",
              "      <td>01 1, 2011</td>\n",
              "    </tr>\n",
              "    <tr>\n",
              "      <th>3</th>\n",
              "      <td>A49R5DBXXQDE5</td>\n",
              "      <td>B00000JBLH</td>\n",
              "      <td>R. D Johnson</td>\n",
              "      <td>[7, 8]</td>\n",
              "      <td>I've started doing more finance stuff recently...</td>\n",
              "      <td>5</td>\n",
              "      <td>One of the last of an almost extinct species</td>\n",
              "      <td>1145404800</td>\n",
              "      <td>04 19, 2006</td>\n",
              "    </tr>\n",
              "    <tr>\n",
              "      <th>4</th>\n",
              "      <td>A2XRMQA6PJ5ZJ8</td>\n",
              "      <td>B00000JBLH</td>\n",
              "      <td>Roger J. Buffington</td>\n",
              "      <td>[0, 0]</td>\n",
              "      <td>For simple calculations and discounted cash fl...</td>\n",
              "      <td>5</td>\n",
              "      <td>Still the best</td>\n",
              "      <td>1375574400</td>\n",
              "      <td>08 4, 2013</td>\n",
              "    </tr>\n",
              "  </tbody>\n",
              "</table>\n",
              "</div>"
            ],
            "text/plain": [
              "       reviewerID        asin  ... unixReviewTime   reviewTime\n",
              "0  A32T2H8150OJLU  B00000JBLH  ...     1094169600   09 3, 2004\n",
              "1  A3MAFS04ZABRGO  B00000JBLH  ...     1197676800  12 15, 2007\n",
              "2  A1F1A0QQP2XVH5  B00000JBLH  ...     1293840000   01 1, 2011\n",
              "3   A49R5DBXXQDE5  B00000JBLH  ...     1145404800  04 19, 2006\n",
              "4  A2XRMQA6PJ5ZJ8  B00000JBLH  ...     1375574400   08 4, 2013\n",
              "\n",
              "[5 rows x 9 columns]"
            ]
          },
          "metadata": {
            "tags": []
          },
          "execution_count": 3
        }
      ]
    },
    {
      "cell_type": "markdown",
      "metadata": {
        "id": "vCZoUlTM2mjm",
        "colab_type": "text"
      },
      "source": [
        "Tokenize and make one list of words"
      ]
    },
    {
      "cell_type": "code",
      "metadata": {
        "id": "V6grTBm72lZX",
        "colab_type": "code",
        "outputId": "526ee5eb-88e9-4f1d-fcb0-6adcf994a84e",
        "colab": {
          "base_uri": "https://localhost:8080/",
          "height": 141
        }
      },
      "source": [
        "import nltk\n",
        "nltk.download('punkt')\n",
        "nltk.download('wordnet')\n",
        "nltk.download('averaged_perceptron_tagger')\n",
        "from nltk.tokenize import word_tokenize\n",
        "import re\n",
        "from nltk.corpus import stopwords\n",
        "from string import digits\n"
      ],
      "execution_count": 0,
      "outputs": [
        {
          "output_type": "stream",
          "text": [
            "[nltk_data] Downloading package punkt to /root/nltk_data...\n",
            "[nltk_data]   Unzipping tokenizers/punkt.zip.\n",
            "[nltk_data] Downloading package wordnet to /root/nltk_data...\n",
            "[nltk_data]   Unzipping corpora/wordnet.zip.\n",
            "[nltk_data] Downloading package averaged_perceptron_tagger to\n",
            "[nltk_data]     /root/nltk_data...\n",
            "[nltk_data]   Unzipping taggers/averaged_perceptron_tagger.zip.\n"
          ],
          "name": "stdout"
        }
      ]
    },
    {
      "cell_type": "code",
      "metadata": {
        "id": "PTLZ_oGl2lWW",
        "colab_type": "code",
        "outputId": "7bac63e4-5ed5-4352-e72c-d71598cd7350",
        "colab": {
          "base_uri": "https://localhost:8080/",
          "height": 52
        }
      },
      "source": [
        "nltk.download('stopwords') \n",
        "stop_words=set(stopwords.words('english')) "
      ],
      "execution_count": 0,
      "outputs": [
        {
          "output_type": "stream",
          "text": [
            "[nltk_data] Downloading package stopwords to /root/nltk_data...\n",
            "[nltk_data]   Unzipping corpora/stopwords.zip.\n"
          ],
          "name": "stdout"
        }
      ]
    },
    {
      "cell_type": "code",
      "metadata": {
        "id": "wFJ0xV4s3flz",
        "colab_type": "code",
        "colab": {}
      },
      "source": [
        "#text=df.reviewText[0]\n",
        "def corpus(text):\n",
        "  text=text.lower()\n",
        "  remove_digits = str.maketrans('', '', digits)\n",
        "  text = text.translate(remove_digits)\n",
        "  text = re.sub(r'[^\\w\\s]',' ',text)\n",
        "  tokenized_text=word_tokenize(text)\n",
        "  final_words=[word for word in tokenized_text if word not in stop_words]\n",
        "  return final_words"
      ],
      "execution_count": 0,
      "outputs": []
    },
    {
      "cell_type": "code",
      "metadata": {
        "id": "ECBZa3FS3for",
        "colab_type": "code",
        "colab": {}
      },
      "source": [
        "final=df.reviewText.apply(corpus)"
      ],
      "execution_count": 0,
      "outputs": []
    },
    {
      "cell_type": "code",
      "metadata": {
        "id": "93a0ZFdk3fs-",
        "colab_type": "code",
        "colab": {}
      },
      "source": [
        "final=final.tolist()"
      ],
      "execution_count": 0,
      "outputs": []
    },
    {
      "cell_type": "code",
      "metadata": {
        "id": "knwdpVBH3gBP",
        "colab_type": "code",
        "outputId": "35fb3b8a-087d-48f6-b530-afce32ba1a54",
        "colab": {
          "base_uri": "https://localhost:8080/",
          "height": 35
        }
      },
      "source": [
        "len(final)"
      ],
      "execution_count": 0,
      "outputs": [
        {
          "output_type": "execute_result",
          "data": {
            "text/plain": [
              "53258"
            ]
          },
          "metadata": {
            "tags": []
          },
          "execution_count": 9
        }
      ]
    },
    {
      "cell_type": "code",
      "metadata": {
        "id": "DlKaT1knVsGp",
        "colab_type": "code",
        "outputId": "131000d9-e83b-4cf1-f2e2-2a5f5139d4a9",
        "colab": {
          "base_uri": "https://localhost:8080/",
          "height": 52
        }
      },
      "source": [
        "import itertools\n",
        "merged = list(itertools.chain.from_iterable(final))\n",
        "print(len(merged))\n",
        "merged=list(set(merged))\n",
        "print(len(merged))"
      ],
      "execution_count": 0,
      "outputs": [
        {
          "output_type": "stream",
          "text": [
            "3898143\n",
            "47207\n"
          ],
          "name": "stdout"
        }
      ]
    },
    {
      "cell_type": "code",
      "metadata": {
        "id": "G9ng-XD-VsJn",
        "colab_type": "code",
        "colab": {}
      },
      "source": [
        "from itertools import combinations \n",
        "comb = list(combinations(merged[:10], 2))\n"
      ],
      "execution_count": 0,
      "outputs": []
    },
    {
      "cell_type": "code",
      "metadata": {
        "id": "C-qh0V_NiXf3",
        "colab_type": "code",
        "colab": {}
      },
      "source": [
        "from gensim.models import Word2Vec\n",
        "from gensim import models\n",
        "from gensim.test.utils import get_tmpfile, common_texts\n"
      ],
      "execution_count": 0,
      "outputs": []
    },
    {
      "cell_type": "code",
      "metadata": {
        "id": "GHMmfGGeir5v",
        "colab_type": "code",
        "colab": {}
      },
      "source": [
        "modelwv = Word2Vec(list(final), min_count=1,size= 50,workers=3, window =3, sg = 1)"
      ],
      "execution_count": 0,
      "outputs": []
    },
    {
      "cell_type": "code",
      "metadata": {
        "id": "31UAs7XfjiWP",
        "colab_type": "code",
        "outputId": "73c1ad16-0d78-4e7a-dfc1-44270e044ef7",
        "colab": {
          "base_uri": "https://localhost:8080/",
          "height": 872
        }
      },
      "source": [
        "for i in range (len(comb)):\n",
        "  print(comb[i][0],comb[i][1],' : ',modelwv.wv.similarity(comb[i][0],comb[i][1]))"
      ],
      "execution_count": 0,
      "outputs": [
        {
          "output_type": "stream",
          "text": [
            "kwanzaa qualities  :  0.5714468\n",
            "kwanzaa cluttery  :  0.88954717\n",
            "kwanzaa unobstusive  :  0.8906421\n",
            "kwanzaa sharpx  :  0.65140796\n",
            "kwanzaa interwoven  :  0.90693647\n",
            "kwanzaa basyx  :  0.67126936\n",
            "kwanzaa refurbs  :  0.8927942\n",
            "kwanzaa scrawny  :  0.87314355\n",
            "kwanzaa lag  :  0.6092969\n",
            "qualities cluttery  :  0.5929138\n",
            "qualities unobstusive  :  0.6055248\n",
            "qualities sharpx  :  0.37563565\n",
            "qualities interwoven  :  0.6717856\n",
            "qualities basyx  :  0.53075564\n",
            "qualities refurbs  :  0.67222255\n",
            "qualities scrawny  :  0.5398304\n",
            "qualities lag  :  0.5310218\n",
            "cluttery unobstusive  :  0.88140666\n",
            "cluttery sharpx  :  0.6121281\n",
            "cluttery interwoven  :  0.9019558\n",
            "cluttery basyx  :  0.62690395\n",
            "cluttery refurbs  :  0.8638988\n",
            "cluttery scrawny  :  0.8610929\n",
            "cluttery lag  :  0.7015033\n",
            "unobstusive sharpx  :  0.6035801\n",
            "unobstusive interwoven  :  0.8674736\n",
            "unobstusive basyx  :  0.57130927\n",
            "unobstusive refurbs  :  0.86295307\n",
            "unobstusive scrawny  :  0.8067061\n",
            "unobstusive lag  :  0.73210865\n",
            "sharpx interwoven  :  0.6388942\n",
            "sharpx basyx  :  0.5386809\n",
            "sharpx refurbs  :  0.62231666\n",
            "sharpx scrawny  :  0.5367635\n",
            "sharpx lag  :  0.37772268\n",
            "interwoven basyx  :  0.6364792\n",
            "interwoven refurbs  :  0.8884685\n",
            "interwoven scrawny  :  0.8894835\n",
            "interwoven lag  :  0.5907688\n",
            "basyx refurbs  :  0.6306669\n",
            "basyx scrawny  :  0.5174899\n",
            "basyx lag  :  0.3929486\n",
            "refurbs scrawny  :  0.86891717\n",
            "refurbs lag  :  0.6826792\n",
            "scrawny lag  :  0.52691585\n"
          ],
          "name": "stdout"
        },
        {
          "output_type": "stream",
          "text": [
            "/usr/local/lib/python3.6/dist-packages/gensim/matutils.py:737: FutureWarning: Conversion of the second argument of issubdtype from `int` to `np.signedinteger` is deprecated. In future, it will be treated as `np.int64 == np.dtype(int).type`.\n",
            "  if np.issubdtype(vec.dtype, np.int):\n"
          ],
          "name": "stderr"
        }
      ]
    }
  ]
}