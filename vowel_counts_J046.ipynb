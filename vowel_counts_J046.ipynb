{
  "nbformat": 4,
  "nbformat_minor": 0,
  "metadata": {
    "colab": {
      "name": "Copy of vowel_counts.ipynb",
      "provenance": [],
      "include_colab_link": true
    },
    "kernelspec": {
      "name": "python3",
      "display_name": "Python 3"
    }
  },
  "cells": [
    {
      "cell_type": "markdown",
      "metadata": {
        "id": "view-in-github",
        "colab_type": "text"
      },
      "source": [
        "<a href=\"https://colab.research.google.com/github/GayathriShrikanth/J046NLP/blob/master/Classwork/vowel_counts.ipynb\" target=\"_parent\"><img src=\"https://colab.research.google.com/assets/colab-badge.svg\" alt=\"Open In Colab\"/></a>"
      ]
    },
    {
      "cell_type": "code",
      "metadata": {
        "id": "Ccs9I-UFinRx",
        "colab_type": "code",
        "colab": {}
      },
      "source": [
        "#Read the data\n",
        "import pandas as pd\n",
        "import numpy as np\n",
        "df=pd.read_json(\"http://snap.stanford.edu/data/amazon/productGraph/categoryFiles/reviews_Office_Products_5.json.gz\", lines=True)"
      ],
      "execution_count": 0,
      "outputs": []
    },
    {
      "cell_type": "code",
      "metadata": {
        "id": "qikwrrcSirT8",
        "colab_type": "code",
        "outputId": "54106170-ece9-4ce9-8592-395b84ac4c5b",
        "colab": {
          "base_uri": "https://localhost:8080/",
          "height": 204
        }
      },
      "source": [
        "df.head()"
      ],
      "execution_count": 0,
      "outputs": [
        {
          "output_type": "execute_result",
          "data": {
            "text/html": [
              "<div>\n",
              "<style scoped>\n",
              "    .dataframe tbody tr th:only-of-type {\n",
              "        vertical-align: middle;\n",
              "    }\n",
              "\n",
              "    .dataframe tbody tr th {\n",
              "        vertical-align: top;\n",
              "    }\n",
              "\n",
              "    .dataframe thead th {\n",
              "        text-align: right;\n",
              "    }\n",
              "</style>\n",
              "<table border=\"1\" class=\"dataframe\">\n",
              "  <thead>\n",
              "    <tr style=\"text-align: right;\">\n",
              "      <th></th>\n",
              "      <th>reviewerID</th>\n",
              "      <th>asin</th>\n",
              "      <th>reviewerName</th>\n",
              "      <th>helpful</th>\n",
              "      <th>reviewText</th>\n",
              "      <th>overall</th>\n",
              "      <th>summary</th>\n",
              "      <th>unixReviewTime</th>\n",
              "      <th>reviewTime</th>\n",
              "    </tr>\n",
              "  </thead>\n",
              "  <tbody>\n",
              "    <tr>\n",
              "      <th>0</th>\n",
              "      <td>A32T2H8150OJLU</td>\n",
              "      <td>B00000JBLH</td>\n",
              "      <td>ARH</td>\n",
              "      <td>[3, 4]</td>\n",
              "      <td>I bought my first HP12C in about 1984 or so, a...</td>\n",
              "      <td>5</td>\n",
              "      <td>A solid performer, and long time friend</td>\n",
              "      <td>1094169600</td>\n",
              "      <td>09 3, 2004</td>\n",
              "    </tr>\n",
              "    <tr>\n",
              "      <th>1</th>\n",
              "      <td>A3MAFS04ZABRGO</td>\n",
              "      <td>B00000JBLH</td>\n",
              "      <td>Let it Be \"Alan\"</td>\n",
              "      <td>[7, 9]</td>\n",
              "      <td>WHY THIS BELATED REVIEW? I feel very obliged t...</td>\n",
              "      <td>5</td>\n",
              "      <td>Price of GOLD is up, so don't bury the golden ...</td>\n",
              "      <td>1197676800</td>\n",
              "      <td>12 15, 2007</td>\n",
              "    </tr>\n",
              "    <tr>\n",
              "      <th>2</th>\n",
              "      <td>A1F1A0QQP2XVH5</td>\n",
              "      <td>B00000JBLH</td>\n",
              "      <td>Mark B</td>\n",
              "      <td>[3, 3]</td>\n",
              "      <td>I have an HP 48GX that has been kicking for mo...</td>\n",
              "      <td>2</td>\n",
              "      <td>Good functionality, but not durable like old HPs</td>\n",
              "      <td>1293840000</td>\n",
              "      <td>01 1, 2011</td>\n",
              "    </tr>\n",
              "    <tr>\n",
              "      <th>3</th>\n",
              "      <td>A49R5DBXXQDE5</td>\n",
              "      <td>B00000JBLH</td>\n",
              "      <td>R. D Johnson</td>\n",
              "      <td>[7, 8]</td>\n",
              "      <td>I've started doing more finance stuff recently...</td>\n",
              "      <td>5</td>\n",
              "      <td>One of the last of an almost extinct species</td>\n",
              "      <td>1145404800</td>\n",
              "      <td>04 19, 2006</td>\n",
              "    </tr>\n",
              "    <tr>\n",
              "      <th>4</th>\n",
              "      <td>A2XRMQA6PJ5ZJ8</td>\n",
              "      <td>B00000JBLH</td>\n",
              "      <td>Roger J. Buffington</td>\n",
              "      <td>[0, 0]</td>\n",
              "      <td>For simple calculations and discounted cash fl...</td>\n",
              "      <td>5</td>\n",
              "      <td>Still the best</td>\n",
              "      <td>1375574400</td>\n",
              "      <td>08 4, 2013</td>\n",
              "    </tr>\n",
              "  </tbody>\n",
              "</table>\n",
              "</div>"
            ],
            "text/plain": [
              "       reviewerID        asin  ... unixReviewTime   reviewTime\n",
              "0  A32T2H8150OJLU  B00000JBLH  ...     1094169600   09 3, 2004\n",
              "1  A3MAFS04ZABRGO  B00000JBLH  ...     1197676800  12 15, 2007\n",
              "2  A1F1A0QQP2XVH5  B00000JBLH  ...     1293840000   01 1, 2011\n",
              "3   A49R5DBXXQDE5  B00000JBLH  ...     1145404800  04 19, 2006\n",
              "4  A2XRMQA6PJ5ZJ8  B00000JBLH  ...     1375574400   08 4, 2013\n",
              "\n",
              "[5 rows x 9 columns]"
            ]
          },
          "metadata": {
            "tags": []
          },
          "execution_count": 11
        }
      ]
    },
    {
      "cell_type": "code",
      "metadata": {
        "id": "nBsOOA7BirXU",
        "colab_type": "code",
        "outputId": "7c10e575-6d4c-4dc4-e9dc-d468d131d3ff",
        "colab": {
          "base_uri": "https://localhost:8080/",
          "height": 34
        }
      },
      "source": [
        "np.shape(df)"
      ],
      "execution_count": 0,
      "outputs": [
        {
          "output_type": "execute_result",
          "data": {
            "text/plain": [
              "(53258, 9)"
            ]
          },
          "metadata": {
            "tags": []
          },
          "execution_count": 12
        }
      ]
    },
    {
      "cell_type": "markdown",
      "metadata": {
        "id": "v4QeJUhNPRYm",
        "colab_type": "text"
      },
      "source": [
        "**Count of vowels and consonants**\n"
      ]
    },
    {
      "cell_type": "code",
      "metadata": {
        "id": "brhHkwpNiree",
        "colab_type": "code",
        "colab": {}
      },
      "source": [
        "#Function to count count of words in a string and store in a dictionary\n",
        "def alpha_count(str):\n",
        "    vowels=['a', 'e', 'i', 'o', 'u']\n",
        "    vcounts=0\n",
        "    concounts=0\n",
        "    wcounts=0\n",
        "    str=str.lower()\n",
        "    words = str.split()\n",
        "    for word in words:\n",
        "      for w in word:\n",
        "        if w.isalpha():\n",
        "            if w in vowels:\n",
        "              vcounts+=1\n",
        "            else:\n",
        "              concounts+=1\n",
        "      wcounts+=1\n",
        "    counts={'vowel_c':vcounts, 'cons_c':concounts, 't_words':wcounts}\n",
        "    return counts\n",
        "\n"
      ],
      "execution_count": 0,
      "outputs": []
    },
    {
      "cell_type": "code",
      "metadata": {
        "id": "hpeh3_miirRV",
        "colab_type": "code",
        "colab": {}
      },
      "source": [
        "df[\"Count\"]=df.reviewText.apply(alpha_count)"
      ],
      "execution_count": 0,
      "outputs": []
    },
    {
      "cell_type": "code",
      "metadata": {
        "id": "vo_0AaozpdnE",
        "colab_type": "code",
        "outputId": "32c4f1ac-558b-48d8-b866-999cc1d34836",
        "colab": {
          "base_uri": "https://localhost:8080/",
          "height": 221
        }
      },
      "source": [
        "df[\"Count\"]"
      ],
      "execution_count": 0,
      "outputs": [
        {
          "output_type": "execute_result",
          "data": {
            "text/plain": [
              "0          {'vowel_c': 279, 'cons_c': 437, 't_words': 186}\n",
              "1        {'vowel_c': 1504, 'cons_c': 2685, 't_words': 911}\n",
              "2           {'vowel_c': 134, 'cons_c': 235, 't_words': 96}\n",
              "3        {'vowel_c': 1089, 'cons_c': 1775, 't_words': 603}\n",
              "4          {'vowel_c': 208, 'cons_c': 338, 't_words': 120}\n",
              "                               ...                        \n",
              "53253      {'vowel_c': 236, 'cons_c': 358, 't_words': 146}\n",
              "53254     {'vowel_c': 839, 'cons_c': 1308, 't_words': 498}\n",
              "53255      {'vowel_c': 422, 'cons_c': 693, 't_words': 290}\n",
              "53256      {'vowel_c': 232, 'cons_c': 335, 't_words': 147}\n",
              "53257      {'vowel_c': 582, 'cons_c': 901, 't_words': 337}\n",
              "Name: Count, Length: 53258, dtype: object"
            ]
          },
          "metadata": {
            "tags": []
          },
          "execution_count": 20
        }
      ]
    },
    {
      "cell_type": "markdown",
      "metadata": {
        "id": "uqRtfR_nPlzu",
        "colab_type": "text"
      },
      "source": [
        "**Words that start with B OR end with G**"
      ]
    },
    {
      "cell_type": "code",
      "metadata": {
        "id": "mke9hqQAubf3",
        "colab_type": "code",
        "colab": {}
      },
      "source": [
        "import re\n",
        "def begB_endG(text):\n",
        "  text = re.sub(r'[^\\w\\s]',' ',text)    \n",
        "  x = re.findall(r'\\b[Bb]\\w+\\b', text)\n",
        "  y = re.findall(r'\\b\\w+[gG]\\b',text)\n",
        "  return(set(x+y))\n",
        "    "
      ],
      "execution_count": 0,
      "outputs": []
    },
    {
      "cell_type": "code",
      "metadata": {
        "id": "DY_OYarsvBsQ",
        "colab_type": "code",
        "colab": {}
      },
      "source": [
        "df[\"words\"]=df.reviewText.apply(begB_endG)"
      ],
      "execution_count": 0,
      "outputs": []
    },
    {
      "cell_type": "code",
      "metadata": {
        "id": "VtHevExTvBpN",
        "colab_type": "code",
        "outputId": "18cd019c-5ab4-45bf-8059-7d982f2e13a5",
        "colab": {
          "base_uri": "https://localhost:8080/",
          "height": 221
        }
      },
      "source": [
        "df[\"words\"]"
      ],
      "execution_count": 0,
      "outputs": [
        {
          "output_type": "execute_result",
          "data": {
            "text/plain": [
              "0        {batteries, travelling, using, running, 49G, c...\n",
              "1        {disappointing, be, remaining, because, by, re...\n",
              "2                    {kicking, been, working, giving, But}\n",
              "3        {better, but, nothing, be, because, looking, g...\n",
              "4        {purchasing, practicing, but, be, brackets, bu...\n",
              "                               ...                        \n",
              "53253    {batteries, using, swung, weighing, long, butt...\n",
              "53254    {batteries, using, bright, long, showing, but,...\n",
              "53255    {batteries, backup, bright, using, weighing, b...\n",
              "53256    {batteries, sending, using, books, plug, butto...\n",
              "53257    {but, be, because, by, Because, bowls, using, ...\n",
              "Name: words, Length: 53258, dtype: object"
            ]
          },
          "metadata": {
            "tags": []
          },
          "execution_count": 19
        }
      ]
    }
  ]
}
