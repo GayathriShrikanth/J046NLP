{
  "nbformat": 4,
  "nbformat_minor": 0,
  "metadata": {
    "colab": {
      "name": "nth_prime.ipynb",
      "provenance": [],
      "include_colab_link": true
    },
    "kernelspec": {
      "name": "python3",
      "display_name": "Python 3"
    }
  },
  "cells": [
    {
      "cell_type": "markdown",
      "metadata": {
        "id": "view-in-github",
        "colab_type": "text"
      },
      "source": [
        "<a href=\"https://colab.research.google.com/github/GayathriShrikanth/J046NLP/blob/master/Classwork/nth_prime.ipynb\" target=\"_parent\"><img src=\"https://colab.research.google.com/assets/colab-badge.svg\" alt=\"Open In Colab\"/></a>"
      ]
    },
    {
      "cell_type": "code",
      "metadata": {
        "id": "QxaPeta3SaqZ",
        "colab_type": "code",
        "colab": {}
      },
      "source": [
        "def N_prime(n):\n",
        "  num=[]\n",
        "  k=int(2)\n",
        "  while (len(num)<n):\n",
        "    count=0\n",
        "    #Loop till root k\n",
        "    for i in range (1,int(k**(1/2)+1)):\n",
        "      if(k%i==0):\n",
        "        count+=1\n",
        "    if(count==1):\n",
        "      num.append(k)\n",
        "    k=k+1\n",
        "  print(num[-1])  "
      ],
      "execution_count": 0,
      "outputs": []
    },
    {
      "cell_type": "code",
      "metadata": {
        "id": "Q3U4eXlzVN0m",
        "colab_type": "code",
        "colab": {
          "base_uri": "https://localhost:8080/",
          "height": 34
        },
        "outputId": "34550129-1f6f-4955-c464-1077bbb90272"
      },
      "source": [
        "#Calling the function\n",
        "N_prime(560)"
      ],
      "execution_count": 3,
      "outputs": [
        {
          "output_type": "stream",
          "text": [
            "4057\n"
          ],
          "name": "stdout"
        }
      ]
    }
  ]
}
