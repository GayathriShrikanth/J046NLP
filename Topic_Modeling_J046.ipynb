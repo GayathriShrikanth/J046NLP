{
  "nbformat": 4,
  "nbformat_minor": 0,
  "metadata": {
    "colab": {
      "name": "Topic_Modeling_J046.ipynb",
      "provenance": [],
      "machine_shape": "hm",
      "include_colab_link": true
    },
    "kernelspec": {
      "name": "python3",
      "display_name": "Python 3"
    }
  },
  "cells": [
    {
      "cell_type": "markdown",
      "metadata": {
        "id": "view-in-github",
        "colab_type": "text"
      },
      "source": [
        "<a href=\"https://colab.research.google.com/github/GayathriShrikanth/J046NLP/blob/master/Topic_Modeling_J046.ipynb\" target=\"_parent\"><img src=\"https://colab.research.google.com/assets/colab-badge.svg\" alt=\"Open In Colab\"/></a>"
      ]
    },
    {
      "cell_type": "code",
      "metadata": {
        "id": "J6PU-bw7j_l8",
        "colab_type": "code",
        "colab": {}
      },
      "source": [
        "# Colab library to upload files to notebook\n",
        "from google.colab import files\n",
        "import os\n",
        "# Install Kaggle library\n",
        "!pip install -q kaggle"
      ],
      "execution_count": 0,
      "outputs": []
    },
    {
      "cell_type": "code",
      "metadata": {
        "id": "qDxHh7YWkMeg",
        "colab_type": "code",
        "outputId": "40172f59-b903-4676-ba41-734903a1be0d",
        "colab": {
          "resources": {
            "http://localhost:8080/nbextensions/google.colab/files.js": {
              "data": "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",
              "ok": true,
              "headers": [
                [
                  "content-type",
                  "application/javascript"
                ]
              ],
              "status": 200,
              "status_text": ""
            }
          },
          "base_uri": "https://localhost:8080/",
          "height": 75
        }
      },
      "source": [
        "# Upload kaggle API key file\n",
        "uploaded = files.upload()"
      ],
      "execution_count": 0,
      "outputs": [
        {
          "output_type": "display_data",
          "data": {
            "text/html": [
              "\n",
              "     <input type=\"file\" id=\"files-ba1ea56b-65b1-4500-9a0e-95a33843fc6f\" name=\"files[]\" multiple disabled />\n",
              "     <output id=\"result-ba1ea56b-65b1-4500-9a0e-95a33843fc6f\">\n",
              "      Upload widget is only available when the cell has been executed in the\n",
              "      current browser session. Please rerun this cell to enable.\n",
              "      </output>\n",
              "      <script src=\"/nbextensions/google.colab/files.js\"></script> "
            ],
            "text/plain": [
              "<IPython.core.display.HTML object>"
            ]
          },
          "metadata": {
            "tags": []
          }
        },
        {
          "output_type": "stream",
          "text": [
            "Saving kaggle.json to kaggle.json\n"
          ],
          "name": "stdout"
        }
      ]
    },
    {
      "cell_type": "code",
      "metadata": {
        "id": "UZ-9oD6fkMhy",
        "colab_type": "code",
        "colab": {}
      },
      "source": [
        "!mkdir ~/.kaggle\n",
        "!cp /content/kaggle.json ~/.kaggle/kaggle.json"
      ],
      "execution_count": 0,
      "outputs": []
    },
    {
      "cell_type": "code",
      "metadata": {
        "id": "Kk0fliBuH0ib",
        "colab_type": "code",
        "outputId": "a2a84b3f-bdd6-47ad-eafb-848b9221513c",
        "colab": {
          "base_uri": "https://localhost:8080/",
          "height": 88
        }
      },
      "source": [
        "!kaggle datasets download -d stanfordu/stanford-question-answering-dataset"
      ],
      "execution_count": 0,
      "outputs": [
        {
          "output_type": "stream",
          "text": [
            "Warning: Your Kaggle API key is readable by other users on this system! To fix this, you can run 'chmod 600 /root/.kaggle/kaggle.json'\n",
            "Downloading stanford-question-answering-dataset.zip to /content\n",
            "\r  0% 0.00/8.73M [00:00<?, ?B/s]\r 80% 7.00M/8.73M [00:00<00:00, 71.5MB/s]\n",
            "\r100% 8.73M/8.73M [00:00<00:00, 80.8MB/s]\n"
          ],
          "name": "stdout"
        }
      ]
    },
    {
      "cell_type": "code",
      "metadata": {
        "id": "vPLO7jiekMbb",
        "colab_type": "code",
        "outputId": "aacf2daa-25d3-4034-e9e8-9f3b04b62e47",
        "colab": {
          "base_uri": "https://localhost:8080/",
          "height": 88
        }
      },
      "source": [
        "!kaggle datasets download -d hj5992/nlp-topic-modelling"
      ],
      "execution_count": 0,
      "outputs": [
        {
          "output_type": "stream",
          "text": [
            "Warning: Your Kaggle API key is readable by other users on this system! To fix this, you can run 'chmod 600 /root/.kaggle/kaggle.json'\n",
            "Downloading nlp-topic-modelling.zip to /content\n",
            " 84% 96.0M/115M [00:03<00:01, 16.0MB/s]\n",
            "100% 115M/115M [00:03<00:00, 32.2MB/s] \n"
          ],
          "name": "stdout"
        }
      ]
    },
    {
      "cell_type": "code",
      "metadata": {
        "id": "EU5g7na9lcnR",
        "colab_type": "code",
        "colab": {}
      },
      "source": [
        "# Import pandas if you already haven't\n",
        "import pandas as pd\n",
        "# Import the test and train datasets into pandas dataframe\n",
        "df = pd.read_csv('nlp-topic-modelling.zip', compression='zip', header=0, sep=',', quotechar='\"')"
      ],
      "execution_count": 0,
      "outputs": []
    },
    {
      "cell_type": "code",
      "metadata": {
        "id": "VFmSD_zDpE1y",
        "colab_type": "code",
        "colab": {}
      },
      "source": [
        "df=df[0:10000]"
      ],
      "execution_count": 0,
      "outputs": []
    },
    {
      "cell_type": "code",
      "metadata": {
        "id": "SUn6I_6mlcyX",
        "colab_type": "code",
        "outputId": "95a79a15-cba9-4031-a2b1-da20723d78f6",
        "colab": {
          "base_uri": "https://localhost:8080/",
          "height": 278
        }
      },
      "source": [
        "df.head()"
      ],
      "execution_count": 0,
      "outputs": [
        {
          "output_type": "execute_result",
          "data": {
            "text/html": [
              "<div>\n",
              "<style scoped>\n",
              "    .dataframe tbody tr th:only-of-type {\n",
              "        vertical-align: middle;\n",
              "    }\n",
              "\n",
              "    .dataframe tbody tr th {\n",
              "        vertical-align: top;\n",
              "    }\n",
              "\n",
              "    .dataframe thead th {\n",
              "        text-align: right;\n",
              "    }\n",
              "</style>\n",
              "<table border=\"1\" class=\"dataframe\">\n",
              "  <thead>\n",
              "    <tr style=\"text-align: right;\">\n",
              "      <th></th>\n",
              "      <th>Id</th>\n",
              "      <th>ProductId</th>\n",
              "      <th>UserId</th>\n",
              "      <th>ProfileName</th>\n",
              "      <th>HelpfulnessNumerator</th>\n",
              "      <th>HelpfulnessDenominator</th>\n",
              "      <th>Score</th>\n",
              "      <th>Time</th>\n",
              "      <th>Summary</th>\n",
              "      <th>Text</th>\n",
              "    </tr>\n",
              "  </thead>\n",
              "  <tbody>\n",
              "    <tr>\n",
              "      <th>0</th>\n",
              "      <td>1</td>\n",
              "      <td>B001E4KFG0</td>\n",
              "      <td>A3SGXH7AUHU8GW</td>\n",
              "      <td>delmartian</td>\n",
              "      <td>1</td>\n",
              "      <td>1</td>\n",
              "      <td>5</td>\n",
              "      <td>1303862400</td>\n",
              "      <td>Good Quality Dog Food</td>\n",
              "      <td>I have bought several of the Vitality canned d...</td>\n",
              "    </tr>\n",
              "    <tr>\n",
              "      <th>1</th>\n",
              "      <td>2</td>\n",
              "      <td>B00813GRG4</td>\n",
              "      <td>A1D87F6ZCVE5NK</td>\n",
              "      <td>dll pa</td>\n",
              "      <td>0</td>\n",
              "      <td>0</td>\n",
              "      <td>1</td>\n",
              "      <td>1346976000</td>\n",
              "      <td>Not as Advertised</td>\n",
              "      <td>Product arrived labeled as Jumbo Salted Peanut...</td>\n",
              "    </tr>\n",
              "    <tr>\n",
              "      <th>2</th>\n",
              "      <td>3</td>\n",
              "      <td>B000LQOCH0</td>\n",
              "      <td>ABXLMWJIXXAIN</td>\n",
              "      <td>Natalia Corres \"Natalia Corres\"</td>\n",
              "      <td>1</td>\n",
              "      <td>1</td>\n",
              "      <td>4</td>\n",
              "      <td>1219017600</td>\n",
              "      <td>\"Delight\" says it all</td>\n",
              "      <td>This is a confection that has been around a fe...</td>\n",
              "    </tr>\n",
              "    <tr>\n",
              "      <th>3</th>\n",
              "      <td>4</td>\n",
              "      <td>B000UA0QIQ</td>\n",
              "      <td>A395BORC6FGVXV</td>\n",
              "      <td>Karl</td>\n",
              "      <td>3</td>\n",
              "      <td>3</td>\n",
              "      <td>2</td>\n",
              "      <td>1307923200</td>\n",
              "      <td>Cough Medicine</td>\n",
              "      <td>If you are looking for the secret ingredient i...</td>\n",
              "    </tr>\n",
              "    <tr>\n",
              "      <th>4</th>\n",
              "      <td>5</td>\n",
              "      <td>B006K2ZZ7K</td>\n",
              "      <td>A1UQRSCLF8GW1T</td>\n",
              "      <td>Michael D. Bigham \"M. Wassir\"</td>\n",
              "      <td>0</td>\n",
              "      <td>0</td>\n",
              "      <td>5</td>\n",
              "      <td>1350777600</td>\n",
              "      <td>Great taffy</td>\n",
              "      <td>Great taffy at a great price.  There was a wid...</td>\n",
              "    </tr>\n",
              "  </tbody>\n",
              "</table>\n",
              "</div>"
            ],
            "text/plain": [
              "   Id  ...                                               Text\n",
              "0   1  ...  I have bought several of the Vitality canned d...\n",
              "1   2  ...  Product arrived labeled as Jumbo Salted Peanut...\n",
              "2   3  ...  This is a confection that has been around a fe...\n",
              "3   4  ...  If you are looking for the secret ingredient i...\n",
              "4   5  ...  Great taffy at a great price.  There was a wid...\n",
              "\n",
              "[5 rows x 10 columns]"
            ]
          },
          "metadata": {
            "tags": []
          },
          "execution_count": 16
        }
      ]
    },
    {
      "cell_type": "code",
      "metadata": {
        "id": "v3Uy8F6OmF7D",
        "colab_type": "code",
        "colab": {}
      },
      "source": [
        "X=pd.DataFrame(df[\"Text\"])"
      ],
      "execution_count": 0,
      "outputs": []
    },
    {
      "cell_type": "code",
      "metadata": {
        "id": "VxYSFz1tmm0e",
        "colab_type": "code",
        "outputId": "74623250-1e46-46f1-875c-2a1c26fef34f",
        "colab": {
          "base_uri": "https://localhost:8080/",
          "height": 212
        }
      },
      "source": [
        "import re\n",
        "import nltk\n",
        "import itertools\n",
        "import pandas as pd\n",
        "from gensim import models\n",
        "from nltk import word_tokenize\n",
        "from nltk.corpus import stopwords\n",
        "from gensim.models import Word2Vec\n",
        "from itertools import combinations\n",
        "from string import digits,punctuation \n",
        "from nltk.tokenize import word_tokenize\n",
        "from gensim.test.utils import get_tmpfile, common_texts\n",
        "nltk.download('punkt')\n",
        "nltk.download('punkt')\n",
        "nltk.download('wordnet')\n",
        "nltk.download('stopwords') \n",
        "nltk.download('averaged_perceptron_tagger')\n",
        "\n",
        "remove_digits = str.maketrans('', '', digits)\n",
        "stop_words = set(stopwords.words('english'))\n",
        "\n",
        "def tokens(str):\n",
        "  str = str.lower()\n",
        "  str = str.translate(remove_digits)\n",
        "  str = re.sub(r'[^\\w\\s]',' ',str)\n",
        "  token = word_tokenize(str)\n",
        "  words = [word for word in token if word not in stop_words and word not in punctuation]\n",
        "  return words\n",
        "def pip(data):\n",
        "  text=word_tokenize(data)\n",
        "  tokenizer = MWETokenizer()\n",
        "  textmw= tokenizer.tokenize(data.split())\n",
        "  lemmatizer = WordNetLemmatizer()\n",
        "  text3=lemmatizer.lemmatize(data)\n",
        "  text4=nltk.pos_tag(data)\n",
        "  words={\"tokenizer\":text,\"lemmetizer\":text3, \"pos_tag\":text4}\n",
        "  return words"
      ],
      "execution_count": 0,
      "outputs": [
        {
          "output_type": "stream",
          "text": [
            "[nltk_data] Downloading package punkt to /root/nltk_data...\n",
            "[nltk_data]   Unzipping tokenizers/punkt.zip.\n",
            "[nltk_data] Downloading package punkt to /root/nltk_data...\n",
            "[nltk_data]   Package punkt is already up-to-date!\n",
            "[nltk_data] Downloading package wordnet to /root/nltk_data...\n",
            "[nltk_data]   Unzipping corpora/wordnet.zip.\n",
            "[nltk_data] Downloading package stopwords to /root/nltk_data...\n",
            "[nltk_data]   Unzipping corpora/stopwords.zip.\n",
            "[nltk_data] Downloading package averaged_perceptron_tagger to\n",
            "[nltk_data]     /root/nltk_data...\n",
            "[nltk_data]   Unzipping taggers/averaged_perceptron_tagger.zip.\n"
          ],
          "name": "stdout"
        }
      ]
    },
    {
      "cell_type": "code",
      "metadata": {
        "id": "TtjwbOZWnTjI",
        "colab_type": "code",
        "outputId": "8d58de41-c582-4adc-920e-e71f148187fd",
        "colab": {
          "base_uri": "https://localhost:8080/",
          "height": 194
        }
      },
      "source": [
        "X.head()"
      ],
      "execution_count": 0,
      "outputs": [
        {
          "output_type": "execute_result",
          "data": {
            "text/html": [
              "<div>\n",
              "<style scoped>\n",
              "    .dataframe tbody tr th:only-of-type {\n",
              "        vertical-align: middle;\n",
              "    }\n",
              "\n",
              "    .dataframe tbody tr th {\n",
              "        vertical-align: top;\n",
              "    }\n",
              "\n",
              "    .dataframe thead th {\n",
              "        text-align: right;\n",
              "    }\n",
              "</style>\n",
              "<table border=\"1\" class=\"dataframe\">\n",
              "  <thead>\n",
              "    <tr style=\"text-align: right;\">\n",
              "      <th></th>\n",
              "      <th>Text</th>\n",
              "      <th>Text_tok</th>\n",
              "    </tr>\n",
              "  </thead>\n",
              "  <tbody>\n",
              "    <tr>\n",
              "      <th>0</th>\n",
              "      <td>I have bought several of the Vitality canned d...</td>\n",
              "      <td>[bought, several, vitality, canned, dog, food,...</td>\n",
              "    </tr>\n",
              "    <tr>\n",
              "      <th>1</th>\n",
              "      <td>Product arrived labeled as Jumbo Salted Peanut...</td>\n",
              "      <td>[product, arrived, labeled, jumbo, salted, pea...</td>\n",
              "    </tr>\n",
              "    <tr>\n",
              "      <th>2</th>\n",
              "      <td>This is a confection that has been around a fe...</td>\n",
              "      <td>[confection, around, centuries, light, pillowy...</td>\n",
              "    </tr>\n",
              "    <tr>\n",
              "      <th>3</th>\n",
              "      <td>If you are looking for the secret ingredient i...</td>\n",
              "      <td>[looking, secret, ingredient, robitussin, beli...</td>\n",
              "    </tr>\n",
              "    <tr>\n",
              "      <th>4</th>\n",
              "      <td>Great taffy at a great price.  There was a wid...</td>\n",
              "      <td>[great, taffy, great, price, wide, assortment,...</td>\n",
              "    </tr>\n",
              "  </tbody>\n",
              "</table>\n",
              "</div>"
            ],
            "text/plain": [
              "                                                Text                                           Text_tok\n",
              "0  I have bought several of the Vitality canned d...  [bought, several, vitality, canned, dog, food,...\n",
              "1  Product arrived labeled as Jumbo Salted Peanut...  [product, arrived, labeled, jumbo, salted, pea...\n",
              "2  This is a confection that has been around a fe...  [confection, around, centuries, light, pillowy...\n",
              "3  If you are looking for the secret ingredient i...  [looking, secret, ingredient, robitussin, beli...\n",
              "4  Great taffy at a great price.  There was a wid...  [great, taffy, great, price, wide, assortment,..."
            ]
          },
          "metadata": {
            "tags": []
          },
          "execution_count": 21
        }
      ]
    },
    {
      "cell_type": "code",
      "metadata": {
        "id": "CjG8G4OinLFH",
        "colab_type": "code",
        "colab": {}
      },
      "source": [
        "X['Text_tok'] = X[\"Text\"].apply(tokens)"
      ],
      "execution_count": 0,
      "outputs": []
    },
    {
      "cell_type": "code",
      "metadata": {
        "id": "wzC8tuLEniGy",
        "colab_type": "code",
        "colab": {}
      },
      "source": [
        "from sklearn.feature_extraction.text import TfidfVectorizer\n",
        "def dummy_fun(doc):\n",
        "    return doc\n",
        "vectorizer = TfidfVectorizer(analyzer='word',tokenizer=dummy_fun,preprocessor=dummy_fun,token_pattern=None)\n",
        "vectors = vectorizer.fit_transform(X['Text_tok'])\n",
        "feature_names = vectorizer.get_feature_names()\n",
        "dense = vectors.todense()\n",
        "denselist = dense.tolist()\n",
        "df3 = pd.DataFrame(denselist, columns=feature_names)"
      ],
      "execution_count": 0,
      "outputs": []
    },
    {
      "cell_type": "code",
      "metadata": {
        "id": "DVJB6zQ3pqWQ",
        "colab_type": "code",
        "colab": {}
      },
      "source": [
        "df3=df3.drop(['____________________________________________________________________________________________________________________________'],1)"
      ],
      "execution_count": 0,
      "outputs": []
    },
    {
      "cell_type": "code",
      "metadata": {
        "id": "KDIZYKkSqfoe",
        "colab_type": "code",
        "outputId": "a0423eaa-9079-4956-efe7-3576104bc793",
        "colab": {
          "base_uri": "https://localhost:8080/",
          "height": 243
        }
      },
      "source": [
        "df3.head()"
      ],
      "execution_count": 0,
      "outputs": [
        {
          "output_type": "execute_result",
          "data": {
            "text/html": [
              "<div>\n",
              "<style scoped>\n",
              "    .dataframe tbody tr th:only-of-type {\n",
              "        vertical-align: middle;\n",
              "    }\n",
              "\n",
              "    .dataframe tbody tr th {\n",
              "        vertical-align: top;\n",
              "    }\n",
              "\n",
              "    .dataframe thead th {\n",
              "        text-align: right;\n",
              "    }\n",
              "</style>\n",
              "<table border=\"1\" class=\"dataframe\">\n",
              "  <thead>\n",
              "    <tr style=\"text-align: right;\">\n",
              "      <th></th>\n",
              "      <th>_effect_</th>\n",
              "      <th>_i_</th>\n",
              "      <th>_really_</th>\n",
              "      <th>_still_</th>\n",
              "      <th>_totally</th>\n",
              "      <th>aa</th>\n",
              "      <th>aaaa</th>\n",
              "      <th>aacute</th>\n",
              "      <th>aadmit</th>\n",
              "      <th>aahhhs</th>\n",
              "      <th>ab</th>\n",
              "      <th>aback</th>\n",
              "      <th>abandon</th>\n",
              "      <th>abates</th>\n",
              "      <th>abberline</th>\n",
              "      <th>abbott</th>\n",
              "      <th>abby</th>\n",
              "      <th>abdominal</th>\n",
              "      <th>abiding</th>\n",
              "      <th>ability</th>\n",
              "      <th>able</th>\n",
              "      <th>ablution</th>\n",
              "      <th>abnormalities</th>\n",
              "      <th>abnormally</th>\n",
              "      <th>aboiut</th>\n",
              "      <th>abor</th>\n",
              "      <th>aboulutely</th>\n",
              "      <th>abrupt</th>\n",
              "      <th>absence</th>\n",
              "      <th>absense</th>\n",
              "      <th>absent</th>\n",
              "      <th>absinthe</th>\n",
              "      <th>absoloutely</th>\n",
              "      <th>absolute</th>\n",
              "      <th>absolutely</th>\n",
              "      <th>absolutley</th>\n",
              "      <th>absolutly</th>\n",
              "      <th>absorb</th>\n",
              "      <th>absorbed</th>\n",
              "      <th>absorbing</th>\n",
              "      <th>...</th>\n",
              "      <th>zen</th>\n",
              "      <th>zero</th>\n",
              "      <th>zeroing</th>\n",
              "      <th>zest</th>\n",
              "      <th>zesty</th>\n",
              "      <th>zevia</th>\n",
              "      <th>zhena</th>\n",
              "      <th>zico</th>\n",
              "      <th>ziggies</th>\n",
              "      <th>zilch</th>\n",
              "      <th>zin</th>\n",
              "      <th>zinc</th>\n",
              "      <th>zinfandels</th>\n",
              "      <th>zing</th>\n",
              "      <th>zinging</th>\n",
              "      <th>zip</th>\n",
              "      <th>zipfizz</th>\n",
              "      <th>ziploc</th>\n",
              "      <th>ziplock</th>\n",
              "      <th>zipper</th>\n",
              "      <th>zippy</th>\n",
              "      <th>zito</th>\n",
              "      <th>ziwipeak</th>\n",
              "      <th>zn</th>\n",
              "      <th>zojirushi</th>\n",
              "      <th>zola</th>\n",
              "      <th>zomg</th>\n",
              "      <th>zon</th>\n",
              "      <th>zoo</th>\n",
              "      <th>zoom</th>\n",
              "      <th>zotz</th>\n",
              "      <th>zucchini</th>\n",
              "      <th>zuke</th>\n",
              "      <th>zukes</th>\n",
              "      <th>zupas</th>\n",
              "      <th>zuppa</th>\n",
              "      <th>º</th>\n",
              "      <th>¼</th>\n",
              "      <th>½</th>\n",
              "      <th>ît</th>\n",
              "    </tr>\n",
              "  </thead>\n",
              "  <tbody>\n",
              "    <tr>\n",
              "      <th>0</th>\n",
              "      <td>0.0</td>\n",
              "      <td>0.0</td>\n",
              "      <td>0.0</td>\n",
              "      <td>0.0</td>\n",
              "      <td>0.0</td>\n",
              "      <td>0.0</td>\n",
              "      <td>0.0</td>\n",
              "      <td>0.0</td>\n",
              "      <td>0.0</td>\n",
              "      <td>0.0</td>\n",
              "      <td>0.0</td>\n",
              "      <td>0.0</td>\n",
              "      <td>0.0</td>\n",
              "      <td>0.0</td>\n",
              "      <td>0.0</td>\n",
              "      <td>0.0</td>\n",
              "      <td>0.0</td>\n",
              "      <td>0.0</td>\n",
              "      <td>0.0</td>\n",
              "      <td>0.0</td>\n",
              "      <td>0.0</td>\n",
              "      <td>0.0</td>\n",
              "      <td>0.0</td>\n",
              "      <td>0.0</td>\n",
              "      <td>0.0</td>\n",
              "      <td>0.0</td>\n",
              "      <td>0.0</td>\n",
              "      <td>0.0</td>\n",
              "      <td>0.0</td>\n",
              "      <td>0.0</td>\n",
              "      <td>0.0</td>\n",
              "      <td>0.0</td>\n",
              "      <td>0.0</td>\n",
              "      <td>0.0</td>\n",
              "      <td>0.0</td>\n",
              "      <td>0.0</td>\n",
              "      <td>0.0</td>\n",
              "      <td>0.0</td>\n",
              "      <td>0.0</td>\n",
              "      <td>0.0</td>\n",
              "      <td>...</td>\n",
              "      <td>0.0</td>\n",
              "      <td>0.0</td>\n",
              "      <td>0.0</td>\n",
              "      <td>0.0</td>\n",
              "      <td>0.0</td>\n",
              "      <td>0.0</td>\n",
              "      <td>0.0</td>\n",
              "      <td>0.0</td>\n",
              "      <td>0.0</td>\n",
              "      <td>0.0</td>\n",
              "      <td>0.0</td>\n",
              "      <td>0.0</td>\n",
              "      <td>0.0</td>\n",
              "      <td>0.0</td>\n",
              "      <td>0.0</td>\n",
              "      <td>0.0</td>\n",
              "      <td>0.0</td>\n",
              "      <td>0.0</td>\n",
              "      <td>0.0</td>\n",
              "      <td>0.0</td>\n",
              "      <td>0.0</td>\n",
              "      <td>0.0</td>\n",
              "      <td>0.0</td>\n",
              "      <td>0.0</td>\n",
              "      <td>0.0</td>\n",
              "      <td>0.0</td>\n",
              "      <td>0.0</td>\n",
              "      <td>0.0</td>\n",
              "      <td>0.0</td>\n",
              "      <td>0.0</td>\n",
              "      <td>0.0</td>\n",
              "      <td>0.0</td>\n",
              "      <td>0.0</td>\n",
              "      <td>0.0</td>\n",
              "      <td>0.0</td>\n",
              "      <td>0.0</td>\n",
              "      <td>0.0</td>\n",
              "      <td>0.0</td>\n",
              "      <td>0.0</td>\n",
              "      <td>0.0</td>\n",
              "    </tr>\n",
              "    <tr>\n",
              "      <th>1</th>\n",
              "      <td>0.0</td>\n",
              "      <td>0.0</td>\n",
              "      <td>0.0</td>\n",
              "      <td>0.0</td>\n",
              "      <td>0.0</td>\n",
              "      <td>0.0</td>\n",
              "      <td>0.0</td>\n",
              "      <td>0.0</td>\n",
              "      <td>0.0</td>\n",
              "      <td>0.0</td>\n",
              "      <td>0.0</td>\n",
              "      <td>0.0</td>\n",
              "      <td>0.0</td>\n",
              "      <td>0.0</td>\n",
              "      <td>0.0</td>\n",
              "      <td>0.0</td>\n",
              "      <td>0.0</td>\n",
              "      <td>0.0</td>\n",
              "      <td>0.0</td>\n",
              "      <td>0.0</td>\n",
              "      <td>0.0</td>\n",
              "      <td>0.0</td>\n",
              "      <td>0.0</td>\n",
              "      <td>0.0</td>\n",
              "      <td>0.0</td>\n",
              "      <td>0.0</td>\n",
              "      <td>0.0</td>\n",
              "      <td>0.0</td>\n",
              "      <td>0.0</td>\n",
              "      <td>0.0</td>\n",
              "      <td>0.0</td>\n",
              "      <td>0.0</td>\n",
              "      <td>0.0</td>\n",
              "      <td>0.0</td>\n",
              "      <td>0.0</td>\n",
              "      <td>0.0</td>\n",
              "      <td>0.0</td>\n",
              "      <td>0.0</td>\n",
              "      <td>0.0</td>\n",
              "      <td>0.0</td>\n",
              "      <td>...</td>\n",
              "      <td>0.0</td>\n",
              "      <td>0.0</td>\n",
              "      <td>0.0</td>\n",
              "      <td>0.0</td>\n",
              "      <td>0.0</td>\n",
              "      <td>0.0</td>\n",
              "      <td>0.0</td>\n",
              "      <td>0.0</td>\n",
              "      <td>0.0</td>\n",
              "      <td>0.0</td>\n",
              "      <td>0.0</td>\n",
              "      <td>0.0</td>\n",
              "      <td>0.0</td>\n",
              "      <td>0.0</td>\n",
              "      <td>0.0</td>\n",
              "      <td>0.0</td>\n",
              "      <td>0.0</td>\n",
              "      <td>0.0</td>\n",
              "      <td>0.0</td>\n",
              "      <td>0.0</td>\n",
              "      <td>0.0</td>\n",
              "      <td>0.0</td>\n",
              "      <td>0.0</td>\n",
              "      <td>0.0</td>\n",
              "      <td>0.0</td>\n",
              "      <td>0.0</td>\n",
              "      <td>0.0</td>\n",
              "      <td>0.0</td>\n",
              "      <td>0.0</td>\n",
              "      <td>0.0</td>\n",
              "      <td>0.0</td>\n",
              "      <td>0.0</td>\n",
              "      <td>0.0</td>\n",
              "      <td>0.0</td>\n",
              "      <td>0.0</td>\n",
              "      <td>0.0</td>\n",
              "      <td>0.0</td>\n",
              "      <td>0.0</td>\n",
              "      <td>0.0</td>\n",
              "      <td>0.0</td>\n",
              "    </tr>\n",
              "    <tr>\n",
              "      <th>2</th>\n",
              "      <td>0.0</td>\n",
              "      <td>0.0</td>\n",
              "      <td>0.0</td>\n",
              "      <td>0.0</td>\n",
              "      <td>0.0</td>\n",
              "      <td>0.0</td>\n",
              "      <td>0.0</td>\n",
              "      <td>0.0</td>\n",
              "      <td>0.0</td>\n",
              "      <td>0.0</td>\n",
              "      <td>0.0</td>\n",
              "      <td>0.0</td>\n",
              "      <td>0.0</td>\n",
              "      <td>0.0</td>\n",
              "      <td>0.0</td>\n",
              "      <td>0.0</td>\n",
              "      <td>0.0</td>\n",
              "      <td>0.0</td>\n",
              "      <td>0.0</td>\n",
              "      <td>0.0</td>\n",
              "      <td>0.0</td>\n",
              "      <td>0.0</td>\n",
              "      <td>0.0</td>\n",
              "      <td>0.0</td>\n",
              "      <td>0.0</td>\n",
              "      <td>0.0</td>\n",
              "      <td>0.0</td>\n",
              "      <td>0.0</td>\n",
              "      <td>0.0</td>\n",
              "      <td>0.0</td>\n",
              "      <td>0.0</td>\n",
              "      <td>0.0</td>\n",
              "      <td>0.0</td>\n",
              "      <td>0.0</td>\n",
              "      <td>0.0</td>\n",
              "      <td>0.0</td>\n",
              "      <td>0.0</td>\n",
              "      <td>0.0</td>\n",
              "      <td>0.0</td>\n",
              "      <td>0.0</td>\n",
              "      <td>...</td>\n",
              "      <td>0.0</td>\n",
              "      <td>0.0</td>\n",
              "      <td>0.0</td>\n",
              "      <td>0.0</td>\n",
              "      <td>0.0</td>\n",
              "      <td>0.0</td>\n",
              "      <td>0.0</td>\n",
              "      <td>0.0</td>\n",
              "      <td>0.0</td>\n",
              "      <td>0.0</td>\n",
              "      <td>0.0</td>\n",
              "      <td>0.0</td>\n",
              "      <td>0.0</td>\n",
              "      <td>0.0</td>\n",
              "      <td>0.0</td>\n",
              "      <td>0.0</td>\n",
              "      <td>0.0</td>\n",
              "      <td>0.0</td>\n",
              "      <td>0.0</td>\n",
              "      <td>0.0</td>\n",
              "      <td>0.0</td>\n",
              "      <td>0.0</td>\n",
              "      <td>0.0</td>\n",
              "      <td>0.0</td>\n",
              "      <td>0.0</td>\n",
              "      <td>0.0</td>\n",
              "      <td>0.0</td>\n",
              "      <td>0.0</td>\n",
              "      <td>0.0</td>\n",
              "      <td>0.0</td>\n",
              "      <td>0.0</td>\n",
              "      <td>0.0</td>\n",
              "      <td>0.0</td>\n",
              "      <td>0.0</td>\n",
              "      <td>0.0</td>\n",
              "      <td>0.0</td>\n",
              "      <td>0.0</td>\n",
              "      <td>0.0</td>\n",
              "      <td>0.0</td>\n",
              "      <td>0.0</td>\n",
              "    </tr>\n",
              "    <tr>\n",
              "      <th>3</th>\n",
              "      <td>0.0</td>\n",
              "      <td>0.0</td>\n",
              "      <td>0.0</td>\n",
              "      <td>0.0</td>\n",
              "      <td>0.0</td>\n",
              "      <td>0.0</td>\n",
              "      <td>0.0</td>\n",
              "      <td>0.0</td>\n",
              "      <td>0.0</td>\n",
              "      <td>0.0</td>\n",
              "      <td>0.0</td>\n",
              "      <td>0.0</td>\n",
              "      <td>0.0</td>\n",
              "      <td>0.0</td>\n",
              "      <td>0.0</td>\n",
              "      <td>0.0</td>\n",
              "      <td>0.0</td>\n",
              "      <td>0.0</td>\n",
              "      <td>0.0</td>\n",
              "      <td>0.0</td>\n",
              "      <td>0.0</td>\n",
              "      <td>0.0</td>\n",
              "      <td>0.0</td>\n",
              "      <td>0.0</td>\n",
              "      <td>0.0</td>\n",
              "      <td>0.0</td>\n",
              "      <td>0.0</td>\n",
              "      <td>0.0</td>\n",
              "      <td>0.0</td>\n",
              "      <td>0.0</td>\n",
              "      <td>0.0</td>\n",
              "      <td>0.0</td>\n",
              "      <td>0.0</td>\n",
              "      <td>0.0</td>\n",
              "      <td>0.0</td>\n",
              "      <td>0.0</td>\n",
              "      <td>0.0</td>\n",
              "      <td>0.0</td>\n",
              "      <td>0.0</td>\n",
              "      <td>0.0</td>\n",
              "      <td>...</td>\n",
              "      <td>0.0</td>\n",
              "      <td>0.0</td>\n",
              "      <td>0.0</td>\n",
              "      <td>0.0</td>\n",
              "      <td>0.0</td>\n",
              "      <td>0.0</td>\n",
              "      <td>0.0</td>\n",
              "      <td>0.0</td>\n",
              "      <td>0.0</td>\n",
              "      <td>0.0</td>\n",
              "      <td>0.0</td>\n",
              "      <td>0.0</td>\n",
              "      <td>0.0</td>\n",
              "      <td>0.0</td>\n",
              "      <td>0.0</td>\n",
              "      <td>0.0</td>\n",
              "      <td>0.0</td>\n",
              "      <td>0.0</td>\n",
              "      <td>0.0</td>\n",
              "      <td>0.0</td>\n",
              "      <td>0.0</td>\n",
              "      <td>0.0</td>\n",
              "      <td>0.0</td>\n",
              "      <td>0.0</td>\n",
              "      <td>0.0</td>\n",
              "      <td>0.0</td>\n",
              "      <td>0.0</td>\n",
              "      <td>0.0</td>\n",
              "      <td>0.0</td>\n",
              "      <td>0.0</td>\n",
              "      <td>0.0</td>\n",
              "      <td>0.0</td>\n",
              "      <td>0.0</td>\n",
              "      <td>0.0</td>\n",
              "      <td>0.0</td>\n",
              "      <td>0.0</td>\n",
              "      <td>0.0</td>\n",
              "      <td>0.0</td>\n",
              "      <td>0.0</td>\n",
              "      <td>0.0</td>\n",
              "    </tr>\n",
              "    <tr>\n",
              "      <th>4</th>\n",
              "      <td>0.0</td>\n",
              "      <td>0.0</td>\n",
              "      <td>0.0</td>\n",
              "      <td>0.0</td>\n",
              "      <td>0.0</td>\n",
              "      <td>0.0</td>\n",
              "      <td>0.0</td>\n",
              "      <td>0.0</td>\n",
              "      <td>0.0</td>\n",
              "      <td>0.0</td>\n",
              "      <td>0.0</td>\n",
              "      <td>0.0</td>\n",
              "      <td>0.0</td>\n",
              "      <td>0.0</td>\n",
              "      <td>0.0</td>\n",
              "      <td>0.0</td>\n",
              "      <td>0.0</td>\n",
              "      <td>0.0</td>\n",
              "      <td>0.0</td>\n",
              "      <td>0.0</td>\n",
              "      <td>0.0</td>\n",
              "      <td>0.0</td>\n",
              "      <td>0.0</td>\n",
              "      <td>0.0</td>\n",
              "      <td>0.0</td>\n",
              "      <td>0.0</td>\n",
              "      <td>0.0</td>\n",
              "      <td>0.0</td>\n",
              "      <td>0.0</td>\n",
              "      <td>0.0</td>\n",
              "      <td>0.0</td>\n",
              "      <td>0.0</td>\n",
              "      <td>0.0</td>\n",
              "      <td>0.0</td>\n",
              "      <td>0.0</td>\n",
              "      <td>0.0</td>\n",
              "      <td>0.0</td>\n",
              "      <td>0.0</td>\n",
              "      <td>0.0</td>\n",
              "      <td>0.0</td>\n",
              "      <td>...</td>\n",
              "      <td>0.0</td>\n",
              "      <td>0.0</td>\n",
              "      <td>0.0</td>\n",
              "      <td>0.0</td>\n",
              "      <td>0.0</td>\n",
              "      <td>0.0</td>\n",
              "      <td>0.0</td>\n",
              "      <td>0.0</td>\n",
              "      <td>0.0</td>\n",
              "      <td>0.0</td>\n",
              "      <td>0.0</td>\n",
              "      <td>0.0</td>\n",
              "      <td>0.0</td>\n",
              "      <td>0.0</td>\n",
              "      <td>0.0</td>\n",
              "      <td>0.0</td>\n",
              "      <td>0.0</td>\n",
              "      <td>0.0</td>\n",
              "      <td>0.0</td>\n",
              "      <td>0.0</td>\n",
              "      <td>0.0</td>\n",
              "      <td>0.0</td>\n",
              "      <td>0.0</td>\n",
              "      <td>0.0</td>\n",
              "      <td>0.0</td>\n",
              "      <td>0.0</td>\n",
              "      <td>0.0</td>\n",
              "      <td>0.0</td>\n",
              "      <td>0.0</td>\n",
              "      <td>0.0</td>\n",
              "      <td>0.0</td>\n",
              "      <td>0.0</td>\n",
              "      <td>0.0</td>\n",
              "      <td>0.0</td>\n",
              "      <td>0.0</td>\n",
              "      <td>0.0</td>\n",
              "      <td>0.0</td>\n",
              "      <td>0.0</td>\n",
              "      <td>0.0</td>\n",
              "      <td>0.0</td>\n",
              "    </tr>\n",
              "  </tbody>\n",
              "</table>\n",
              "<p>5 rows × 18098 columns</p>\n",
              "</div>"
            ],
            "text/plain": [
              "   _effect_  _i_  _really_  _still_  _totally  ...  zuppa    º    ¼    ½   ît\n",
              "0       0.0  0.0       0.0      0.0       0.0  ...    0.0  0.0  0.0  0.0  0.0\n",
              "1       0.0  0.0       0.0      0.0       0.0  ...    0.0  0.0  0.0  0.0  0.0\n",
              "2       0.0  0.0       0.0      0.0       0.0  ...    0.0  0.0  0.0  0.0  0.0\n",
              "3       0.0  0.0       0.0      0.0       0.0  ...    0.0  0.0  0.0  0.0  0.0\n",
              "4       0.0  0.0       0.0      0.0       0.0  ...    0.0  0.0  0.0  0.0  0.0\n",
              "\n",
              "[5 rows x 18098 columns]"
            ]
          },
          "metadata": {
            "tags": []
          },
          "execution_count": 27
        }
      ]
    },
    {
      "cell_type": "code",
      "metadata": {
        "id": "Dj4lBHd_qjve",
        "colab_type": "code",
        "outputId": "5b909f1d-31de-48cc-a28c-b5688f939b53",
        "colab": {
          "base_uri": "https://localhost:8080/",
          "height": 35
        }
      },
      "source": [
        "df3.shape"
      ],
      "execution_count": 0,
      "outputs": [
        {
          "output_type": "execute_result",
          "data": {
            "text/plain": [
              "(10000, 18098)"
            ]
          },
          "metadata": {
            "tags": []
          },
          "execution_count": 28
        }
      ]
    },
    {
      "cell_type": "code",
      "metadata": {
        "id": "MlUTwxsjrMgJ",
        "colab_type": "code",
        "colab": {}
      },
      "source": [
        "from sklearn.decomposition import NMF\n",
        "model = NMF(n_components=5, init='nndsvd', random_state=0, alpha=0.1, l1_ratio=0.5)\n",
        "W = model.fit_transform(df3)"
      ],
      "execution_count": 0,
      "outputs": []
    },
    {
      "cell_type": "code",
      "metadata": {
        "id": "6kefRMeAr1q8",
        "colab_type": "code",
        "colab": {}
      },
      "source": [
        "H = model.components_"
      ],
      "execution_count": 0,
      "outputs": []
    },
    {
      "cell_type": "code",
      "metadata": {
        "id": "6fTd884WsD04",
        "colab_type": "code",
        "outputId": "38aadf52-ada1-4e41-cf33-179a95eb5cfe",
        "colab": {
          "base_uri": "https://localhost:8080/",
          "height": 248
        }
      },
      "source": [
        "W"
      ],
      "execution_count": 0,
      "outputs": [
        {
          "output_type": "execute_result",
          "data": {
            "text/plain": [
              "array([[2.90417840e-02, 0.00000000e+00, 0.00000000e+00, 0.00000000e+00,\n",
              "        0.00000000e+00],\n",
              "       [8.24159357e-03, 0.00000000e+00, 0.00000000e+00, 0.00000000e+00,\n",
              "        0.00000000e+00],\n",
              "       [5.10523303e-03, 0.00000000e+00, 0.00000000e+00, 0.00000000e+00,\n",
              "        0.00000000e+00],\n",
              "       ...,\n",
              "       [1.89638622e-02, 0.00000000e+00, 5.31858009e-05, 0.00000000e+00,\n",
              "        0.00000000e+00],\n",
              "       [1.17734131e-02, 0.00000000e+00, 0.00000000e+00, 0.00000000e+00,\n",
              "        0.00000000e+00],\n",
              "       [2.30465431e-02, 0.00000000e+00, 4.55296093e-03, 0.00000000e+00,\n",
              "        0.00000000e+00]])"
            ]
          },
          "metadata": {
            "tags": []
          },
          "execution_count": 38
        }
      ]
    },
    {
      "cell_type": "code",
      "metadata": {
        "id": "5oda46xLsGSc",
        "colab_type": "code",
        "outputId": "76503123-ffc2-4d22-c25f-ea2ecc3aa188",
        "colab": {
          "base_uri": "https://localhost:8080/",
          "height": 106
        }
      },
      "source": [
        "H"
      ],
      "execution_count": 0,
      "outputs": [
        {
          "output_type": "execute_result",
          "data": {
            "text/plain": [
              "array([[0., 0., 0., ..., 0., 0., 0.],\n",
              "       [0., 0., 0., ..., 0., 0., 0.],\n",
              "       [0., 0., 0., ..., 0., 0., 0.],\n",
              "       [0., 0., 0., ..., 0., 0., 0.],\n",
              "       [0., 0., 0., ..., 0., 0., 0.]])"
            ]
          },
          "metadata": {
            "tags": []
          },
          "execution_count": 39
        }
      ]
    },
    {
      "cell_type": "code",
      "metadata": {
        "id": "C0iSSTzEtRiR",
        "colab_type": "code",
        "colab": {}
      },
      "source": [
        "dfW=pd.DataFrame(W)"
      ],
      "execution_count": 0,
      "outputs": []
    },
    {
      "cell_type": "code",
      "metadata": {
        "id": "kCExTHtTterj",
        "colab_type": "code",
        "outputId": "d972cb0f-8536-4f0f-8927-18cf79755719",
        "colab": {
          "base_uri": "https://localhost:8080/",
          "height": 194
        }
      },
      "source": [
        "dfW.head()"
      ],
      "execution_count": 0,
      "outputs": [
        {
          "output_type": "execute_result",
          "data": {
            "text/html": [
              "<div>\n",
              "<style scoped>\n",
              "    .dataframe tbody tr th:only-of-type {\n",
              "        vertical-align: middle;\n",
              "    }\n",
              "\n",
              "    .dataframe tbody tr th {\n",
              "        vertical-align: top;\n",
              "    }\n",
              "\n",
              "    .dataframe thead th {\n",
              "        text-align: right;\n",
              "    }\n",
              "</style>\n",
              "<table border=\"1\" class=\"dataframe\">\n",
              "  <thead>\n",
              "    <tr style=\"text-align: right;\">\n",
              "      <th></th>\n",
              "      <th>0</th>\n",
              "      <th>1</th>\n",
              "      <th>2</th>\n",
              "      <th>3</th>\n",
              "      <th>4</th>\n",
              "    </tr>\n",
              "  </thead>\n",
              "  <tbody>\n",
              "    <tr>\n",
              "      <th>0</th>\n",
              "      <td>0.029042</td>\n",
              "      <td>0.0</td>\n",
              "      <td>0.0</td>\n",
              "      <td>0.0</td>\n",
              "      <td>0.0</td>\n",
              "    </tr>\n",
              "    <tr>\n",
              "      <th>1</th>\n",
              "      <td>0.008242</td>\n",
              "      <td>0.0</td>\n",
              "      <td>0.0</td>\n",
              "      <td>0.0</td>\n",
              "      <td>0.0</td>\n",
              "    </tr>\n",
              "    <tr>\n",
              "      <th>2</th>\n",
              "      <td>0.005105</td>\n",
              "      <td>0.0</td>\n",
              "      <td>0.0</td>\n",
              "      <td>0.0</td>\n",
              "      <td>0.0</td>\n",
              "    </tr>\n",
              "    <tr>\n",
              "      <th>3</th>\n",
              "      <td>0.015338</td>\n",
              "      <td>0.0</td>\n",
              "      <td>0.0</td>\n",
              "      <td>0.0</td>\n",
              "      <td>0.0</td>\n",
              "    </tr>\n",
              "    <tr>\n",
              "      <th>4</th>\n",
              "      <td>0.008926</td>\n",
              "      <td>0.0</td>\n",
              "      <td>0.0</td>\n",
              "      <td>0.0</td>\n",
              "      <td>0.0</td>\n",
              "    </tr>\n",
              "  </tbody>\n",
              "</table>\n",
              "</div>"
            ],
            "text/plain": [
              "          0    1    2    3    4\n",
              "0  0.029042  0.0  0.0  0.0  0.0\n",
              "1  0.008242  0.0  0.0  0.0  0.0\n",
              "2  0.005105  0.0  0.0  0.0  0.0\n",
              "3  0.015338  0.0  0.0  0.0  0.0\n",
              "4  0.008926  0.0  0.0  0.0  0.0"
            ]
          },
          "metadata": {
            "tags": []
          },
          "execution_count": 42
        }
      ]
    },
    {
      "cell_type": "code",
      "metadata": {
        "id": "IZWJwDF3teox",
        "colab_type": "code",
        "colab": {}
      },
      "source": [
        "import numpy as np\n",
        "def display_topics(H, W, feature_names, documents, no_top_words, no_top_documents):\n",
        "    for topic_idx, topic in enumerate(H):\n",
        "        print(\"Topic %d:\" % (topic_idx))\n",
        "        print(\" \".join([feature_names[i]\n",
        "        for i in topic.argsort()[:-no_top_words - 1:-1]]))\n",
        "        top_doc_indices = np.argsort( W[:,topic_idx] )[::-1][0:no_top_documents]\n",
        "        for doc_index in top_doc_indices:\n",
        "            print(documents[doc_index])"
      ],
      "execution_count": 0,
      "outputs": []
    },
    {
      "cell_type": "code",
      "metadata": {
        "id": "WcqaJk0kxhf_",
        "colab_type": "code",
        "colab": {}
      },
      "source": [
        ""
      ],
      "execution_count": 0,
      "outputs": []
    },
    {
      "cell_type": "code",
      "metadata": {
        "id": "lbqxLdS-u3nC",
        "colab_type": "code",
        "outputId": "d59e8bf7-4b57-482e-adbd-f59820e63726",
        "colab": {
          "base_uri": "https://localhost:8080/",
          "height": 659
        }
      },
      "source": [
        "display_topics(H,W,list(df3),df[\"Text\"],1,5)"
      ],
      "execution_count": 0,
      "outputs": [
        {
          "output_type": "stream",
          "text": [
            "Topic 0:\n",
            "good\n",
            "I did not purchase this product off of Amazon. I purchased the 12 oz. bottle at a local store, and I must say it's one of the most addicting sauces I have ever had! I'm a pretty picky eater, and a vegetarian at that, so sauces play a key role in making an average meal a great one. This sauce is ALMOST perfect. It's very sweet, and has a strong garlic taste at first. It isn't as thick as the Red Hot brand, which I didn't like much at all (thick, not as flavorful, way too chunky). This sauce would be appropriate for children who like a little kick for their chicken nuggets and what not. My son loves spicy food just like his mommy. Another plus is there are only 70 calories in 2 tablespoons, and that much sauce goes a long way. 1 gram of fiber, too! The only thing I have a hard time with, and this is just a personal issue, is the texture of the red chilli. They tastes great, but they have a very thin, clear \"skin\" that has this horrible crunchy texture on some of the pieces. Not all, just some. I get it stuck in my mouth and on my teeth and it hits a nerve that makes me feel a bit queasy. Still, I eat it anyway lol and will continue to do so because this is one of the best sauces I have EVER tasted! I would recommend anyone to try this sauce first, and then try others if you are not fully satisfied. This sauce is amazing. It was about $1.50 at the store for 12 oz. but if you like the easiness of ordering online or can't find it near you, know that I would pay Amazon's price for it any day! Buy this sauce. I don't care where or how, just buy it. You'll fall in love!\n",
            "My husband is gluten intolerant and as with all gluten free products out there the results are not always the best.  He loves this product and since I only really make the pancakes I can't say how the other Bisquick recipes would turn out for any of you.  And yes he has this texture and taste thing with gluten free products as well...  gritty, sandy or off tasting.... etc. etc...  So I am happy he likes this one!  With gluten free products you really have to test them out one by one as some perform in the taste and texture area better than other blends.  My advice to anyone searching for gluten free products they want to try that it is best to buy them in the single packages, if possible.  I know on Amazon they sell them in bulk but if you find that you don't like it you are then stuck with alot of packages you no longer want!  Just a tip for all of you out there.  It may cost more for one package but the waste will be much less unless you donate them to the local food bank...  Good product and great results!  Thank you, Bisquick!\n",
            "I bought these graham sticks based on their excellent reviews and having purchased Earth's Best organic vanilla cookies, had high hopes for a healthy snack to serve my kids.  Needless to say, I should have purchased one box at the grocery store first before committing to 6 boxes through Amazon (which you are unable to return -even unopened boxes- since this is a food item).  The crackers smelled strange even before tasting them.  My 5 year old turned up her nose and refused to eat them anymore after trying a few.  I wish I could describe the taste, but it would be really hard.  It may sound strange for an organic food, but it was almost like a faint chemical smell.  At best, I can say that they weren't anything like a regular graham cracker flavor (even as an organic option they should have a better taste).  My 2 year old did eat some of them without complaint, so I am hoping she will tolerate them through 6 boxes so I feel like I did not waste my money.  Good price, but definitely test one box first to see if you like them.\n",
            "Stonewall Kitchen Farmhouse Pancake and Waffle Mix is definitely a mouthful in name but, in taste, not so much.  Don't get me wrong, it's not bad but, you could find any number of \"mixes\" that taste just as well and some even better.  I know my taste buds aren't the same as yours so, what's just decent to me may be great to you.  I also wish I had bought just one can instead of 2 huge 33 ounce cans.  I finished the first can, I'll give the other can away and, I'll continue trying other mixes until I find the \"best mix\" out there.<br /><br />So far I seem to only be satisfied with a homemade mix for my waffles.  My preference is for waffles over pancakes but, this didn't make it on either count.  I even tried adding things to it but it didn't really help.  Maybe it's just me.  Try it if you like but remember, buy only one can just in case you're like me.  You can always buy more.\n",
            "I had read some favorable reviews of this pancake mix on Amazon quite a while ago.  I had never ordered any, but I came across a can of it in one of those outdoor,camping stores last Christmas.  I have been using it ever since to make my dieting harder, and can honestly say I have never enjoyed the struggle so much.  Pancake mixes are usually one of those things that usually I buy the cheapest I can find, or at least one that I am familiar with.  I tend to balk at higher priced mixes for the most part. But every now and then I get curious of a brand like this one. It just so happens that when I visited this camping store, I was getting ready to take a short hike as soon as the holidays were over, and pancake mix has always been one of my staple items to take along.  Unfortunately it wasn't 'till I left that I realized that this mix was not one of the \"just add water\" ones that we all know and love.  The best ones always needed your own addition of eggs, milk, butter, etc, and this one is no exception in that respect.  So instead of enjoying this mix on the trail, I have been making pancakes in the wilds of my very own kitchen.  I really don't know what it is about this mix that makes it so good, but it does indeed make some of the best and most delicious pancakes I have ever tasted from a mix.  They are very light, fluffy, and flavorful, and well worth the price and ingredients that you have to add yourself.  If you have a pancake fiend in your home, I would highly suggest you buy some of this great mix. Its cheaper here on Amazon than I paid for it and well worth it in my opinion. I have had lots of different kinds over the years, and this makes some truly delicious pancakes.... Highly recommended...\n",
            "Topic 1:\n",
            "coffee\n",
            "It's a great flavor and makes a great cup of coffee. I fine you can have more than 1 cup of this coffee and not feel like it's too much of a flavored coffee. Puck has captured a great flavor with this coffee.\n",
            "It's a great flavor and makes a great cup of coffee. I fine you can have more than 1 cup of this coffee and not feel like it's too much of a flavored coffee. Puck has captured a great flavor with this coffee.\n",
            "I bought the 4 pack of this coffee based on the reviews of others and the price. It is a lot of coffee, since we drink less than 1 pot per day.  I really enjoy the flavor.  I put a little cream and sweetener (agave nectar) in my coffee, but this coffee has great flavor that comes through.  I'm not super picky on coffee, but I can tell when I have \"bad\" coffee.  This is definitely good coffee and I plan to keep buying this coffee as the only coffee we have in our house.\n",
            "I am a huge coffee drinker, and love the k-cups for making one cup quickly before leaving for work in the morning.  While there are many choices, I prefer a bold, strong coffee first thing in the morning.  Wolfgang Puck French Roast is absolutely delicious, strong and not at all bitter, and makes a great first cup of coffee.  I would highly recommend to all bold coffee drinkers!\n",
            "I am a huge coffee drinker, and love the k-cups for making one cup quickly before leaving for work in the morning.  While there are many choices, I prefer a bold, strong coffee first thing in the morning.  Wolfgang Puck French Roast is absolutely delicious, strong and not at all bitter, and makes a great first cup of coffee.  I would highly recommend to all bold coffee drinkers!\n",
            "Topic 2:\n",
            "br\n",
            "We loved this product and I just received my new order.  I noticed the packing changed which made me check the label.  The ingredients and NUTRITIONAL INFORMATION HAS CHANGED!<br /><br />Old Ingredients & Nutrition (sample)<br />Natural Coconut Water<br />Natural Pineapple Juice<br />Cane Juice<br />Vit C.<br />Natural Fruit Flavor<br />Sodium 115mg<br />Potassium 299mg<br />Sugar 16g<br />Vit C 172%<br />Calcium 1.3%<br />Iron 1.8%<br /><br />New Ingredients & Nutrition (sample)<br />Coconut Water<br />Pineapple Juice<br />Sugar<br />Ascorbic Acid<br />Natural Flavor<br />Sodium 45mg<br />Potassium 425mg<br />Sugar 20g<br />Calcium 2%<br />Iron 0%<br />Magnesium 2%<br />Vit C 210%<br />96% Juice<br /><br />Maybe the new box is misprinted as it says 96% juice and the packaging clearly says \"a splash of pineapple and other natural flavors\".<br /><br />No thank you...I'll be cancelling my subscription.  I don't why the change.\n",
            "This comment refers to ALL OF THE DO IT YOURSELF K-CUPS.<br />My K-Cup by Keurig<br />Ekobrew<br />EZ Cup.<br /><br />They products above ALL HAVE THE SAME PROBLEM.<br />You have to get the correct grind on the whole coffee bean.<br />And it's NOT what you think if you are familiar with grinding espresso.<br /><br />If water is coming out the top, (of the products listed above) the grind is too small and/or too much volume.<br />The coffee is too weak and you jump to the conclusion it's because the grind is too coarse or you do NOT have enough coffee.<br />Wrong, it's because the water went over the top and NOT THRU THE GROUNDS is the reason it is weak.<br />Start off with about 1-3/4 tablespoons (do not exceed 2 tablespoons)<br />The grind will probably be MORE COARSE than what you typically use for BUNN type drip.<br /><br />Once I got the right combination of grind setting and amount of coffee, ALL OF THESE FILTERS worked.<br /><br />I have the capresso infinity conical burr grinder.<br />For Duncan Donut Whole Bean I use the<br />MEDIUM #4 position.<br />I use two tablespoons.<br /><br />There are 16 grind settings<br />Extra Fine 1-4<br />Fine 1-4<br />Meduim 1-4<br />Coarse 1-4<br /><br />Note that for Bunn drip coffee I use Medium #2<br /><br />For espresso I used from fine #3 to other settings ... (adapted to get a 25 second draw)<br /><br />Once you get the right RECIPE they all work.<br /><br />But .....<br />Where this product comes in handy is NOT IN BREWING coffee, but in storing your recipe in an AIR TIGHT CONTAINER.<br /><br />Grind a weeks worth of coffee and store it in these cups with the lid on and no holes in the bottom.<br /><br />Then during the week, grab one of these already premeasured cups,<br />remove the lid<br />and pour into the My Keuring K-Cup<br /><br />I found that if the grind is toward the fine side, all these will leak. The My K-cup was the best of the lot for not leaking,<br />But like I said above if the get the grind more toward the coarse side they ALL WILL WORK.<br /><br />Bottom Line:<br />This product is great for storing pre-measured amounts that you have ground earlier in weekly batches.<br />Make your measuring and grinding mess ONCE and then fill up 14 or so of these cups with your own recipe.<br /><br />If you want to get more accurate, instead of using tablespoons get a good digital scale for weighing.<br /><br />Note that if you are in a hurry then go ahead and DO USE THIS PRODUCT as advertised here.<br />I just thought that these were too expensive also and that you had to keep reordering them.<br />But yes go ahead and use them if you want to do that.\n",
            "Totally amazing and very delicious.<br /><br />My favorite flavors (from best to worst):<br /><br />1. barbecue<br />2. sour cream and onion<br />3. cheddar<br /><br />4. salt and pepper<br />5. original<br />6.  vinegar and sea salt\n",
            "After reading some of the frothing reviews criticizing Mrs. Mays for manufacturing their product in China -- which doesn't in any way address the quality of the product itself -- I tried to confirm this for myself. The website and packaging say nothing about this, so I wrote them an email asking where their product is manufactured. Here is the response in full:<br /><br />------------------------------------------------------------<br /><br />Thank you for your purchase and inquiry. We understand your concerns because<br />food item are very personal. If you can spear a few moments to read details<br />about our quality assurance, it would be appreciated.<br /><br />Our factory in China is HACCP (Hazard Analysis and Critical Control Point)<br />by US agency & BRC certified UK agency. HACCP, BRC & Kosher inspect our<br />factory twice a year and each organization also performs random unannounced<br />inspection at our factory.<br /><br />Please refer to the following sites if you like to learn more about the<br />HACCP and BRC certificate.<br /><br />http://www.idfahaccp.org/<br /><br />http://www.brc.org.uk/standards/default.asp?mainsection_id=7<br /><br />In addition, all of our finished products are tested 3 times.<br /><br />These tests are:<br />Salmonella testing<br />Aflotoxin testing, and<br />Microbiological testing<br /><br />Our current customers like Costco, BJ's Wholesale and Whole Foods market<br />have very high standards on what they carry and sell to its members.  You<br />can rest assure that all of our products are safe to consume. We also do not<br />have any Melamine in our product. Our products are \"dairy free\" Our products<br />are also tested randomly by FDA and always passed the inspection.<br /><br />The following is additional information:<br /><br />Here are the origins of the ingredients that we use:<br /><br />Almonds  -  California<br />Walnuts  -  California<br />Cashews  -  Vietnam / Brazil (Not grown in US)<br />Cranberries -  Oregon / Canada<br />Blueberries -  Oregon / Canada<br />Pomegranate -  Oregon / Canada<br />Natural Flavors -  California<br />Sesame Seeds  -  China (Not grown in US)<br />Rice Malt  -  China<br />Cane Juice  -  US<br />Sea Salt  -  China<br /><br />Please feel free to contact us with any further questions, comments and<br />concerns. We hope we have assisted you correctly.<br /><br />Thank you.<br /><br />Kind regards,<br /><br />Julie<br />Mrs Mays<br /><br />------------------------------------------------------------<br /><br />I've read other reviews criticizing over sweatshops, Communism, and carbon footprint. To briefly address these: There has been no evidence that Mrs. Mays keeps its workers in sweatshops; despite the Communism, I'm sure the individual citizens find these jobs valuable; and ships produce 1/10th the carbon per pound-mile of trucks, meaning a 5000 miles by ship is as bad as 500 miles by truck.<br /><br />I really like the snack and I'd give it five stars, but I'm subtracting one star: I think it is deceptive that it was so hard to find out the snack was made in China. I don't have a problem with the snack's origin, but Mrs. Mays should be more forthright with their customers and let them make the decision themselves. Granted, most of us Americans are primed to flip out at the latest Scare of the Week, but that should be our choice to make.<br /><br />Oh, and the snack itself? It is quite tasty, filling, and healthy. I will continue to purchase it.\n",
            "hi every one I just wanted to share some of my experience with you about this product. First off all it taste pretty good but its kinda sugary and salty. Its an ok drink but when you think about it and you compare it to others this drink is not as healthy as others. Its more like a juice drink than a healthy one. Compared to Vitacoco it has more calories, twice the sodium, half the potassium and almost half the vitamin C. This drink also has less magnesium, phosphorous, and 4 times less calcium. The only this the drink does have over Vitacoco is the 1 less gram of sugar. Overall pay the extra price and get a better drink for your body and if you dont believe me go to the websites and check the facts below or check it out on their web site.<br /><br />O.N.E. COCONUT WATER WITH SPLASH OF PINEAPPLE<br />Calories: 75<br />Fat: 0<br />Cholesterol: 0<br />Sodium(115mg): 4.8%<br />potassium(299mg): 8.5%<br />Carbs(17g): 6%<br />Fiber: 1.2%<br />Sugar: 16g<br />protein: 0g<br /><br />vitamin c: 172%<br />calcium: 1.3%<br />magnesium: 0%<br />phosphorous: 0%<br />Iron: 1.8%<br /><br />COMPARED TO<br /><br />VITACOCO WITH SPLASH OF COCONUT<br />Calories: 80<br />Fat: 0<br />Cholesterol: 0<br />Sodium(40mg): 2%<br />potassium(740mg): 19%<br />Carbs(21g): 7%<br />Fiber: 0%<br />Sugar: 21g<br />protein: 0g<br /><br />vitamin c: 240%<br />calcium: 5%<br />magnesium: 10%<br />phosphorous: 5%<br />Iron: 0%\n",
            "Topic 3:\n",
            "tea\n",
            "If you like green tea that brews for 2 minutes max and you do not \"stew\" your tea by just leaving the bag in until the tea is bitter, this is the tea for you! Of course, it can be done that way, but IF you have refined tea taste, then you will like this tea. I, personally, love the taste of a good green tea. I am so glad to find this brand available online. No one sells it in my area.\n",
            "So okay, I don't do hot tea; BUT this is a perfect loose leaf tea for iced tea.  Am I an expert at Ice Tea?  No, but after moving to the South some 25 years ago, I have tasted lots of iced tea and this one makes as good as you can find anywhere.  I will say that most recipes I could find must have been for some cheap tea bags (weak, somewhat tasteless and bitter), so I experimented a little and found a great recipe for this loose leaf tea.  The recipe is 1/4 cup tea to 8 cups water.  Bring the water to a boil take it off the heat, put the tea in, let it steep for NO MORE THAN 5 minutes and strain into a container, let cool to room temperature and refrigerate.  If you are in a hurry, fill a glass with ice and pour the tea over the ice.  This works great for this particular loose leaf tea - not strong, not weak.  Oh yes, if you like sweet tea, add the sugar to the container while the tea is hot.\n",
            "This is a really easy way to make terrible iced tea.  Sometimes convenience outweighs taste, but not always.  What this product doesn't tell you before you buy it is that the ingredients are: black tea with tea extract, hibiscus and citric acid.  It's not just tea.  And it doesn't taste like just tea, either.  It tastes like powdered iced tea from a jar.  It has an overtaste of lemon -- that's probably the citric acid.  And that fake tea flavor that comes from powdered iced tea mix.  I'll probably drink it when it's really convenient.  But I won't serve it to friends!  And I won't drink it if I have time to make a glass of real tea and pour it over ice.\n",
            "This is a good tea that has a nice flavor. My only complaint is that for a rich tea, you have to use extra tea bags. This is sold in bulk which helps off set the price for using more tea bags.\n",
            "It's hard to rate tea. It's very good tea, but tea nonetheless. However, the company that sells this particular tea was very nice to deal with. They shipped the tea very quickly. I'll most likely buy from them again when the need arises.\n",
            "Topic 4:\n",
            "chips\n",
            "I have never met a Kettle brand chip I did not like. These chips have a great loaded potato flavor, which are flavorful. I like the sweet onion chips better, but these are also at the top of the list for great-tasting potato chips. Kettle chips are great chips f/the money!\n",
            "I got the sea salt and vinegar chips from Kettle.  I am used to the Salt and Vinegar chips in the white bag if I am allowed to say that.  Anyways, my first impression for this is wow at all the chips you get for the price.  I got the 9 0z x 12 bags and wow it is so many for the price.  You can tell they are high quality chips just from the packaging, also.  Well being used to the cheaper chips I wasn't expecting how mellow these things are.  The ones I am used to have a really sour taste to them which I didn't mind but they had tons of flavor.  These chips don't have any sour to them at all, and taste just like them but a lot less strong aftertaste.  If you want to try out Salt and Vinegar chips I suggest you try these out first.  So, for the price and how many you get, these chips are definately worth it.  They are thick and crunchy like the more expensive chips you get at high quality restaurants.  I recommend these, 4 stars.\n",
            "Everyone should try these chips. They are healthier than regular chips. And they taste good.\n",
            "I have always been a fan of Kettle chips.  When you open a bag of Kettle chips you know you are going to get quality.  These chips are no exception and live up to the name printed on the package.<br /><br />The New York Cheddar chips  have a very subtle flavor to them.  You can taste the cheddar in them; but it doesn't smack you in the face like supermarket brand chips might.  The taste lingers as well which is a definite plus!<br /><br />Another aspect about these Kettle chips is the fact every chip is nice and crisp, that crunch in your mouth.  On top of that there are no burnt chips in any of the bags I have had since the purchase.  The only negative I might have is that the flavoring of the chips is uneven.  Some chips might pack a nice cheddar punch while another might taste rather plain.  This isn't a big flaw as it happens when getting seasoned and doesn't ruin the bag at all.<br /><br />Overall the quality of the chips is fantastic.  The flavor is great and you wont' be disappointed , especially if you are a cheddar lover!\n",
            "You don't need salt to hide the taste of potato chips. And these chips prove it. The taste of the potato comes through, instead of being masked. OK, so they're still a snack food, but no salt and no trans-fats mean these are about the healthiest potato chips you can get. And if you're on a low-salt diet (like I am), having these available means I can eat chips, and Kettle are just the best.\n"
          ],
          "name": "stdout"
        }
      ]
    }
  ]
}