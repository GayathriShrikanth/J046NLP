{
  "nbformat": 4,
  "nbformat_minor": 0,
  "metadata": {
    "colab": {
      "name": "tokenizer.ipynb",
      "provenance": [],
      "include_colab_link": true
    },
    "kernelspec": {
      "name": "python3",
      "display_name": "Python 3"
    }
  },
  "cells": [
    {
      "cell_type": "markdown",
      "metadata": {
        "id": "view-in-github",
        "colab_type": "text"
      },
      "source": [
        "<a href=\"https://colab.research.google.com/github/GayathriShrikanth/J046NLP/blob/master/Classwork/tokenizer.ipynb\" target=\"_parent\"><img src=\"https://colab.research.google.com/assets/colab-badge.svg\" alt=\"Open In Colab\"/></a>"
      ]
    },
    {
      "cell_type": "code",
      "metadata": {
        "id": "8XVsuyYz5wPx",
        "colab_type": "code",
        "colab": {}
      },
      "source": [
        "#Read the data\n",
        "import pandas as pd\n",
        "import numpy as np\n",
        "df=pd.read_json(\"http://snap.stanford.edu/data/amazon/productGraph/categoryFiles/reviews_Office_Products_5.json.gz\", lines=True)"
      ],
      "execution_count": 0,
      "outputs": []
    },
    {
      "cell_type": "code",
      "metadata": {
        "id": "OkRCFnAG50Gg",
        "colab_type": "code",
        "outputId": "cb145fdf-05d8-440b-c6aa-8756e8b18bc2",
        "colab": {
          "base_uri": "https://localhost:8080/",
          "height": 204
        }
      },
      "source": [
        "df.head()"
      ],
      "execution_count": 2,
      "outputs": [
        {
          "output_type": "execute_result",
          "data": {
            "text/html": [
              "<div>\n",
              "<style scoped>\n",
              "    .dataframe tbody tr th:only-of-type {\n",
              "        vertical-align: middle;\n",
              "    }\n",
              "\n",
              "    .dataframe tbody tr th {\n",
              "        vertical-align: top;\n",
              "    }\n",
              "\n",
              "    .dataframe thead th {\n",
              "        text-align: right;\n",
              "    }\n",
              "</style>\n",
              "<table border=\"1\" class=\"dataframe\">\n",
              "  <thead>\n",
              "    <tr style=\"text-align: right;\">\n",
              "      <th></th>\n",
              "      <th>reviewerID</th>\n",
              "      <th>asin</th>\n",
              "      <th>reviewerName</th>\n",
              "      <th>helpful</th>\n",
              "      <th>reviewText</th>\n",
              "      <th>overall</th>\n",
              "      <th>summary</th>\n",
              "      <th>unixReviewTime</th>\n",
              "      <th>reviewTime</th>\n",
              "    </tr>\n",
              "  </thead>\n",
              "  <tbody>\n",
              "    <tr>\n",
              "      <th>0</th>\n",
              "      <td>A32T2H8150OJLU</td>\n",
              "      <td>B00000JBLH</td>\n",
              "      <td>ARH</td>\n",
              "      <td>[3, 4]</td>\n",
              "      <td>I bought my first HP12C in about 1984 or so, a...</td>\n",
              "      <td>5</td>\n",
              "      <td>A solid performer, and long time friend</td>\n",
              "      <td>1094169600</td>\n",
              "      <td>09 3, 2004</td>\n",
              "    </tr>\n",
              "    <tr>\n",
              "      <th>1</th>\n",
              "      <td>A3MAFS04ZABRGO</td>\n",
              "      <td>B00000JBLH</td>\n",
              "      <td>Let it Be \"Alan\"</td>\n",
              "      <td>[7, 9]</td>\n",
              "      <td>WHY THIS BELATED REVIEW? I feel very obliged t...</td>\n",
              "      <td>5</td>\n",
              "      <td>Price of GOLD is up, so don't bury the golden ...</td>\n",
              "      <td>1197676800</td>\n",
              "      <td>12 15, 2007</td>\n",
              "    </tr>\n",
              "    <tr>\n",
              "      <th>2</th>\n",
              "      <td>A1F1A0QQP2XVH5</td>\n",
              "      <td>B00000JBLH</td>\n",
              "      <td>Mark B</td>\n",
              "      <td>[3, 3]</td>\n",
              "      <td>I have an HP 48GX that has been kicking for mo...</td>\n",
              "      <td>2</td>\n",
              "      <td>Good functionality, but not durable like old HPs</td>\n",
              "      <td>1293840000</td>\n",
              "      <td>01 1, 2011</td>\n",
              "    </tr>\n",
              "    <tr>\n",
              "      <th>3</th>\n",
              "      <td>A49R5DBXXQDE5</td>\n",
              "      <td>B00000JBLH</td>\n",
              "      <td>R. D Johnson</td>\n",
              "      <td>[7, 8]</td>\n",
              "      <td>I've started doing more finance stuff recently...</td>\n",
              "      <td>5</td>\n",
              "      <td>One of the last of an almost extinct species</td>\n",
              "      <td>1145404800</td>\n",
              "      <td>04 19, 2006</td>\n",
              "    </tr>\n",
              "    <tr>\n",
              "      <th>4</th>\n",
              "      <td>A2XRMQA6PJ5ZJ8</td>\n",
              "      <td>B00000JBLH</td>\n",
              "      <td>Roger J. Buffington</td>\n",
              "      <td>[0, 0]</td>\n",
              "      <td>For simple calculations and discounted cash fl...</td>\n",
              "      <td>5</td>\n",
              "      <td>Still the best</td>\n",
              "      <td>1375574400</td>\n",
              "      <td>08 4, 2013</td>\n",
              "    </tr>\n",
              "  </tbody>\n",
              "</table>\n",
              "</div>"
            ],
            "text/plain": [
              "       reviewerID        asin  ... unixReviewTime   reviewTime\n",
              "0  A32T2H8150OJLU  B00000JBLH  ...     1094169600   09 3, 2004\n",
              "1  A3MAFS04ZABRGO  B00000JBLH  ...     1197676800  12 15, 2007\n",
              "2  A1F1A0QQP2XVH5  B00000JBLH  ...     1293840000   01 1, 2011\n",
              "3   A49R5DBXXQDE5  B00000JBLH  ...     1145404800  04 19, 2006\n",
              "4  A2XRMQA6PJ5ZJ8  B00000JBLH  ...     1375574400   08 4, 2013\n",
              "\n",
              "[5 rows x 9 columns]"
            ]
          },
          "metadata": {
            "tags": []
          },
          "execution_count": 2
        }
      ]
    },
    {
      "cell_type": "code",
      "metadata": {
        "id": "SaeYGhD750MK",
        "colab_type": "code",
        "outputId": "b1ded632-55bf-444f-8abf-2e29ff8f1858",
        "colab": {
          "base_uri": "https://localhost:8080/",
          "height": 34
        }
      },
      "source": [
        "np.shape(df)"
      ],
      "execution_count": 6,
      "outputs": [
        {
          "output_type": "execute_result",
          "data": {
            "text/plain": [
              "(53258, 9)"
            ]
          },
          "metadata": {
            "tags": []
          },
          "execution_count": 6
        }
      ]
    },
    {
      "cell_type": "code",
      "metadata": {
        "id": "DfVbhduK7T1X",
        "colab_type": "code",
        "outputId": "bb0da662-d4f9-40e0-df3b-2ab0a228e43d",
        "colab": {
          "base_uri": "https://localhost:8080/",
          "height": 153
        }
      },
      "source": [
        "import nltk\n",
        "nltk.download('punkt')\n",
        "nltk.download('wordnet')\n",
        "nltk.download('averaged_perceptron_tagger')"
      ],
      "execution_count": 5,
      "outputs": [
        {
          "output_type": "stream",
          "text": [
            "[nltk_data] Downloading package punkt to /root/nltk_data...\n",
            "[nltk_data]   Unzipping tokenizers/punkt.zip.\n",
            "[nltk_data] Downloading package wordnet to /root/nltk_data...\n",
            "[nltk_data]   Unzipping corpora/wordnet.zip.\n",
            "[nltk_data] Downloading package averaged_perceptron_tagger to\n",
            "[nltk_data]     /root/nltk_data...\n",
            "[nltk_data]   Unzipping taggers/averaged_perceptron_tagger.zip.\n"
          ],
          "name": "stdout"
        },
        {
          "output_type": "execute_result",
          "data": {
            "text/plain": [
              "True"
            ]
          },
          "metadata": {
            "tags": []
          },
          "execution_count": 5
        }
      ]
    },
    {
      "cell_type": "markdown",
      "metadata": {
        "id": "cTSqizgT7jGU",
        "colab_type": "text"
      },
      "source": [
        "Word Tokenizer\n"
      ]
    },
    {
      "cell_type": "code",
      "metadata": {
        "id": "K6h1QzKk50PK",
        "colab_type": "code",
        "colab": {}
      },
      "source": [
        "from nltk.tokenize import word_tokenize"
      ],
      "execution_count": 0,
      "outputs": []
    },
    {
      "cell_type": "code",
      "metadata": {
        "id": "rurUg1L_6tf2",
        "colab_type": "code",
        "outputId": "1d0c380a-6c1e-4757-b2d3-ed5d641f080c",
        "colab": {
          "base_uri": "https://localhost:8080/",
          "height": 54
        }
      },
      "source": [
        "#text =df.reviewText[0]\n",
        "text=word_tokenize(df.reviewText[0])\n",
        "print(text)\n"
      ],
      "execution_count": 8,
      "outputs": [
        {
          "output_type": "stream",
          "text": [
            "['I', 'bought', 'my', 'first', 'HP12C', 'in', 'about', '1984', 'or', 'so', ',', 'and', 'it', 'served', 'me', 'faithfully', 'until', '2002', 'when', 'I', 'lost', 'it', 'while', 'travelling', '.', 'I', 'searched', 'for', 'another', 'one', 'to', 'replace', 'it', ',', 'but', 'found', 'one', 'difficult', 'to', 'come', 'by', 'in', 'my', 'area', '.', 'So', ',', 'I', 'decided', 'to', 'buy', 'up', 'and', 'purchased', 'an', 'HP', '49G', '.', 'What', 'a', 'mistake', '!', 'I', 'know', 'that', 'many', 'people', 'view', 'the', 'HP', '49G', '(', 'now', '49G+', ')', 'as', 'the', 'flagship', 'of', 'the', 'HP', 'line', ',', 'but', 'for', 'me', 'that', 'was', 'a', 'disaster.The', '49G', 'may', 'be', 'powerful', ',', 'but', 'using', 'it', 'is', 'extremely', 'counterintuitive', '...', 'and', 'the', 'manual', 'was', 'sketchy', 'at', 'best', '.', 'The', '12C', ',', 'on', 'the', 'other', 'hand', ',', 'does', 'what', 'I', 'need', 'in', 'a', 'way', 'that', 'makes', 'good', 'sense', 'to', 'me.If', 'you', 'are', 'looking', 'for', 'a', 'solid', ',', 'reliable', 'calculator', ',', 'the', 'HP12C', 'may', 'be', 'for', 'you', '.', 'It', \"'s\", 'programmable', '.', 'It', 'does', 'basic', 'statistics', 'well', ',', 'and', 'many', 'business', 'applications', 'too', '.', 'The', 'manual', 'makes', 'sense', ';', 'you', 'will', 'be', 'up', 'and', 'running', 'in', 'short', 'order.I', \"'m\", 'ready', 'to', 'set', 'my', '49G', 'aside', 'and', 'move', 'back', 'to', 'my', 'old', 'friend', '.', 'I', 'did', \"n't\", 'even', 'have', 'to', 'replace', 'the', 'batteries', 'in', 'well', 'over', 'a', 'decade', 'of', 'use', '!', 'HP', '12C', ',', 'I', \"'m\", 'coming', 'home', '!']\n"
          ],
          "name": "stdout"
        }
      ]
    },
    {
      "cell_type": "code",
      "metadata": {
        "id": "KFUoPpIH8AyO",
        "colab_type": "code",
        "outputId": "9140ff05-b9fe-45a7-b414-ef878c8b4341",
        "colab": {
          "base_uri": "https://localhost:8080/",
          "height": 54
        }
      },
      "source": [
        "from nltk.tokenize import MWETokenizer \n",
        "tokenizer = MWETokenizer()\n",
        "textmw= tokenizer.tokenize(df.reviewText[0].split())\n",
        "print(textmw)"
      ],
      "execution_count": 9,
      "outputs": [
        {
          "output_type": "stream",
          "text": [
            "['I', 'bought', 'my', 'first', 'HP12C', 'in', 'about', '1984', 'or', 'so,', 'and', 'it', 'served', 'me', 'faithfully', 'until', '2002', 'when', 'I', 'lost', 'it', 'while', 'travelling.', 'I', 'searched', 'for', 'another', 'one', 'to', 'replace', 'it,', 'but', 'found', 'one', 'difficult', 'to', 'come', 'by', 'in', 'my', 'area.', 'So,', 'I', 'decided', 'to', 'buy', 'up', 'and', 'purchased', 'an', 'HP', '49G.', 'What', 'a', 'mistake!', 'I', 'know', 'that', 'many', 'people', 'view', 'the', 'HP', '49G', '(now', '49G+)', 'as', 'the', 'flagship', 'of', 'the', 'HP', 'line,', 'but', 'for', 'me', 'that', 'was', 'a', 'disaster.The', '49G', 'may', 'be', 'powerful,', 'but', 'using', 'it', 'is', 'extremely', 'counterintuitive...and', 'the', 'manual', 'was', 'sketchy', 'at', 'best.', 'The', '12C,', 'on', 'the', 'other', 'hand,', 'does', 'what', 'I', 'need', 'in', 'a', 'way', 'that', 'makes', 'good', 'sense', 'to', 'me.If', 'you', 'are', 'looking', 'for', 'a', 'solid,', 'reliable', 'calculator,', 'the', 'HP12C', 'may', 'be', 'for', 'you.', \"It's\", 'programmable.', 'It', 'does', 'basic', 'statistics', 'well,', 'and', 'many', 'business', 'applications', 'too.', 'The', 'manual', 'makes', 'sense;', 'you', 'will', 'be', 'up', 'and', 'running', 'in', 'short', \"order.I'm\", 'ready', 'to', 'set', 'my', '49G', 'aside', 'and', 'move', 'back', 'to', 'my', 'old', 'friend.', 'I', \"didn't\", 'even', 'have', 'to', 'replace', 'the', 'batteries', 'in', 'well', 'over', 'a', 'decade', 'of', 'use!HP', '12C,', \"I'm\", 'coming', 'home!']\n"
          ],
          "name": "stdout"
        }
      ]
    },
    {
      "cell_type": "code",
      "metadata": {
        "id": "ClOndpzi8A2A",
        "colab_type": "code",
        "outputId": "ae25be0d-26c3-4696-f560-bc1c1e46d214",
        "colab": {
          "base_uri": "https://localhost:8080/",
          "height": 54
        }
      },
      "source": [
        "from nltk.stem import WordNetLemmatizer \n",
        "lemmatizer = WordNetLemmatizer()\n",
        "text3=lemmatizer.lemmatize(df.reviewText[10])\n",
        "print(text3)"
      ],
      "execution_count": 10,
      "outputs": [
        {
          "output_type": "stream",
          "text": [
            "I've had mine for 4 years now and use it almost daily.  Never had any problems with it even after a few drops to the carpeted floor.  Large easy to read keys with a nice feel, not too hard - not too soft.  Large easy to read display.  All in all, good calculator for everyday basic functions.\n"
          ],
          "name": "stdout"
        }
      ]
    },
    {
      "cell_type": "code",
      "metadata": {
        "id": "dhO3aoLQ-Zfc",
        "colab_type": "code",
        "outputId": "516c61cd-1ee8-4f3c-c8bc-be8b1a0c76d7",
        "colab": {
          "base_uri": "https://localhost:8080/",
          "height": 54
        }
      },
      "source": [
        "import nltk\n",
        "print(nltk.pos_tag(text))"
      ],
      "execution_count": 11,
      "outputs": [
        {
          "output_type": "stream",
          "text": [
            "[('I', 'PRP'), ('bought', 'VBD'), ('my', 'PRP$'), ('first', 'JJ'), ('HP12C', 'NNP'), ('in', 'IN'), ('about', 'RB'), ('1984', 'CD'), ('or', 'CC'), ('so', 'RB'), (',', ','), ('and', 'CC'), ('it', 'PRP'), ('served', 'VBD'), ('me', 'PRP'), ('faithfully', 'RB'), ('until', 'IN'), ('2002', 'CD'), ('when', 'WRB'), ('I', 'PRP'), ('lost', 'VBD'), ('it', 'PRP'), ('while', 'IN'), ('travelling', 'VBG'), ('.', '.'), ('I', 'PRP'), ('searched', 'VBD'), ('for', 'IN'), ('another', 'DT'), ('one', 'CD'), ('to', 'TO'), ('replace', 'VB'), ('it', 'PRP'), (',', ','), ('but', 'CC'), ('found', 'VBD'), ('one', 'CD'), ('difficult', 'JJ'), ('to', 'TO'), ('come', 'VB'), ('by', 'IN'), ('in', 'IN'), ('my', 'PRP$'), ('area', 'NN'), ('.', '.'), ('So', 'RB'), (',', ','), ('I', 'PRP'), ('decided', 'VBD'), ('to', 'TO'), ('buy', 'VB'), ('up', 'RP'), ('and', 'CC'), ('purchased', 'VBD'), ('an', 'DT'), ('HP', 'NNP'), ('49G', 'CD'), ('.', '.'), ('What', 'WP'), ('a', 'DT'), ('mistake', 'NN'), ('!', '.'), ('I', 'PRP'), ('know', 'VBP'), ('that', 'IN'), ('many', 'JJ'), ('people', 'NNS'), ('view', 'VBP'), ('the', 'DT'), ('HP', 'NNP'), ('49G', 'CD'), ('(', '('), ('now', 'RB'), ('49G+', 'CD'), (')', ')'), ('as', 'IN'), ('the', 'DT'), ('flagship', 'NN'), ('of', 'IN'), ('the', 'DT'), ('HP', 'NNP'), ('line', 'NN'), (',', ','), ('but', 'CC'), ('for', 'IN'), ('me', 'PRP'), ('that', 'DT'), ('was', 'VBD'), ('a', 'DT'), ('disaster.The', 'JJ'), ('49G', 'CD'), ('may', 'MD'), ('be', 'VB'), ('powerful', 'JJ'), (',', ','), ('but', 'CC'), ('using', 'VBG'), ('it', 'PRP'), ('is', 'VBZ'), ('extremely', 'RB'), ('counterintuitive', 'JJ'), ('...', ':'), ('and', 'CC'), ('the', 'DT'), ('manual', 'NN'), ('was', 'VBD'), ('sketchy', 'VBN'), ('at', 'IN'), ('best', 'JJS'), ('.', '.'), ('The', 'DT'), ('12C', 'CD'), (',', ','), ('on', 'IN'), ('the', 'DT'), ('other', 'JJ'), ('hand', 'NN'), (',', ','), ('does', 'VBZ'), ('what', 'WP'), ('I', 'PRP'), ('need', 'VBP'), ('in', 'IN'), ('a', 'DT'), ('way', 'NN'), ('that', 'WDT'), ('makes', 'VBZ'), ('good', 'JJ'), ('sense', 'NN'), ('to', 'TO'), ('me.If', 'VB'), ('you', 'PRP'), ('are', 'VBP'), ('looking', 'VBG'), ('for', 'IN'), ('a', 'DT'), ('solid', 'JJ'), (',', ','), ('reliable', 'JJ'), ('calculator', 'NN'), (',', ','), ('the', 'DT'), ('HP12C', 'NNP'), ('may', 'MD'), ('be', 'VB'), ('for', 'IN'), ('you', 'PRP'), ('.', '.'), ('It', 'PRP'), (\"'s\", 'VBZ'), ('programmable', 'JJ'), ('.', '.'), ('It', 'PRP'), ('does', 'VBZ'), ('basic', 'JJ'), ('statistics', 'NNS'), ('well', 'RB'), (',', ','), ('and', 'CC'), ('many', 'JJ'), ('business', 'NN'), ('applications', 'NNS'), ('too', 'RB'), ('.', '.'), ('The', 'DT'), ('manual', 'JJ'), ('makes', 'VBZ'), ('sense', 'NN'), (';', ':'), ('you', 'PRP'), ('will', 'MD'), ('be', 'VB'), ('up', 'RB'), ('and', 'CC'), ('running', 'VBG'), ('in', 'IN'), ('short', 'JJ'), ('order.I', 'NN'), (\"'m\", 'VBP'), ('ready', 'JJ'), ('to', 'TO'), ('set', 'VB'), ('my', 'PRP$'), ('49G', 'CD'), ('aside', 'RB'), ('and', 'CC'), ('move', 'VB'), ('back', 'RB'), ('to', 'TO'), ('my', 'PRP$'), ('old', 'JJ'), ('friend', 'NN'), ('.', '.'), ('I', 'PRP'), ('did', 'VBD'), (\"n't\", 'RB'), ('even', 'RB'), ('have', 'VB'), ('to', 'TO'), ('replace', 'VB'), ('the', 'DT'), ('batteries', 'NNS'), ('in', 'IN'), ('well', 'RB'), ('over', 'IN'), ('a', 'DT'), ('decade', 'NN'), ('of', 'IN'), ('use', 'NN'), ('!', '.'), ('HP', 'NNP'), ('12C', 'CD'), (',', ','), ('I', 'PRP'), (\"'m\", 'VBP'), ('coming', 'VBG'), ('home', 'NN'), ('!', '.')]\n"
          ],
          "name": "stdout"
        }
      ]
    },
    {
      "cell_type": "code",
      "metadata": {
        "id": "xO4NCv9O8BIa",
        "colab_type": "code",
        "colab": {}
      },
      "source": [
        "#Function to run pipeline on entire dataset\n",
        "def pip(data):\n",
        "  text=word_tokenize(data)\n",
        "  tokenizer = MWETokenizer()\n",
        "  textmw= tokenizer.tokenize(data.split())\n",
        "  lemmatizer = WordNetLemmatizer()\n",
        "  text3=lemmatizer.lemmatize(data)\n",
        "  text4=nltk.pos_tag(data)\n",
        "  words={\"tokenizer\":text,\"lemmetizer\":text3, \"pos_tag\":text4}\n",
        "  return words\n",
        "\n",
        "\n",
        "\n"
      ],
      "execution_count": 0,
      "outputs": []
    },
    {
      "cell_type": "code",
      "metadata": {
        "id": "obqcX-ffyw8e",
        "colab_type": "code",
        "colab": {}
      },
      "source": [
        "df[\"words\"]=df.reviewText.apply(pip)"
      ],
      "execution_count": 0,
      "outputs": []
    },
    {
      "cell_type": "code",
      "metadata": {
        "id": "VTxpFbqEAvdP",
        "colab_type": "code",
        "colab": {}
      },
      "source": [
        "#Only adjectives\n",
        "pos_tag=nltk.pos_tag(text)\n",
        "adj=[]\n",
        "for item in pos_tag:\n",
        "    if item[1] == 'JJ':\n",
        "      adj.append(item[0])"
      ],
      "execution_count": 0,
      "outputs": []
    },
    {
      "cell_type": "code",
      "metadata": {
        "id": "RE_zMHS-CZ2A",
        "colab_type": "code",
        "outputId": "fa9c04b6-117d-487b-c73c-f7a4f5f71641",
        "colab": {
          "base_uri": "https://localhost:8080/",
          "height": 306
        }
      },
      "source": [
        "adj"
      ],
      "execution_count": 0,
      "outputs": [
        {
          "output_type": "execute_result",
          "data": {
            "text/plain": [
              "['first',\n",
              " 'difficult',\n",
              " 'many',\n",
              " 'disaster.The',\n",
              " 'powerful',\n",
              " 'counterintuitive',\n",
              " 'other',\n",
              " 'good',\n",
              " 'solid',\n",
              " 'reliable',\n",
              " 'programmable',\n",
              " 'basic',\n",
              " 'many',\n",
              " 'manual',\n",
              " 'short',\n",
              " 'ready',\n",
              " 'old']"
            ]
          },
          "metadata": {
            "tags": []
          },
          "execution_count": 49
        }
      ]
    },
    {
      "cell_type": "code",
      "metadata": {
        "id": "9RcU-AEmDnoc",
        "colab_type": "code",
        "outputId": "3507380a-7845-46a9-e900-223b3511fad5",
        "colab": {
          "base_uri": "https://localhost:8080/",
          "height": 34
        }
      },
      "source": [
        "print(lemmatizer.lemmatize(\"better\", pos=\"a\"))"
      ],
      "execution_count": 0,
      "outputs": [
        {
          "output_type": "stream",
          "text": [
            "good\n"
          ],
          "name": "stdout"
        }
      ]
    }
  ]
}